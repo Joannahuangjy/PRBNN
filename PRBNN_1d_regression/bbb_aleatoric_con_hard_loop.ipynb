{
 "cells": [
  {
   "cell_type": "code",
   "execution_count": 24,
   "metadata": {
    "collapsed": false
   },
   "outputs": [
   ],
   "source": [
    "# import GPy\n",
    "import time\n",
    "import copy\n",
    "import math\n",
    "\n",
    "import matplotlib.pyplot as plt\n",
    "import numpy as np\n",
    "import seaborn as sns\n",
    "\n",
    "import torch\n",
    "import torch.nn as nn\n",
    "import torch.nn.functional as F\n",
    "from torch.autograd import Variable\n",
    "from torch.optim import Optimizer\n",
    "\n",
    "from torchvision import datasets, transforms\n",
    "from torchvision.utils import make_grid\n",
    "from tqdm import tqdm, trange\n",
    "# from google.colab import files\n",
    "import PIL\n",
    "%config InlineBackend.figure_format = 'svg'\n",
    "import tqdm"
   ]
  },
  {
   "cell_type": "code",
   "execution_count": 25,
   "metadata": {
    "collapsed": false
   },
   "outputs": [
   ],
   "source": [
    "# help(\"modules\")"
   ]
  },
  {
   "cell_type": "code",
   "execution_count": 26,
   "metadata": {
    "collapsed": false
   },
   "outputs": [
   ],
   "source": [
    "# torch.cuda.device(0)\n",
    "device=torch.device(\"cuda:2\")"
   ]
  },
  {
   "cell_type": "code",
   "execution_count": 27,
   "metadata": {
    "collapsed": false
   },
   "outputs": [
   ],
   "source": [
    "def to_variable(var=(), cuda=True, volatile=False):\n",
    "    out = []\n",
    "    for v in var:\n",
    "\n",
    "        if isinstance(v, np.ndarray):\n",
    "            v = torch.from_numpy(v).type(torch.FloatTensor)\n",
    "\n",
    "        if not v.is_cuda and cuda:\n",
    "            v = v.to(device)\n",
    "\n",
    "        if not isinstance(v, Variable):\n",
    "            v = Variable(v, volatile=volatile)\n",
    "\n",
    "        out.append(v)\n",
    "    return out"
   ]
  },
  {
   "cell_type": "code",
   "execution_count": 28,
   "metadata": {
    "collapsed": false
   },
   "outputs": [
   ],
   "source": [
    "# @pysnooper.snop\n",
    "\n",
    "def log_gaussian_loss(output, target, sigma, no_dim):\n",
    "    exponent = -0.5*(target - output)**2/sigma**2   #exponent is negative term\n",
    "    \n",
    "    log_coeff = -no_dim*torch.log(sigma)  #sigma here means exp(sigma), so log_coeff=sigma.\n",
    "#    \n",
    "#     print(exponent.sum(),log_coeff*len(exponent))\n",
    "    \n",
    "    return - ( exponent+log_coeff).sum()\n",
    "\n",
    "\n",
    "def get_kl_divergence(weights, prior, varpost):\n",
    "    prior_loglik = prior.loglik(weights)\n",
    "    \n",
    "    varpost_loglik = varpost.loglik(weights)\n",
    "    varpost_lik = varpost_loglik.exp()\n",
    "    \n",
    "    return (varpost_lik*(varpost_loglik - prior_loglik)).sum()\n",
    "\n",
    "\n",
    "class gaussian:\n",
    "    def __init__(self, mu, sigma):\n",
    "        self.mu = mu\n",
    "        self.sigma = sigma\n",
    "        \n",
    "    def loglik(self, weights):\n",
    "        exponent = -0.5*(weights - self.mu)**2/self.sigma**2\n",
    "        log_coeff = -0.5*(np.log(2*np.pi) +2*np.log(self.sigma))\n",
    "        \n",
    "        return (exponent + log_coeff).sum()"
   ]
  },
  {
   "cell_type": "code",
   "execution_count": 29,
   "metadata": {
    "collapsed": false
   },
   "outputs": [
   ],
   "source": [
    "class BayesLinear_Normalq(nn.Module):\n",
    "    def __init__(self, input_dim, output_dim, prior):\n",
    "        super(BayesLinear_Normalq, self).__init__()\n",
    "        self.input_dim = input_dim\n",
    "        self.output_dim = output_dim\n",
    "        self.prior = prior\n",
    "        \n",
    "        scale = (1/self.input_dim)**0.5\n",
    "        rho_init = np.log(np.exp((2/self.input_dim)**0.5) - 1)\n",
    "        self.weight_mus = nn.Parameter(torch.Tensor(self.input_dim, self.output_dim).uniform_(-0.05, 0.05))\n",
    "        self.weight_rhos = nn.Parameter(torch.Tensor(self.input_dim, self.output_dim).uniform_(-2, -1))\n",
    "        \n",
    "        self.bias_mus = nn.Parameter(torch.Tensor(self.output_dim).uniform_(-0.05, 0.05))\n",
    "        self.bias_rhos = nn.Parameter(torch.Tensor(self.output_dim).uniform_(-2, -1))\n",
    "        \n",
    "    def forward(self, x, sample = True):\n",
    "\n",
    "        \n",
    "        if sample:\n",
    "            # sample gaussian noise for each weight and each bias\n",
    "            weight_epsilons = Variable(self.weight_mus.data.new(self.weight_mus.size()).normal_())\n",
    "            bias_epsilons =  Variable(self.bias_mus.data.new(self.bias_mus.size()).normal_())\n",
    "            \n",
    "            # calculate the weight and bias stds from the rho parameters\n",
    "            weight_stds = torch.log(1 + torch.exp(self.weight_rhos))\n",
    "            bias_stds = torch.log(1 + torch.exp(self.bias_rhos))\n",
    "            \n",
    "            # calculate samples from the posterior from the sampled noise and mus/stds\n",
    "            weight_sample = self.weight_mus + weight_epsilons*weight_stds\n",
    "            bias_sample = self.bias_mus + bias_epsilons*bias_stds\n",
    "            \n",
    "            output = torch.mm(x, weight_sample) + bias_sample\n",
    "            \n",
    "            # computing the KL loss term\n",
    "            prior_cov, varpost_cov = self.prior.sigma**2, weight_stds**2\n",
    "            KL_loss = 0.5*(torch.log(prior_cov/varpost_cov)).sum() - 0.5*weight_stds.numel()\n",
    "            KL_loss = KL_loss + 0.5*(varpost_cov/prior_cov).sum()\n",
    "            KL_loss = KL_loss + 0.5*((self.weight_mus - self.prior.mu)**2/prior_cov).sum()\n",
    "            \n",
    "            prior_cov, varpost_cov = self.prior.sigma**2, bias_stds**2\n",
    "            KL_loss = KL_loss + 0.5*(torch.log(prior_cov/varpost_cov)).sum() - 0.5*bias_stds.numel()\n",
    "            KL_loss = KL_loss + 0.5*(varpost_cov/prior_cov).sum()\n",
    "            KL_loss = KL_loss + 0.5*((self.bias_mus - self.prior.mu)**2/prior_cov).sum()\n",
    "            \n",
    "            return output, KL_loss\n",
    "        \n",
    "        else:\n",
    "            output = torch.mm(x, self.weight_mus) + self.bias_mus\n",
    "            return output, KL_loss\n",
    "        \n",
    "    def sample_layer(self, no_samples):\n",
    "        all_samples = []\n",
    "        for i in range(no_samples):\n",
    "            # sample gaussian noise for each weight and each bias\n",
    "            weight_epsilons = Variable(self.weight_mus.data.new(self.weight_mus.size()).normal_())\n",
    "            \n",
    "            # calculate the weight and bias stds from the rho parameters\n",
    "            weight_stds = torch.log(1 + torch.exp(self.weight_rhos))\n",
    "            \n",
    "            # calculate samples from the posterior from the sampled noise and mus/stds\n",
    "            weight_sample = self.weight_mus + weight_epsilons*weight_stds\n",
    "            \n",
    "            all_samples += weight_sample.view(-1).cpu().data.numpy().tolist()\n",
    "            \n",
    "        return all_samples"
   ]
  },
  {
   "cell_type": "code",
   "execution_count": 88,
   "metadata": {
    "collapsed": false
   },
   "outputs": [
   ],
   "source": [
    "class BBP_Homoscedastic_Model(nn.Module):\n",
    "    def __init__(self, input_dim, output_dim, no_units, init_log_noise):\n",
    "        super(BBP_Homoscedastic_Model, self).__init__()\n",
    "        \n",
    "        self.input_dim = input_dim\n",
    "        self.output_dim = output_dim\n",
    "        \n",
    "        # network with two hidden and one output layer\n",
    "\n",
    "        self.layer1 = BayesLinear_Normalq(input_dim, no_units, gaussian(0, 1))\n",
    "        self.layer2 = BayesLinear_Normalq(no_units, output_dim, gaussian(0,1))\n",
    "        \n",
    "        # activation to be used between hidden layers\n",
    "        self.activation = nn.ReLU(inplace = True)\n",
    "        self.log_noise = nn.Parameter(torch.FloatTensor([init_log_noise]))\n",
    "\n",
    "\n",
    "    \n",
    "    def forward(self, x):\n",
    "        \n",
    "\n",
    "        KL_loss_total = 0\n",
    "        x = x.view(-1, self.input_dim)\n",
    "        \n",
    "        x, KL_loss = self.layer1(x)\n",
    "\n",
    "        KL_loss_total = KL_loss_total + KL_loss\n",
    "        x = self.activation(x)\n",
    "        \n",
    "        x, KL_loss = self.layer2(x)\n",
    "        KL_loss_total = KL_loss_total + KL_loss\n",
    "        \n",
    "        return x, KL_loss_total"
   ]
  },
  {
   "cell_type": "code",
   "execution_count": 92,
   "metadata": {
    "collapsed": false
   },
   "outputs": [
   ],
   "source": [
    "s1=1\n",
    "s2=1\n",
    "s3=1\n",
    "rho1=1\n",
    "rho2=1\n",
    "rho3=1\n",
    "from IPython.core.debugger import set_trace\n",
    "class BBP_Homoscedastic_Model_Wrapper:\n",
    "    def __init__(self, input_dim, output_dim, no_units, learn_rate, batch_size, no_batches, init_log_noise):\n",
    "        \n",
    "\n",
    "\n",
    "        self.learn_rate = learn_rate\n",
    "        self.batch_size = batch_size\n",
    "        self.no_batches = no_batches\n",
    "        self.network = BBP_Homoscedastic_Model(input_dim = input_dim, output_dim = output_dim,\n",
    "                                               no_units = no_units, init_log_noise = init_log_noise)\n",
    "        self.network.to(device)\n",
    "        self.optimizer = torch.optim.Adam(self.network.parameters(), lr =self.learn_rate)\n",
    "        self.loss_func = log_gaussian_loss\n",
    "\n",
    "    def fit(self, x, y, no_samples):\n",
    "        x, y = to_variable(var=(x, y), cuda=True)\n",
    "        # reset gradient and total loss\n",
    "        self.optimizer.zero_grad()\n",
    "        fit_loss_total = 0\n",
    "        KL_loss_total=0\n",
    "        c_loss=torch.zeros(no_samples, 1)\n",
    "        x_point=torch.linspace(0.08,1.0,50).to(device)\n",
    "        c1= torch.zeros(no_samples).to(device)\n",
    "        c2= torch.zeros(no_samples).to(device)\n",
    "        c3= torch.zeros(no_samples).to(device)\n",
    "\n",
    "        for i in range(no_samples):\n",
    "            output, KL_loss_total = self.network(x)\n",
    "            sample_output,_=self.network(x_point)\n",
    "            diff_vector=torch.diff(sample_output,dim=0)+1e-6\n",
    "            diff_vector[diff_vector>0]=1e-8\n",
    "            diff1=fun_UB(x_point).unsqueeze(1).to(device)-sample_output  #ub\n",
    "            diff1[diff1>0]=1e-8\n",
    "            diff2=sample_output-torch.FloatTensor(constant_function(0)(x_point)).unsqueeze(1).to(device)#lb\n",
    "            diff2[diff2>0]=1e-8\n",
    "            fit_loss_total = fit_loss_total + self.loss_func(output, y, self.network.log_noise.exp(), self.network.output_dim)\n",
    "            c1[i]=torch.mean(diff_vector)\n",
    "            c2[i]=torch.mean(diff1)\n",
    "            c3[i]=torch.mean(diff2)\n",
    "        c1_mean=c1.mean()\n",
    "        c2_mean=c2.mean()\n",
    "        c3_mean=c3.mean()\n",
    "        c1_loss=-0.5*s1**2/(rho1+1e-8)+0.5*rho1*((c1_mean-s1/rho1)**2)*(rho1*c1_mean<=s1)\n",
    "        c2_loss=-0.5*s2**2/(rho2+1e-8)+0.5*rho2*((c2_mean-s2/rho2)**2)*(rho2*c2_mean<=s2)\n",
    "        c3_loss=-0.5*s3**2/(rho3+1e-8)+0.5*rho3*((c3_mean-s1/rho3)**2)*(rho3*c3_mean<=s3)   \n",
    "\n",
    "        \n",
    "        KL_loss_avg = KL_loss_total/self.no_batches\n",
    "        total_loss = (fit_loss_total+KL_loss_avg )/(no_samples*x.shape[0])+c1_loss+c2_loss+c3_loss\n",
    "        total_loss.backward()\n",
    "        self.optimizer.step()\n",
    "\n",
    "        return fit_loss_total/no_samples, KL_loss_total,c1_mean,c2_mean,c3_mean,c1_loss,c2_loss,c3_loss"
   ]
  },
  {
   "cell_type": "markdown",
   "metadata": {
    "collapsed": false
   },
   "source": [
    "# Generate data\n"
   ]
  },
  {
   "cell_type": "code",
   "execution_count": 93,
   "metadata": {
    "collapsed": false
   },
   "outputs": [
    {
     "name": "stdout",
     "output_type": "stream",
     "text": [
      "0.39002997648690874 0.15905669404006317 0.330080644951817 0.31368231521073986\n"
     ]
    }
   ],
   "source": [
    "torch.random.seed()\n",
    "no_points = 300\n",
    "lengthscale = 1\n",
    "variance = 1.0\n",
    "sig_noise = 0.1\n",
    "def fun(x):\n",
    "    return (np.arctan(20*x - 10) - np.arctan(-10))/3        \n",
    "def constant_function(val):\n",
    "    \"\"\" Return the constant function\"\"\"\n",
    "    def fun(x):\n",
    "        return torch.zeros(x.shape[0])+val\n",
    "    \n",
    "    return fun\n",
    "\n",
    "def fun_UB(x):\n",
    "    \"\"\" Upper bound function \"\"\"\n",
    "    return torch.log(25*x.flatten() + 1)/3+0.05      \n",
    "\n",
    "\n",
    "\n",
    "x_test = np.linspace(0.08, 1, 100)\n",
    "y_true = fun(x_test)\n",
    "\n",
    "n = 100\n",
    "noise_std = 0.1\n",
    "np.random.seed(1)\n",
    "x_design = np.random.uniform(0.1, 0.65, n)\n",
    "x_design.sort(axis = 0)\n",
    "np.random.seed(10)\n",
    "y_design = fun(x_design) + np.random.normal(0, noise_std, n)\n",
    "\n",
    "positive_index=np.where(y_design>=0)[0]\n",
    "x_design=x_design[positive_index]\n",
    "y_design=y_design[positive_index]\n",
    "# diff_y=np.diff(y_design)\n",
    "# print(diff_y)\n",
    "# mono_index=(np.where(diff_y<1e-8))[0]+1\n",
    "train=np.stack((x_design,y_design),axis=-1)\n",
    "np.random.shuffle(train)\n",
    "\n",
    "x_mean, x_std = x_design.mean(), x_design.var()**0.5\n",
    "y_mean, y_std = y_design.mean(), y_design.var()**0.5\n",
    "x_train=  torch.FloatTensor(x_design[:,np.newaxis])      \n",
    "y_train=  torch.FloatTensor(y_design[:,np.newaxis])      \n",
    "x_test=  torch.FloatTensor(x_test)      \n",
    "y_true=  torch.FloatTensor(y_true)   \n",
    "print(x_mean, x_std,y_mean, y_std)\n",
    "\n",
    "\n",
    "sigma=0.1\n",
    "\n",
    "ntrain=n"
   ]
  },
  {
   "cell_type": "code",
   "execution_count": 94,
   "metadata": {
    "collapsed": false
   },
   "outputs": [
    {
     "name": "stderr",
     "output_type": "stream",
     "text": [
      "/env/miniconda3/envs/py37/lib/python3.7/site-packages/ipykernel_launcher.py:25: UserWarning: To copy construct from a tensor, it is recommended to use sourceTensor.clone().detach() or sourceTensor.clone().detach().requires_grad_(True), rather than torch.tensor(sourceTensor).\n",
      "/env/miniconda3/envs/py37/lib/python3.7/site-packages/ipykernel_launcher.py:26: UserWarning: To copy construct from a tensor, it is recommended to use sourceTensor.clone().detach() or sourceTensor.clone().detach().requires_grad_(True), rather than torch.tensor(sourceTensor).\n",
      "/env/miniconda3/envs/py37/lib/python3.7/site-packages/ipykernel_launcher.py:27: UserWarning: To copy construct from a tensor, it is recommended to use sourceTensor.clone().detach() or sourceTensor.clone().detach().requires_grad_(True), rather than torch.tensor(sourceTensor).\n"
     ]
    },
    {
     "name": "stdout",
     "output_type": "stream",
     "text": [
      "Epoch:     1/ 6000, Fit loss =   12.205, KL loss =  339.965, c1 Loss =  -0.001,s1 =   1.001,c2 Loss =   0.000,s2 =   1.000,c3 Loss =  -0.122, s3 =   1.122,noise =  0.995\n"
     ]
    },
    {
     "name": "stdout",
     "output_type": "stream",
     "text": [
      "Epoch:   101/ 6000, Fit loss =  -28.867, KL loss =  325.474, c1 Loss =  -0.001,s1 =   1.111,c2 Loss =  -0.125,s2 =   3.144,c3 Loss =  -0.017, s3 =   3.874,noise =  0.619\n"
     ]
    },
    {
     "name": "stdout",
     "output_type": "stream",
     "text": [
      "Epoch:   201/ 6000, Fit loss =  -53.085, KL loss =  315.051, c1 Loss =  -0.000,s1 =   1.165,c2 Loss =   0.000,s2 =   3.519,c3 Loss =   0.000, s3 =   4.701,noise =  0.424\n"
     ]
    },
    {
     "name": "stdout",
     "output_type": "stream",
     "text": [
      "Epoch:   301/ 6000, Fit loss =  -63.673, KL loss =  310.257, c1 Loss =   0.000,s1 =   1.187,c2 Loss =  -0.004,s2 =   3.924,c3 Loss =  -0.000, s3 =   5.188,noise =  0.330\n"
     ]
    },
    {
     "name": "stdout",
     "output_type": "stream",
     "text": [
      "Epoch:   401/ 6000, Fit loss =  -80.475, KL loss =  307.077, c1 Loss =  -0.000,s1 =   1.195,c2 Loss =  -0.003,s2 =   4.572,c3 Loss =   0.000, s3 =   5.308,noise =  0.281\n"
     ]
    },
    {
     "name": "stdout",
     "output_type": "stream",
     "text": [
      "Epoch:   501/ 6000, Fit loss =  -82.277, KL loss =  305.759, c1 Loss =   0.000,s1 =   1.200,c2 Loss =  -0.008,s2 =   5.389,c3 Loss =  -0.000, s3 =   5.377,noise =  0.246\n"
     ]
    },
    {
     "name": "stdout",
     "output_type": "stream",
     "text": [
      "Epoch:   601/ 6000, Fit loss =  -92.295, KL loss =  304.190, c1 Loss =  -0.000,s1 =   1.205,c2 Loss =  -0.040,s2 =   6.231,c3 Loss =  -0.000, s3 =   5.445,noise =  0.217\n"
     ]
    },
    {
     "name": "stdout",
     "output_type": "stream",
     "text": [
      "Epoch:   701/ 6000, Fit loss = -100.525, KL loss =  301.570, c1 Loss =  -0.000,s1 =   1.213,c2 Loss =  -0.001,s2 =   6.902,c3 Loss =   0.000, s3 =   5.497,noise =  0.198\n"
     ]
    },
    {
     "name": "stdout",
     "output_type": "stream",
     "text": [
      "Epoch:   801/ 6000, Fit loss = -109.135, KL loss =  296.204, c1 Loss =  -0.000,s1 =   1.224,c2 Loss =  -0.003,s2 =   7.606,c3 Loss =   0.000, s3 =   5.524,noise =  0.179\n"
     ]
    },
    {
     "name": "stdout",
     "output_type": "stream",
     "text": [
      "Epoch:   901/ 6000, Fit loss = -101.599, KL loss =  291.437, c1 Loss =  -0.000,s1 =   1.235,c2 Loss =  -0.003,s2 =   8.430,c3 Loss =   0.000, s3 =   5.539,noise =  0.171\n"
     ]
    },
    {
     "name": "stdout",
     "output_type": "stream",
     "text": [
      "Epoch:  1001/ 6000, Fit loss = -103.522, KL loss =  286.218, c1 Loss =  -0.000,s1 =   1.245,c2 Loss =  -0.005,s2 =   9.124,c3 Loss =   0.000, s3 =   5.542,noise =  0.168\n"
     ]
    },
    {
     "name": "stdout",
     "output_type": "stream",
     "text": [
      "Epoch:  1101/ 6000, Fit loss = -115.536, KL loss =  278.474, c1 Loss =  -0.000,s1 =   1.254,c2 Loss =  -0.002,s2 =   9.783,c3 Loss =   0.000, s3 =   5.545,noise =  0.165\n"
     ]
    },
    {
     "name": "stdout",
     "output_type": "stream",
     "text": [
      "Epoch:  1201/ 6000, Fit loss = -115.904, KL loss =  274.577, c1 Loss =   0.000,s1 =   1.260,c2 Loss =  -0.009,s2 =  10.330,c3 Loss =   0.000, s3 =   5.589,noise =  0.166\n"
     ]
    },
    {
     "name": "stdout",
     "output_type": "stream",
     "text": [
      "Epoch:  1301/ 6000, Fit loss = -120.056, KL loss =  269.428, c1 Loss =  -0.000,s1 =   1.267,c2 Loss =  -0.002,s2 =  10.834,c3 Loss =   0.000, s3 =   5.600,noise =  0.163\n"
     ]
    },
    {
     "name": "stdout",
     "output_type": "stream",
     "text": [
      "Epoch:  1401/ 6000, Fit loss = -121.189, KL loss =  266.513, c1 Loss =  -0.000,s1 =   1.273,c2 Loss =   0.000,s2 =  11.333,c3 Loss =   0.000, s3 =   5.616,noise =  0.151\n"
     ]
    },
    {
     "name": "stdout",
     "output_type": "stream",
     "text": [
      "Epoch:  1501/ 6000, Fit loss = -141.217, KL loss =  264.888, c1 Loss =   0.000,s1 =   1.280,c2 Loss =  -0.000,s2 =  11.555,c3 Loss =   0.000, s3 =   5.657,noise =  0.127\n"
     ]
    },
    {
     "name": "stdout",
     "output_type": "stream",
     "text": [
      "Epoch:  1601/ 6000, Fit loss = -154.240, KL loss =  261.666, c1 Loss =   0.000,s1 =   1.288,c2 Loss =  -0.000,s2 =  11.737,c3 Loss =   0.000, s3 =   5.687,noise =  0.109\n"
     ]
    },
    {
     "name": "stdout",
     "output_type": "stream",
     "text": [
      "Epoch:  1701/ 6000, Fit loss = -155.367, KL loss =  260.015, c1 Loss =  -0.000,s1 =   1.299,c2 Loss =   0.000,s2 =  11.864,c3 Loss =   0.000, s3 =   5.693,noise =  0.102\n"
     ]
    },
    {
     "name": "stdout",
     "output_type": "stream",
     "text": [
      "Epoch:  1801/ 6000, Fit loss = -150.930, KL loss =  255.774, c1 Loss =  -0.000,s1 =   1.319,c2 Loss =   0.000,s2 =  11.923,c3 Loss =   0.000, s3 =   5.705,noise =  0.099\n"
     ]
    },
    {
     "name": "stdout",
     "output_type": "stream",
     "text": [
      "Epoch:  1901/ 6000, Fit loss = -158.265, KL loss =  255.238, c1 Loss =  -0.001,s1 =   1.359,c2 Loss =   0.000,s2 =  12.037,c3 Loss =   0.000, s3 =   5.711,noise =  0.099\n"
     ]
    },
    {
     "name": "stdout",
     "output_type": "stream",
     "text": [
      "Epoch:  2001/ 6000, Fit loss = -162.744, KL loss =  252.418, c1 Loss =  -0.001,s1 =   1.443,c2 Loss =   0.000,s2 =  12.112,c3 Loss =   0.000, s3 =   5.739,noise =  0.096\n"
     ]
    },
    {
     "name": "stdout",
     "output_type": "stream",
     "text": [
      "Epoch:  2101/ 6000, Fit loss = -161.439, KL loss =  248.931, c1 Loss =  -0.000,s1 =   1.496,c2 Loss =  -0.000,s2 =  12.154,c3 Loss =   0.000, s3 =   5.746,noise =  0.100\n"
     ]
    },
    {
     "name": "stdout",
     "output_type": "stream",
     "text": [
      "Epoch:  2201/ 6000, Fit loss = -162.203, KL loss =  246.520, c1 Loss =  -0.001,s1 =   1.567,c2 Loss =   0.000,s2 =  12.197,c3 Loss =   0.000, s3 =   5.748,noise =  0.096\n"
     ]
    },
    {
     "name": "stdout",
     "output_type": "stream",
     "text": [
      "Epoch:  2301/ 6000, Fit loss = -161.890, KL loss =  244.716, c1 Loss =  -0.003,s1 =   1.646,c2 Loss =   0.000,s2 =  12.243,c3 Loss =   0.000, s3 =   5.766,noise =  0.100\n"
     ]
    },
    {
     "name": "stdout",
     "output_type": "stream",
     "text": [
      "Epoch:  2401/ 6000, Fit loss = -147.552, KL loss =  241.972, c1 Loss =  -0.001,s1 =   1.740,c2 Loss =   0.000,s2 =  12.277,c3 Loss =   0.000, s3 =   5.805,noise =  0.098\n"
     ]
    },
    {
     "name": "stdout",
     "output_type": "stream",
     "text": [
      "Epoch:  2501/ 6000, Fit loss = -159.042, KL loss =  239.047, c1 Loss =  -0.001,s1 =   1.841,c2 Loss =  -0.003,s2 =  12.319,c3 Loss =   0.000, s3 =   5.860,noise =  0.096\n"
     ]
    },
    {
     "name": "stdout",
     "output_type": "stream",
     "text": [
      "Epoch:  2601/ 6000, Fit loss = -161.973, KL loss =  238.489, c1 Loss =  -0.001,s1 =   1.974,c2 Loss =   0.000,s2 =  12.359,c3 Loss =   0.000, s3 =   5.865,noise =  0.097\n"
     ]
    },
    {
     "name": "stdout",
     "output_type": "stream",
     "text": [
      "Epoch:  2701/ 6000, Fit loss = -161.898, KL loss =  238.667, c1 Loss =  -0.000,s1 =   2.085,c2 Loss =   0.000,s2 =  12.407,c3 Loss =   0.000, s3 =   5.871,noise =  0.095\n"
     ]
    },
    {
     "name": "stdout",
     "output_type": "stream",
     "text": [
      "Epoch:  2801/ 6000, Fit loss = -162.168, KL loss =  237.132, c1 Loss =  -0.002,s1 =   2.187,c2 Loss =  -0.006,s2 =  12.433,c3 Loss =   0.000, s3 =   5.871,noise =  0.097\n"
     ]
    },
    {
     "name": "stdout",
     "output_type": "stream",
     "text": [
      "Epoch:  2901/ 6000, Fit loss = -163.113, KL loss =  236.637, c1 Loss =  -0.002,s1 =   2.329,c2 Loss =   0.000,s2 =  12.523,c3 Loss =   0.000, s3 =   5.911,noise =  0.095\n"
     ]
    },
    {
     "name": "stdout",
     "output_type": "stream",
     "text": [
      "Epoch:  3001/ 6000, Fit loss = -162.444, KL loss =  236.087, c1 Loss =  -0.001,s1 =   2.478,c2 Loss =   0.000,s2 =  12.553,c3 Loss =   0.000, s3 =   5.915,noise =  0.095\n"
     ]
    },
    {
     "name": "stdout",
     "output_type": "stream",
     "text": [
      "Epoch:  3101/ 6000, Fit loss = -162.981, KL loss =  233.954, c1 Loss =  -0.001,s1 =   2.563,c2 Loss =   0.000,s2 =  12.580,c3 Loss =   0.000, s3 =   5.915,noise =  0.095\n"
     ]
    },
    {
     "name": "stdout",
     "output_type": "stream",
     "text": [
      "Epoch:  3201/ 6000, Fit loss = -162.823, KL loss =  233.120, c1 Loss =  -0.001,s1 =   2.651,c2 Loss =   0.000,s2 =  12.621,c3 Loss =   0.000, s3 =   5.926,noise =  0.094\n"
     ]
    },
    {
     "name": "stdout",
     "output_type": "stream",
     "text": [
      "Epoch:  3301/ 6000, Fit loss = -162.764, KL loss =  230.078, c1 Loss =  -0.001,s1 =   2.738,c2 Loss =   0.000,s2 =  12.677,c3 Loss =   0.000, s3 =   5.926,noise =  0.100\n"
     ]
    },
    {
     "name": "stdout",
     "output_type": "stream",
     "text": [
      "Epoch:  3401/ 6000, Fit loss = -162.471, KL loss =  229.169, c1 Loss =  -0.001,s1 =   2.834,c2 Loss =   0.000,s2 =  12.803,c3 Loss =   0.000, s3 =   5.928,noise =  0.095\n"
     ]
    },
    {
     "name": "stdout",
     "output_type": "stream",
     "text": [
      "Epoch:  3501/ 6000, Fit loss = -162.251, KL loss =  230.117, c1 Loss =  -0.000,s1 =   2.914,c2 Loss =   0.000,s2 =  12.911,c3 Loss =   0.000, s3 =   5.935,noise =  0.102\n"
     ]
    },
    {
     "name": "stdout",
     "output_type": "stream",
     "text": [
      "Epoch:  3601/ 6000, Fit loss = -161.650, KL loss =  230.068, c1 Loss =  -0.001,s1 =   2.992,c2 Loss =   0.000,s2 =  13.004,c3 Loss =   0.000, s3 =   5.938,noise =  0.106\n"
     ]
    },
    {
     "name": "stdout",
     "output_type": "stream",
     "text": [
      "Epoch:  3701/ 6000, Fit loss = -162.219, KL loss =  230.804, c1 Loss =  -0.000,s1 =   3.057,c2 Loss =   0.000,s2 =  13.089,c3 Loss =   0.000, s3 =   5.938,noise =  0.096\n"
     ]
    },
    {
     "name": "stdout",
     "output_type": "stream",
     "text": [
      "Epoch:  3801/ 6000, Fit loss = -162.379, KL loss =  230.883, c1 Loss =  -0.001,s1 =   3.161,c2 Loss =   0.000,s2 =  13.148,c3 Loss =   0.000, s3 =   5.938,noise =  0.096\n"
     ]
    },
    {
     "name": "stdout",
     "output_type": "stream",
     "text": [
      "Epoch:  3901/ 6000, Fit loss = -162.027, KL loss =  228.726, c1 Loss =  -0.001,s1 =   3.237,c2 Loss =  -0.000,s2 =  13.172,c3 Loss =   0.000, s3 =   5.952,noise =  0.094\n"
     ]
    },
    {
     "name": "stdout",
     "output_type": "stream",
     "text": [
      "Epoch:  4001/ 6000, Fit loss = -157.050, KL loss =  225.197, c1 Loss =  -0.000,s1 =   3.284,c2 Loss =   0.000,s2 =  13.183,c3 Loss =   0.000, s3 =   5.956,noise =  0.094\n"
     ]
    },
    {
     "name": "stdout",
     "output_type": "stream",
     "text": [
      "Epoch:  4101/ 6000, Fit loss = -163.095, KL loss =  226.189, c1 Loss =  -0.001,s1 =   3.363,c2 Loss =   0.000,s2 =  13.271,c3 Loss =   0.000, s3 =   5.973,noise =  0.096\n"
     ]
    },
    {
     "name": "stdout",
     "output_type": "stream",
     "text": [
      "Epoch:  4201/ 6000, Fit loss = -162.299, KL loss =  226.869, c1 Loss =  -0.001,s1 =   3.455,c2 Loss =   0.000,s2 =  13.347,c3 Loss =   0.000, s3 =   6.114,noise =  0.096\n"
     ]
    },
    {
     "name": "stdout",
     "output_type": "stream",
     "text": [
      "Epoch:  4301/ 6000, Fit loss = -153.501, KL loss =  226.026, c1 Loss =  -0.000,s1 =   3.518,c2 Loss =   0.000,s2 =  13.364,c3 Loss =   0.000, s3 =   6.123,noise =  0.095\n"
     ]
    },
    {
     "name": "stdout",
     "output_type": "stream",
     "text": [
      "Epoch:  4401/ 6000, Fit loss = -162.321, KL loss =  227.668, c1 Loss =  -0.001,s1 =   3.567,c2 Loss =   0.000,s2 =  13.390,c3 Loss =   0.000, s3 =   6.133,noise =  0.097\n"
     ]
    },
    {
     "name": "stdout",
     "output_type": "stream",
     "text": [
      "Epoch:  4501/ 6000, Fit loss = -159.759, KL loss =  227.802, c1 Loss =  -0.001,s1 =   3.629,c2 Loss =   0.000,s2 =  13.481,c3 Loss =   0.000, s3 =   6.157,noise =  0.096\n"
     ]
    },
    {
     "name": "stdout",
     "output_type": "stream",
     "text": [
      "Epoch:  4601/ 6000, Fit loss = -162.685, KL loss =  227.275, c1 Loss =  -0.000,s1 =   3.679,c2 Loss =   0.000,s2 =  13.491,c3 Loss =   0.000, s3 =   6.167,noise =  0.095\n"
     ]
    },
    {
     "name": "stdout",
     "output_type": "stream",
     "text": [
      "Epoch:  4701/ 6000, Fit loss = -162.787, KL loss =  227.708, c1 Loss =  -0.001,s1 =   3.722,c2 Loss =   0.000,s2 =  13.558,c3 Loss =   0.000, s3 =   6.170,noise =  0.095\n"
     ]
    },
    {
     "name": "stdout",
     "output_type": "stream",
     "text": [
      "Epoch:  4801/ 6000, Fit loss = -161.600, KL loss =  227.457, c1 Loss =  -0.001,s1 =   3.760,c2 Loss =   0.000,s2 =  13.652,c3 Loss =   0.000, s3 =   6.194,noise =  0.095\n"
     ]
    },
    {
     "name": "stdout",
     "output_type": "stream",
     "text": [
      "Epoch:  4901/ 6000, Fit loss = -161.877, KL loss =  227.763, c1 Loss =  -0.000,s1 =   3.810,c2 Loss =   0.000,s2 =  13.669,c3 Loss =   0.000, s3 =   6.207,noise =  0.095\n"
     ]
    },
    {
     "name": "stdout",
     "output_type": "stream",
     "text": [
      "Epoch:  5001/ 6000, Fit loss = -162.279, KL loss =  225.986, c1 Loss =  -0.001,s1 =   3.860,c2 Loss =  -0.006,s2 =  13.714,c3 Loss =   0.000, s3 =   6.215,noise =  0.094\n"
     ]
    },
    {
     "name": "stdout",
     "output_type": "stream",
     "text": [
      "Epoch:  5101/ 6000, Fit loss = -156.311, KL loss =  225.675, c1 Loss =  -0.000,s1 =   3.919,c2 Loss =   0.000,s2 =  13.792,c3 Loss =   0.000, s3 =   6.233,noise =  0.094\n"
     ]
    },
    {
     "name": "stdout",
     "output_type": "stream",
     "text": [
      "Epoch:  5201/ 6000, Fit loss = -162.202, KL loss =  225.382, c1 Loss =  -0.000,s1 =   3.958,c2 Loss =   0.000,s2 =  13.838,c3 Loss =   0.000, s3 =   6.235,noise =  0.095\n"
     ]
    },
    {
     "name": "stdout",
     "output_type": "stream",
     "text": [
      "Epoch:  5301/ 6000, Fit loss = -161.699, KL loss =  223.524, c1 Loss =  -0.000,s1 =   4.005,c2 Loss =   0.000,s2 =  13.939,c3 Loss =   0.000, s3 =   6.251,noise =  0.096\n"
     ]
    },
    {
     "name": "stdout",
     "output_type": "stream",
     "text": [
      "Epoch:  5401/ 6000, Fit loss = -163.168, KL loss =  223.903, c1 Loss =  -0.000,s1 =   4.058,c2 Loss =   0.000,s2 =  13.977,c3 Loss =   0.000, s3 =   6.253,noise =  0.097\n"
     ]
    },
    {
     "name": "stdout",
     "output_type": "stream",
     "text": [
      "Epoch:  5501/ 6000, Fit loss = -162.310, KL loss =  222.846, c1 Loss =  -0.000,s1 =   4.096,c2 Loss =  -0.003,s2 =  14.004,c3 Loss =   0.000, s3 =   6.256,noise =  0.095\n"
     ]
    },
    {
     "name": "stdout",
     "output_type": "stream",
     "text": [
      "Epoch:  5601/ 6000, Fit loss = -162.986, KL loss =  221.923, c1 Loss =  -0.000,s1 =   4.135,c2 Loss =   0.000,s2 =  14.081,c3 Loss =   0.000, s3 =   6.269,noise =  0.094\n"
     ]
    },
    {
     "name": "stdout",
     "output_type": "stream",
     "text": [
      "Epoch:  5701/ 6000, Fit loss = -162.459, KL loss =  223.216, c1 Loss =  -0.001,s1 =   4.197,c2 Loss =   0.000,s2 =  14.154,c3 Loss =   0.000, s3 =   6.333,noise =  0.095\n"
     ]
    },
    {
     "name": "stdout",
     "output_type": "stream",
     "text": [
      "Epoch:  5801/ 6000, Fit loss = -160.019, KL loss =  224.392, c1 Loss =  -0.000,s1 =   4.251,c2 Loss =   0.000,s2 =  14.267,c3 Loss =   0.000, s3 =   6.388,noise =  0.100\n"
     ]
    },
    {
     "name": "stdout",
     "output_type": "stream",
     "text": [
      "Epoch:  5901/ 6000, Fit loss = -162.998, KL loss =  223.442, c1 Loss =  -0.000,s1 =   4.319,c2 Loss =   0.000,s2 =  14.336,c3 Loss =   0.000, s3 =   6.412,noise =  0.095\n"
     ]
    },
    {
     "name": "stdout",
     "output_type": "stream",
     "text": [
      "Epoch:  6000/ 6000, Fit loss = -155.286, KL loss =  225.670, c1 Loss =  -0.000,s1 =   4.360,c2 Loss =   0.000,s2 =  14.414,c3 Loss =   0.000, s3 =   6.412,noise =  0.104\n"
     ]
    }
   ],
   "source": [
    "\n",
    "num_epochs, batch_size, nb_train = 6000, len(x_train), len(x_train)\n",
    "net = BBP_Homoscedastic_Model_Wrapper(input_dim = 1, output_dim = 1, no_units = 100, learn_rate =0.005,\n",
    "                                      batch_size = batch_size, no_batches = 1, init_log_noise = 0)\n",
    "\n",
    "constraint_loss=np.zeros(num_epochs)\n",
    "fit_loss_train = np.zeros(num_epochs)\n",
    "KL_loss_train = np.zeros(num_epochs)\n",
    "all_loss = np.zeros(num_epochs)\n",
    "c1_m=np.zeros(num_epochs)\n",
    "c2_m=np.zeros(num_epochs)\n",
    "c3_m=np.zeros(num_epochs)\n",
    "best_net, best_loss = None, float('inf')\n",
    "\n",
    "\n",
    "for i in range(num_epochs):\n",
    "    rho1=rho1\n",
    "    rho2=rho2\n",
    "    rho3=rho3\n",
    "    fit_loss, KL_loss,c1_avg,c2_avg,c3_avg,phi1,phi2,phi3 = net.fit(x_train, y_train, no_samples = 5)\n",
    "    fit_loss_train[i] += fit_loss.cpu().data.numpy()\n",
    "    KL_loss_train[i] += KL_loss.cpu().data.numpy()\n",
    "    c1_m[i]=c1_avg.cpu().data.numpy()\n",
    "    c2_m[i]=c2_avg.cpu().data.numpy()\n",
    "    c3_m[i]=c3_avg.cpu().data.numpy()\n",
    "    s1=torch.max(torch.tensor(0.),s1-rho1*torch.tensor(c1_avg.clone()))     \n",
    "    s2=torch.max(torch.tensor(0.),s2-rho2*torch.tensor(c2_avg.clone()))\n",
    "    s3=torch.max(torch.tensor(0.),s3-rho3*torch.tensor(c3_avg.clone()))\n",
    "    all_loss[i] = fit_loss_train[i] + KL_loss_train[i]+c1_m[i]+c2_m[i]+c3_m[i]\n",
    "    loss_compare= fit_loss\n",
    "    if loss_compare< best_loss:\n",
    "        best_loss = loss_compare\n",
    "        best_net = copy.deepcopy(net.network)\n",
    "        \n",
    "    if i % 100 == 0 or i == num_epochs - 1:\n",
    "        \n",
    "        print(\"Epoch: %5d/%5d, Fit loss = %8.3f, KL loss = %8.3f, c1 Loss =%8.3f,s1 =%8.3f,c2 Loss =%8.3f,s2 =%8.3f,c3 Loss =%8.3f, s3 =%8.3f,noise = %6.3f\" %\n",
    "              (i + 1, num_epochs, fit_loss_train[i], KL_loss_train[i],c1_avg,s1,c2_avg,s2,c3_avg,s3, net.network.log_noise.exp().cpu().data.numpy()))"
   ]
  },
  {
   "cell_type": "code",
   "execution_count": 95,
   "metadata": {
    "collapsed": false
   },
   "outputs": [
    {
     "data": {
      "image/svg+xml": "<?xml version=\"1.0\" encoding=\"utf-8\" standalone=\"no\"?>\n<!DOCTYPE svg PUBLIC \"-//W3C//DTD SVG 1.1//EN\"\n  \"http://www.w3.org/Graphics/SVG/1.1/DTD/svg11.dtd\">\n<!-- Created with matplotlib (https://matplotlib.org/) -->\n<svg height=\"325.755469pt\" version=\"1.1\" viewBox=\"0 0 402.1125 325.755469\" width=\"402.1125pt\" xmlns=\"http://www.w3.org/2000/svg\" xmlns:xlink=\"http://www.w3.org/1999/xlink\">\n <metadata>\n  <rdf:RDF xmlns:cc=\"http://creativecommons.org/ns#\" xmlns:dc=\"http://purl.org/dc/elements/1.1/\" xmlns:rdf=\"http://www.w3.org/1999/02/22-rdf-syntax-ns#\">\n   <cc:Work>\n    <dc:type rdf:resource=\"http://purl.org/dc/dcmitype/StillImage\"/>\n    <dc:date>2022-09-05T05:28:47.070571</dc:date>\n    <dc:format>image/svg+xml</dc:format>\n    <dc:creator>\n     <cc:Agent>\n      <dc:title>Matplotlib v3.3.4, https://matplotlib.org/</dc:title>\n     </cc:Agent>\n    </dc:creator>\n   </cc:Work>\n  </rdf:RDF>\n </metadata>\n <defs>\n  <style type=\"text/css\">*{stroke-linecap:butt;stroke-linejoin:round;}</style>\n </defs>\n <g id=\"figure_1\">\n  <g id=\"patch_1\">\n   <path d=\"M 0 325.755469 \nL 402.1125 325.755469 \nL 402.1125 0 \nL 0 0 \nz\n\" style=\"fill:#ffffff;\"/>\n  </g>\n  <g id=\"axes_1\">\n   <g id=\"patch_2\">\n    <path d=\"M 52.160938 288.199219 \nL 386.960938 288.199219 \nL 386.960938 10.999219 \nL 52.160938 10.999219 \nz\n\" style=\"fill:#ffffff;\"/>\n   </g>\n   <g id=\"PathCollection_1\">\n    <defs>\n     <path d=\"M -1.581139 1.581139 \nL 1.581139 -1.581139 \nM -1.581139 -1.581139 \nL 1.581139 1.581139 \n\" id=\"m290826d658\" style=\"stroke:#000000;stroke-opacity:0.5;stroke-width:1.5;\"/>\n    </defs>\n    <g clip-path=\"url(#pa8f24e9f13)\">\n     <use style=\"fill-opacity:0.5;stroke:#000000;stroke-opacity:0.5;stroke-width:1.5;\" x=\"59.462091\" xlink:href=\"#m290826d658\" y=\"217.081465\"/>\n     <use style=\"fill-opacity:0.5;stroke:#000000;stroke-opacity:0.5;stroke-width:1.5;\" x=\"60.013702\" xlink:href=\"#m290826d658\" y=\"223.897775\"/>\n     <use style=\"fill-opacity:0.5;stroke:#000000;stroke-opacity:0.5;stroke-width:1.5;\" x=\"63.315538\" xlink:href=\"#m290826d658\" y=\"231.815375\"/>\n     <use style=\"fill-opacity:0.5;stroke:#000000;stroke-opacity:0.5;stroke-width:1.5;\" x=\"64.920884\" xlink:href=\"#m290826d658\" y=\"224.77954\"/>\n     <use style=\"fill-opacity:0.5;stroke:#000000;stroke-opacity:0.5;stroke-width:1.5;\" x=\"69.43749\" xlink:href=\"#m290826d658\" y=\"228.567718\"/>\n     <use style=\"fill-opacity:0.5;stroke:#000000;stroke-opacity:0.5;stroke-width:1.5;\" x=\"70.119826\" xlink:href=\"#m290826d658\" y=\"230.283476\"/>\n     <use style=\"fill-opacity:0.5;stroke:#000000;stroke-opacity:0.5;stroke-width:1.5;\" x=\"76.460984\" xlink:href=\"#m290826d658\" y=\"231.198135\"/>\n     <use style=\"fill-opacity:0.5;stroke:#000000;stroke-opacity:0.5;stroke-width:1.5;\" x=\"79.123532\" xlink:href=\"#m290826d658\" y=\"226.335884\"/>\n     <use style=\"fill-opacity:0.5;stroke:#000000;stroke-opacity:0.5;stroke-width:1.5;\" x=\"79.921655\" xlink:href=\"#m290826d658\" y=\"217.764613\"/>\n     <use style=\"fill-opacity:0.5;stroke:#000000;stroke-opacity:0.5;stroke-width:1.5;\" x=\"82.405855\" xlink:href=\"#m290826d658\" y=\"219.595747\"/>\n     <use style=\"fill-opacity:0.5;stroke:#000000;stroke-opacity:0.5;stroke-width:1.5;\" x=\"85.464701\" xlink:href=\"#m290826d658\" y=\"228.324936\"/>\n     <use style=\"fill-opacity:0.5;stroke:#000000;stroke-opacity:0.5;stroke-width:1.5;\" x=\"86.955062\" xlink:href=\"#m290826d658\" y=\"225.854904\"/>\n     <use style=\"fill-opacity:0.5;stroke:#000000;stroke-opacity:0.5;stroke-width:1.5;\" x=\"87.53795\" xlink:href=\"#m290826d658\" y=\"229.264582\"/>\n     <use style=\"fill-opacity:0.5;stroke:#000000;stroke-opacity:0.5;stroke-width:1.5;\" x=\"88.807243\" xlink:href=\"#m290826d658\" y=\"214.241375\"/>\n     <use style=\"fill-opacity:0.5;stroke:#000000;stroke-opacity:0.5;stroke-width:1.5;\" x=\"96.719587\" xlink:href=\"#m290826d658\" y=\"227.339692\"/>\n     <use style=\"fill-opacity:0.5;stroke:#000000;stroke-opacity:0.5;stroke-width:1.5;\" x=\"99.089644\" xlink:href=\"#m290826d658\" y=\"203.710285\"/>\n     <use style=\"fill-opacity:0.5;stroke:#000000;stroke-opacity:0.5;stroke-width:1.5;\" x=\"100.360758\" xlink:href=\"#m290826d658\" y=\"217.620424\"/>\n     <use style=\"fill-opacity:0.5;stroke:#000000;stroke-opacity:0.5;stroke-width:1.5;\" x=\"101.797027\" xlink:href=\"#m290826d658\" y=\"211.447101\"/>\n     <use style=\"fill-opacity:0.5;stroke:#000000;stroke-opacity:0.5;stroke-width:1.5;\" x=\"106.880666\" xlink:href=\"#m290826d658\" y=\"228.566876\"/>\n     <use style=\"fill-opacity:0.5;stroke:#000000;stroke-opacity:0.5;stroke-width:1.5;\" x=\"112.588937\" xlink:href=\"#m290826d658\" y=\"213.756851\"/>\n     <use style=\"fill-opacity:0.5;stroke:#000000;stroke-opacity:0.5;stroke-width:1.5;\" x=\"113.465852\" xlink:href=\"#m290826d658\" y=\"232.198346\"/>\n     <use style=\"fill-opacity:0.5;stroke:#000000;stroke-opacity:0.5;stroke-width:1.5;\" x=\"115.570678\" xlink:href=\"#m290826d658\" y=\"222.225356\"/>\n     <use style=\"fill-opacity:0.5;stroke:#000000;stroke-opacity:0.5;stroke-width:1.5;\" x=\"117.038057\" xlink:href=\"#m290826d658\" y=\"231.868207\"/>\n     <use style=\"fill-opacity:0.5;stroke:#000000;stroke-opacity:0.5;stroke-width:1.5;\" x=\"119.95172\" xlink:href=\"#m290826d658\" y=\"227.181927\"/>\n     <use style=\"fill-opacity:0.5;stroke:#000000;stroke-opacity:0.5;stroke-width:1.5;\" x=\"122.590333\" xlink:href=\"#m290826d658\" y=\"213.903314\"/>\n     <use style=\"fill-opacity:0.5;stroke:#000000;stroke-opacity:0.5;stroke-width:1.5;\" x=\"128.603931\" xlink:href=\"#m290826d658\" y=\"225.6392\"/>\n     <use style=\"fill-opacity:0.5;stroke:#000000;stroke-opacity:0.5;stroke-width:1.5;\" x=\"129.045286\" xlink:href=\"#m290826d658\" y=\"223.315593\"/>\n     <use style=\"fill-opacity:0.5;stroke:#000000;stroke-opacity:0.5;stroke-width:1.5;\" x=\"129.271956\" xlink:href=\"#m290826d658\" y=\"231.471732\"/>\n     <use style=\"fill-opacity:0.5;stroke:#000000;stroke-opacity:0.5;stroke-width:1.5;\" x=\"138.853069\" xlink:href=\"#m290826d658\" y=\"212.590298\"/>\n     <use style=\"fill-opacity:0.5;stroke:#000000;stroke-opacity:0.5;stroke-width:1.5;\" x=\"141.128662\" xlink:href=\"#m290826d658\" y=\"218.865564\"/>\n     <use style=\"fill-opacity:0.5;stroke:#000000;stroke-opacity:0.5;stroke-width:1.5;\" x=\"142.313409\" xlink:href=\"#m290826d658\" y=\"229.892908\"/>\n     <use style=\"fill-opacity:0.5;stroke:#000000;stroke-opacity:0.5;stroke-width:1.5;\" x=\"142.907056\" xlink:href=\"#m290826d658\" y=\"231.333695\"/>\n     <use style=\"fill-opacity:0.5;stroke:#000000;stroke-opacity:0.5;stroke-width:1.5;\" x=\"143.341894\" xlink:href=\"#m290826d658\" y=\"228.196023\"/>\n     <use style=\"fill-opacity:0.5;stroke:#000000;stroke-opacity:0.5;stroke-width:1.5;\" x=\"143.724803\" xlink:href=\"#m290826d658\" y=\"229.535359\"/>\n     <use style=\"fill-opacity:0.5;stroke:#000000;stroke-opacity:0.5;stroke-width:1.5;\" x=\"145.122576\" xlink:href=\"#m290826d658\" y=\"222.078666\"/>\n     <use style=\"fill-opacity:0.5;stroke:#000000;stroke-opacity:0.5;stroke-width:1.5;\" x=\"149.086058\" xlink:href=\"#m290826d658\" y=\"218.549286\"/>\n     <use style=\"fill-opacity:0.5;stroke:#000000;stroke-opacity:0.5;stroke-width:1.5;\" x=\"149.490095\" xlink:href=\"#m290826d658\" y=\"226.371201\"/>\n     <use style=\"fill-opacity:0.5;stroke:#000000;stroke-opacity:0.5;stroke-width:1.5;\" x=\"157.828633\" xlink:href=\"#m290826d658\" y=\"223.124588\"/>\n     <use style=\"fill-opacity:0.5;stroke:#000000;stroke-opacity:0.5;stroke-width:1.5;\" x=\"162.495377\" xlink:href=\"#m290826d658\" y=\"218.289231\"/>\n     <use style=\"fill-opacity:0.5;stroke:#000000;stroke-opacity:0.5;stroke-width:1.5;\" x=\"166.153386\" xlink:href=\"#m290826d658\" y=\"226.240531\"/>\n     <use style=\"fill-opacity:0.5;stroke:#000000;stroke-opacity:0.5;stroke-width:1.5;\" x=\"166.70003\" xlink:href=\"#m290826d658\" y=\"212.200202\"/>\n     <use style=\"fill-opacity:0.5;stroke:#000000;stroke-opacity:0.5;stroke-width:1.5;\" x=\"167.284535\" xlink:href=\"#m290826d658\" y=\"210.49235\"/>\n     <use style=\"fill-opacity:0.5;stroke:#000000;stroke-opacity:0.5;stroke-width:1.5;\" x=\"171.262181\" xlink:href=\"#m290826d658\" y=\"215.906882\"/>\n     <use style=\"fill-opacity:0.5;stroke:#000000;stroke-opacity:0.5;stroke-width:1.5;\" x=\"174.262391\" xlink:href=\"#m290826d658\" y=\"190.138\"/>\n     <use style=\"fill-opacity:0.5;stroke:#000000;stroke-opacity:0.5;stroke-width:1.5;\" x=\"174.350088\" xlink:href=\"#m290826d658\" y=\"206.471379\"/>\n     <use style=\"fill-opacity:0.5;stroke:#000000;stroke-opacity:0.5;stroke-width:1.5;\" x=\"175.205132\" xlink:href=\"#m290826d658\" y=\"217.427029\"/>\n     <use style=\"fill-opacity:0.5;stroke:#000000;stroke-opacity:0.5;stroke-width:1.5;\" x=\"176.839466\" xlink:href=\"#m290826d658\" y=\"219.259107\"/>\n     <use style=\"fill-opacity:0.5;stroke:#000000;stroke-opacity:0.5;stroke-width:1.5;\" x=\"177.389981\" xlink:href=\"#m290826d658\" y=\"217.483809\"/>\n     <use style=\"fill-opacity:0.5;stroke:#000000;stroke-opacity:0.5;stroke-width:1.5;\" x=\"182.962094\" xlink:href=\"#m290826d658\" y=\"216.500423\"/>\n     <use style=\"fill-opacity:0.5;stroke:#000000;stroke-opacity:0.5;stroke-width:1.5;\" x=\"183.872949\" xlink:href=\"#m290826d658\" y=\"197.652685\"/>\n     <use style=\"fill-opacity:0.5;stroke:#000000;stroke-opacity:0.5;stroke-width:1.5;\" x=\"184.268548\" xlink:href=\"#m290826d658\" y=\"217.560139\"/>\n     <use style=\"fill-opacity:0.5;stroke:#000000;stroke-opacity:0.5;stroke-width:1.5;\" x=\"192.22846\" xlink:href=\"#m290826d658\" y=\"201.911372\"/>\n     <use style=\"fill-opacity:0.5;stroke:#000000;stroke-opacity:0.5;stroke-width:1.5;\" x=\"192.29914\" xlink:href=\"#m290826d658\" y=\"206.784383\"/>\n     <use style=\"fill-opacity:0.5;stroke:#000000;stroke-opacity:0.5;stroke-width:1.5;\" x=\"193.634725\" xlink:href=\"#m290826d658\" y=\"187.428305\"/>\n     <use style=\"fill-opacity:0.5;stroke:#000000;stroke-opacity:0.5;stroke-width:1.5;\" x=\"195.30961\" xlink:href=\"#m290826d658\" y=\"212.209025\"/>\n     <use style=\"fill-opacity:0.5;stroke:#000000;stroke-opacity:0.5;stroke-width:1.5;\" x=\"196.587367\" xlink:href=\"#m290826d658\" y=\"198.419414\"/>\n     <use style=\"fill-opacity:0.5;stroke:#000000;stroke-opacity:0.5;stroke-width:1.5;\" x=\"196.843852\" xlink:href=\"#m290826d658\" y=\"195.320266\"/>\n     <use style=\"fill-opacity:0.5;stroke:#000000;stroke-opacity:0.5;stroke-width:1.5;\" x=\"197.919905\" xlink:href=\"#m290826d658\" y=\"188.568315\"/>\n     <use style=\"fill-opacity:0.5;stroke:#000000;stroke-opacity:0.5;stroke-width:1.5;\" x=\"198.009076\" xlink:href=\"#m290826d658\" y=\"186.841307\"/>\n     <use style=\"fill-opacity:0.5;stroke:#000000;stroke-opacity:0.5;stroke-width:1.5;\" x=\"198.424902\" xlink:href=\"#m290826d658\" y=\"193.60302\"/>\n     <use style=\"fill-opacity:0.5;stroke:#000000;stroke-opacity:0.5;stroke-width:1.5;\" x=\"199.497355\" xlink:href=\"#m290826d658\" y=\"178.281811\"/>\n     <use style=\"fill-opacity:0.5;stroke:#000000;stroke-opacity:0.5;stroke-width:1.5;\" x=\"203.613714\" xlink:href=\"#m290826d658\" y=\"177.715743\"/>\n     <use style=\"fill-opacity:0.5;stroke:#000000;stroke-opacity:0.5;stroke-width:1.5;\" x=\"204.749276\" xlink:href=\"#m290826d658\" y=\"151.543252\"/>\n     <use style=\"fill-opacity:0.5;stroke:#000000;stroke-opacity:0.5;stroke-width:1.5;\" x=\"209.186184\" xlink:href=\"#m290826d658\" y=\"186.761362\"/>\n     <use style=\"fill-opacity:0.5;stroke:#000000;stroke-opacity:0.5;stroke-width:1.5;\" x=\"209.582217\" xlink:href=\"#m290826d658\" y=\"162.395506\"/>\n     <use style=\"fill-opacity:0.5;stroke:#000000;stroke-opacity:0.5;stroke-width:1.5;\" x=\"209.715876\" xlink:href=\"#m290826d658\" y=\"180.610271\"/>\n     <use style=\"fill-opacity:0.5;stroke:#000000;stroke-opacity:0.5;stroke-width:1.5;\" x=\"209.741949\" xlink:href=\"#m290826d658\" y=\"177.820522\"/>\n     <use style=\"fill-opacity:0.5;stroke:#000000;stroke-opacity:0.5;stroke-width:1.5;\" x=\"217.415172\" xlink:href=\"#m290826d658\" y=\"134.251739\"/>\n     <use style=\"fill-opacity:0.5;stroke:#000000;stroke-opacity:0.5;stroke-width:1.5;\" x=\"219.709962\" xlink:href=\"#m290826d658\" y=\"133.91757\"/>\n     <use style=\"fill-opacity:0.5;stroke:#000000;stroke-opacity:0.5;stroke-width:1.5;\" x=\"221.04033\" xlink:href=\"#m290826d658\" y=\"172.268213\"/>\n     <use style=\"fill-opacity:0.5;stroke:#000000;stroke-opacity:0.5;stroke-width:1.5;\" x=\"226.491342\" xlink:href=\"#m290826d658\" y=\"148.769675\"/>\n     <use style=\"fill-opacity:0.5;stroke:#000000;stroke-opacity:0.5;stroke-width:1.5;\" x=\"234.850389\" xlink:href=\"#m290826d658\" y=\"141.294918\"/>\n     <use style=\"fill-opacity:0.5;stroke:#000000;stroke-opacity:0.5;stroke-width:1.5;\" x=\"235.196316\" xlink:href=\"#m290826d658\" y=\"164.012422\"/>\n     <use style=\"fill-opacity:0.5;stroke:#000000;stroke-opacity:0.5;stroke-width:1.5;\" x=\"235.201326\" xlink:href=\"#m290826d658\" y=\"140.914718\"/>\n     <use style=\"fill-opacity:0.5;stroke:#000000;stroke-opacity:0.5;stroke-width:1.5;\" x=\"236.234833\" xlink:href=\"#m290826d658\" y=\"135.46646\"/>\n     <use style=\"fill-opacity:0.5;stroke:#000000;stroke-opacity:0.5;stroke-width:1.5;\" x=\"238.496674\" xlink:href=\"#m290826d658\" y=\"136.314516\"/>\n     <use style=\"fill-opacity:0.5;stroke:#000000;stroke-opacity:0.5;stroke-width:1.5;\" x=\"238.752778\" xlink:href=\"#m290826d658\" y=\"160.719533\"/>\n     <use style=\"fill-opacity:0.5;stroke:#000000;stroke-opacity:0.5;stroke-width:1.5;\" x=\"240.252575\" xlink:href=\"#m290826d658\" y=\"125.660206\"/>\n     <use style=\"fill-opacity:0.5;stroke:#000000;stroke-opacity:0.5;stroke-width:1.5;\" x=\"240.257065\" xlink:href=\"#m290826d658\" y=\"135.229053\"/>\n     <use style=\"fill-opacity:0.5;stroke:#000000;stroke-opacity:0.5;stroke-width:1.5;\" x=\"241.296558\" xlink:href=\"#m290826d658\" y=\"138.192975\"/>\n     <use style=\"fill-opacity:0.5;stroke:#000000;stroke-opacity:0.5;stroke-width:1.5;\" x=\"245.082055\" xlink:href=\"#m290826d658\" y=\"144.440619\"/>\n     <use style=\"fill-opacity:0.5;stroke:#000000;stroke-opacity:0.5;stroke-width:1.5;\" x=\"248.501887\" xlink:href=\"#m290826d658\" y=\"127.078867\"/>\n     <use style=\"fill-opacity:0.5;stroke:#000000;stroke-opacity:0.5;stroke-width:1.5;\" x=\"249.481535\" xlink:href=\"#m290826d658\" y=\"124.500532\"/>\n     <use style=\"fill-opacity:0.5;stroke:#000000;stroke-opacity:0.5;stroke-width:1.5;\" x=\"251.162863\" xlink:href=\"#m290826d658\" y=\"139.553496\"/>\n     <use style=\"fill-opacity:0.5;stroke:#000000;stroke-opacity:0.5;stroke-width:1.5;\" x=\"252.554031\" xlink:href=\"#m290826d658\" y=\"132.844321\"/>\n     <use style=\"fill-opacity:0.5;stroke:#000000;stroke-opacity:0.5;stroke-width:1.5;\" x=\"253.238856\" xlink:href=\"#m290826d658\" y=\"124.492436\"/>\n     <use style=\"fill-opacity:0.5;stroke:#000000;stroke-opacity:0.5;stroke-width:1.5;\" x=\"257.361885\" xlink:href=\"#m290826d658\" y=\"154.363356\"/>\n    </g>\n   </g>\n   <g id=\"PolyCollection_1\">\n    <defs>\n     <path d=\"M 52.160938 -103.944525 \nL 52.160938 -100.935494 \nL 53.84335 -100.999475 \nL 55.525762 -101.060222 \nL 57.208174 -101.118447 \nL 58.890586 -101.173289 \nL 60.572998 -101.224438 \nL 62.25541 -101.271851 \nL 63.937822 -101.315572 \nL 65.620234 -101.353717 \nL 67.302646 -101.386821 \nL 68.985058 -101.41407 \nL 70.66747 -101.434276 \nL 72.349882 -101.448402 \nL 74.032294 -101.456699 \nL 75.714706 -101.46327 \nL 77.397118 -101.469577 \nL 79.07953 -101.475603 \nL 80.761943 -101.481731 \nL 82.444355 -101.487523 \nL 84.126767 -101.493214 \nL 85.809179 -101.498549 \nL 87.491591 -101.503597 \nL 89.174003 -101.508717 \nL 90.856415 -101.513247 \nL 92.538827 -101.517965 \nL 94.221239 -101.522315 \nL 95.903651 -101.526618 \nL 97.586063 -101.531133 \nL 99.268475 -101.535245 \nL 100.950887 -101.539199 \nL 102.633299 -101.541632 \nL 104.315711 -101.542923 \nL 105.998123 -101.542987 \nL 107.680535 -101.541809 \nL 109.362948 -101.539373 \nL 111.04536 -101.535862 \nL 112.727772 -101.531096 \nL 114.410184 -101.525094 \nL 116.092596 -101.51805 \nL 117.775008 -101.509714 \nL 119.45742 -101.500441 \nL 121.139832 -101.489988 \nL 122.822244 -101.478526 \nL 124.504656 -101.465704 \nL 126.187068 -101.452571 \nL 127.86948 -101.43775 \nL 129.551892 -101.422722 \nL 131.234304 -101.405869 \nL 132.916716 -101.389181 \nL 134.599128 -101.370579 \nL 136.281541 -101.352387 \nL 137.963953 -101.3321 \nL 139.646365 -101.311143 \nL 141.328777 -101.290401 \nL 143.011189 -101.268068 \nL 144.693601 -101.246172 \nL 146.376013 -101.22299 \nL 148.058425 -101.200669 \nL 149.740837 -101.176388 \nL 151.423249 -101.153037 \nL 153.105661 -101.127593 \nL 154.788073 -101.101696 \nL 156.470485 -101.076921 \nL 158.152897 -101.050198 \nL 159.835309 -101.02518 \nL 161.517721 -100.997231 \nL 163.200133 -100.970276 \nL 164.882546 -100.941969 \nL 166.564958 -100.914102 \nL 168.24737 -100.884868 \nL 169.929782 -100.855193 \nL 171.612194 -100.827321 \nL 173.294606 -100.966744 \nL 174.977018 -102.059435 \nL 176.65943 -104.028661 \nL 178.341842 -105.937398 \nL 180.024254 -107.945077 \nL 181.706666 -109.851905 \nL 183.389078 -111.859584 \nL 185.07149 -113.865791 \nL 186.753902 -115.771716 \nL 188.436314 -117.775655 \nL 190.118726 -119.677123 \nL 191.801139 -121.678221 \nL 193.483551 -123.578909 \nL 195.165963 -125.578672 \nL 196.848375 -127.476833 \nL 198.530787 -129.474861 \nL 200.213199 -131.471785 \nL 201.895611 -133.366747 \nL 203.578023 -135.361818 \nL 205.260435 -137.257734 \nL 206.942847 -139.25037 \nL 208.625259 -141.14392 \nL 210.307671 -143.137223 \nL 211.990083 -145.026603 \nL 213.672495 -147.018013 \nL 215.354907 -149.00741 \nL 217.037319 -150.998195 \nL 218.719731 -152.78654 \nL 220.402144 -154.775924 \nL 222.084556 -156.763722 \nL 223.766968 -158.749061 \nL 225.44938 -160.538874 \nL 227.131792 -162.524292 \nL 228.814204 -164.508673 \nL 230.496616 -166.494025 \nL 232.179028 -168.479305 \nL 233.86144 -170.265139 \nL 235.543852 -172.24954 \nL 237.226264 -174.23291 \nL 238.908676 -176.213715 \nL 240.591088 -178.000091 \nL 242.2735 -179.964354 \nL 243.955912 -181.824176 \nL 245.638324 -183.332374 \nL 247.320736 -184.152897 \nL 249.003149 -184.372969 \nL 250.685561 -184.381679 \nL 252.367973 -184.347967 \nL 254.050385 -184.309774 \nL 255.732797 -184.272955 \nL 257.415209 -184.232826 \nL 259.097621 -184.192121 \nL 260.780033 -184.148026 \nL 262.462445 -184.101658 \nL 264.144857 -184.06394 \nL 265.827269 -184.015133 \nL 267.509681 -183.967985 \nL 269.192093 -183.914142 \nL 270.874505 -183.871805 \nL 272.556917 -183.822759 \nL 274.239329 -183.769914 \nL 275.921742 -183.714584 \nL 277.604154 -183.658758 \nL 279.286566 -183.610929 \nL 280.968978 -183.552182 \nL 282.65139 -183.49479 \nL 284.333802 -183.435157 \nL 286.016214 -183.377613 \nL 287.698626 -183.31837 \nL 289.381038 -183.254052 \nL 291.06345 -183.193976 \nL 292.745862 -183.139578 \nL 294.428274 -183.076872 \nL 296.110686 -183.006797 \nL 297.793098 -182.935354 \nL 299.47551 -182.87058 \nL 301.157922 -182.807431 \nL 302.840334 -182.739716 \nL 304.522747 -182.667129 \nL 306.205159 -182.597392 \nL 307.887571 -182.533397 \nL 309.569983 -182.458828 \nL 311.252395 -182.393994 \nL 312.934807 -182.320377 \nL 314.617219 -182.250844 \nL 316.299631 -182.185666 \nL 317.982043 -182.112095 \nL 319.664455 -182.040428 \nL 321.346867 -181.963592 \nL 323.029279 -181.897509 \nL 324.711691 -181.822815 \nL 326.394103 -181.751002 \nL 328.076515 -181.6718 \nL 329.758927 -181.593636 \nL 331.44134 -181.528504 \nL 333.123752 -181.451807 \nL 334.806164 -181.375573 \nL 336.488576 -181.298307 \nL 338.170988 -181.222146 \nL 339.8534 -181.136123 \nL 341.535812 -181.050564 \nL 343.218224 -180.963762 \nL 344.900636 -180.877739 \nL 346.583048 -180.808524 \nL 348.26546 -180.722594 \nL 349.947872 -180.63071 \nL 351.630284 -180.547285 \nL 353.312696 -180.466199 \nL 354.995108 -180.375319 \nL 356.67752 -180.288835 \nL 358.359932 -180.19966 \nL 360.042345 -180.107861 \nL 361.724757 -180.019077 \nL 363.407169 -179.9232 \nL 365.089581 -179.832565 \nL 366.771993 -179.737502 \nL 368.454405 -179.643813 \nL 370.136817 -179.548974 \nL 371.819229 -179.446641 \nL 373.501641 -179.348227 \nL 375.184053 -179.245742 \nL 376.866465 -179.147962 \nL 378.548877 -179.043263 \nL 380.231289 -178.94095 \nL 381.913701 -178.836687 \nL 383.596113 -178.748649 \nL 385.278525 -178.642192 \nL 386.960938 -178.525352 \nL 386.960938 -203.960342 \nL 386.960938 -203.960342 \nL 385.278525 -203.795495 \nL 383.596113 -203.629147 \nL 381.913701 -203.473513 \nL 380.231289 -203.307073 \nL 378.548877 -203.146812 \nL 376.866465 -202.978231 \nL 375.184053 -202.827817 \nL 373.501641 -202.662891 \nL 371.819229 -202.50226 \nL 370.136817 -202.344504 \nL 368.454405 -202.179386 \nL 366.771993 -202.043201 \nL 365.089581 -201.875294 \nL 363.407169 -201.715806 \nL 361.724757 -201.561917 \nL 360.042345 -201.421133 \nL 358.359932 -201.281406 \nL 356.67752 -201.124833 \nL 354.995108 -200.969152 \nL 353.312696 -200.814562 \nL 351.630284 -200.676904 \nL 349.947872 -200.526239 \nL 348.26546 -200.374266 \nL 346.583048 -200.226133 \nL 344.900636 -200.089876 \nL 343.218224 -199.943025 \nL 341.535812 -199.798513 \nL 339.8534 -199.649468 \nL 338.170988 -199.498334 \nL 336.488576 -199.374218 \nL 334.806164 -199.224201 \nL 333.123752 -199.085168 \nL 331.44134 -198.941906 \nL 329.758927 -198.80775 \nL 328.076515 -198.668837 \nL 326.394103 -198.528066 \nL 324.711691 -198.389396 \nL 323.029279 -198.255605 \nL 321.346867 -198.132447 \nL 319.664455 -197.998179 \nL 317.982043 -197.867004 \nL 316.299631 -197.73271 \nL 314.617219 -197.613484 \nL 312.934807 -197.48574 \nL 311.252395 -197.362397 \nL 309.569983 -197.238888 \nL 307.887571 -197.117805 \nL 306.205159 -197.006068 \nL 304.522747 -196.881158 \nL 302.840334 -196.760353 \nL 301.157922 -196.637678 \nL 299.47551 -196.526587 \nL 297.793098 -196.409761 \nL 296.110686 -196.294633 \nL 294.428274 -196.172677 \nL 292.745862 -196.053518 \nL 291.06345 -195.946856 \nL 289.381038 -195.83186 \nL 287.698626 -195.714273 \nL 286.016214 -195.598312 \nL 284.333802 -195.49469 \nL 282.65139 -195.381829 \nL 280.968978 -195.265366 \nL 279.286566 -195.155928 \nL 277.604154 -195.054263 \nL 275.921742 -194.944613 \nL 274.239329 -194.833794 \nL 272.556917 -194.725685 \nL 270.874505 -194.619988 \nL 269.192093 -194.528229 \nL 267.509681 -194.425387 \nL 265.827269 -194.324811 \nL 264.144857 -194.224745 \nL 262.462445 -194.136813 \nL 260.780033 -194.042569 \nL 259.097621 -193.950823 \nL 257.415209 -193.856229 \nL 255.732797 -193.766665 \nL 254.050385 -193.68583 \nL 252.367973 -193.599577 \nL 250.685561 -193.484257 \nL 249.003149 -193.190978 \nL 247.320736 -192.496752 \nL 245.638324 -191.153368 \nL 243.955912 -189.355988 \nL 242.2735 -187.296259 \nL 240.591088 -185.211712 \nL 238.908676 -183.325884 \nL 237.226264 -181.235714 \nL 235.543852 -179.142345 \nL 233.86144 -177.047297 \nL 232.179028 -175.16632 \nL 230.496616 -173.075627 \nL 228.814204 -170.982668 \nL 227.131792 -168.892715 \nL 225.44938 -166.800628 \nL 223.766968 -164.920074 \nL 222.084556 -162.83071 \nL 220.402144 -160.742113 \nL 218.719731 -158.653793 \nL 217.037319 -156.771375 \nL 215.354907 -154.684046 \nL 213.672495 -152.597286 \nL 211.990083 -150.511134 \nL 210.307671 -148.52869 \nL 208.625259 -146.443383 \nL 206.942847 -144.464954 \nL 205.260435 -142.379872 \nL 203.578023 -140.402441 \nL 201.895611 -138.319755 \nL 200.213199 -136.342062 \nL 198.530787 -134.262321 \nL 196.848375 -132.18365 \nL 195.165963 -130.208799 \nL 193.483551 -128.129187 \nL 191.801139 -126.155906 \nL 190.118726 -124.078494 \nL 188.436314 -122.106346 \nL 186.753902 -120.030383 \nL 185.07149 -118.058292 \nL 183.389078 -115.983841 \nL 181.706666 -113.909864 \nL 180.024254 -111.939174 \nL 178.341842 -109.86564 \nL 176.65943 -107.897253 \nL 174.977018 -105.828399 \nL 173.294606 -104.343552 \nL 171.612194 -104.109094 \nL 169.929782 -104.079734 \nL 168.24737 -104.050533 \nL 166.564958 -104.021753 \nL 164.882546 -103.994398 \nL 163.200133 -103.966565 \nL 161.517721 -103.940128 \nL 159.835309 -103.912725 \nL 158.152897 -103.888154 \nL 156.470485 -103.861974 \nL 154.788073 -103.83895 \nL 153.105661 -103.815139 \nL 151.423249 -103.791813 \nL 149.740837 -103.770406 \nL 148.058425 -103.748212 \nL 146.376013 -103.727851 \nL 144.693601 -103.706775 \nL 143.011189 -103.687713 \nL 141.328777 -103.668527 \nL 139.646365 -103.650304 \nL 137.963953 -103.631955 \nL 136.281541 -103.614204 \nL 134.599128 -103.59838 \nL 132.916716 -103.581898 \nL 131.234304 -103.567181 \nL 129.551892 -103.552402 \nL 127.86948 -103.538973 \nL 126.187068 -103.525814 \nL 124.504656 -103.514258 \nL 122.822244 -103.503091 \nL 121.139832 -103.493242 \nL 119.45742 -103.484365 \nL 117.775008 -103.4767 \nL 116.092596 -103.470014 \nL 114.410184 -103.464568 \nL 112.727772 -103.460213 \nL 111.04536 -103.457065 \nL 109.362948 -103.455171 \nL 107.680535 -103.454323 \nL 105.998123 -103.454764 \nL 104.315711 -103.456466 \nL 102.633299 -103.459363 \nL 100.950887 -103.463415 \nL 99.268475 -103.466356 \nL 97.586063 -103.469242 \nL 95.903651 -103.472454 \nL 94.221239 -103.475546 \nL 92.538827 -103.479135 \nL 90.856415 -103.483445 \nL 89.174003 -103.48761 \nL 87.491591 -103.492325 \nL 85.809179 -103.49703 \nL 84.126767 -103.501998 \nL 82.444355 -103.507303 \nL 80.761943 -103.512737 \nL 79.07953 -103.518454 \nL 77.397118 -103.524102 \nL 75.714706 -103.530056 \nL 74.032294 -103.536256 \nL 72.349882 -103.540451 \nL 70.66747 -103.547612 \nL 68.985058 -103.560311 \nL 67.302646 -103.57832 \nL 65.620234 -103.601765 \nL 63.937822 -103.630297 \nL 62.25541 -103.664238 \nL 60.572998 -103.702358 \nL 58.890586 -103.74422 \nL 57.208174 -103.789812 \nL 55.525762 -103.838745 \nL 53.84335 -103.890256 \nL 52.160938 -103.944525 \nz\n\" id=\"m6204b06944\" style=\"stroke:#ff7f0e;stroke-opacity:0.4;\"/>\n    </defs>\n    <g clip-path=\"url(#pa8f24e9f13)\">\n     <use style=\"fill:#ff7f0e;fill-opacity:0.4;stroke:#ff7f0e;stroke-opacity:0.4;\" x=\"0\" xlink:href=\"#m6204b06944\" y=\"325.755469\"/>\n    </g>\n   </g>\n   <g id=\"matplotlib.axis_1\">\n    <g id=\"xtick_1\">\n     <g id=\"line2d_1\">\n      <defs>\n       <path d=\"M 0 0 \nL 0 3.5 \n\" id=\"mc599b67850\" style=\"stroke:#000000;stroke-width:0.8;\"/>\n      </defs>\n      <g>\n       <use style=\"stroke:#000000;stroke-width:0.8;\" x=\"95.830503\" xlink:href=\"#mc599b67850\" y=\"288.199219\"/>\n      </g>\n     </g>\n     <g id=\"text_1\">\n      <!-- 0.2 -->\n      <g transform=\"translate(87.87894 302.797656)scale(0.1 -0.1)\">\n       <defs>\n        <path d=\"M 31.78125 66.40625 \nQ 24.171875 66.40625 20.328125 58.90625 \nQ 16.5 51.421875 16.5 36.375 \nQ 16.5 21.390625 20.328125 13.890625 \nQ 24.171875 6.390625 31.78125 6.390625 \nQ 39.453125 6.390625 43.28125 13.890625 \nQ 47.125 21.390625 47.125 36.375 \nQ 47.125 51.421875 43.28125 58.90625 \nQ 39.453125 66.40625 31.78125 66.40625 \nz\nM 31.78125 74.21875 \nQ 44.046875 74.21875 50.515625 64.515625 \nQ 56.984375 54.828125 56.984375 36.375 \nQ 56.984375 17.96875 50.515625 8.265625 \nQ 44.046875 -1.421875 31.78125 -1.421875 \nQ 19.53125 -1.421875 13.0625 8.265625 \nQ 6.59375 17.96875 6.59375 36.375 \nQ 6.59375 54.828125 13.0625 64.515625 \nQ 19.53125 74.21875 31.78125 74.21875 \nz\n\" id=\"DejaVuSans-48\"/>\n        <path d=\"M 10.6875 12.40625 \nL 21 12.40625 \nL 21 0 \nL 10.6875 0 \nz\n\" id=\"DejaVuSans-46\"/>\n        <path d=\"M 19.1875 8.296875 \nL 53.609375 8.296875 \nL 53.609375 0 \nL 7.328125 0 \nL 7.328125 8.296875 \nQ 12.9375 14.109375 22.625 23.890625 \nQ 32.328125 33.6875 34.8125 36.53125 \nQ 39.546875 41.84375 41.421875 45.53125 \nQ 43.3125 49.21875 43.3125 52.78125 \nQ 43.3125 58.59375 39.234375 62.25 \nQ 35.15625 65.921875 28.609375 65.921875 \nQ 23.96875 65.921875 18.8125 64.3125 \nQ 13.671875 62.703125 7.8125 59.421875 \nL 7.8125 69.390625 \nQ 13.765625 71.78125 18.9375 73 \nQ 24.125 74.21875 28.421875 74.21875 \nQ 39.75 74.21875 46.484375 68.546875 \nQ 53.21875 62.890625 53.21875 53.421875 \nQ 53.21875 48.921875 51.53125 44.890625 \nQ 49.859375 40.875 45.40625 35.40625 \nQ 44.1875 33.984375 37.640625 27.21875 \nQ 31.109375 20.453125 19.1875 8.296875 \nz\n\" id=\"DejaVuSans-50\"/>\n       </defs>\n       <use xlink:href=\"#DejaVuSans-48\"/>\n       <use x=\"63.623047\" xlink:href=\"#DejaVuSans-46\"/>\n       <use x=\"95.410156\" xlink:href=\"#DejaVuSans-50\"/>\n      </g>\n     </g>\n    </g>\n    <g id=\"xtick_2\">\n     <g id=\"line2d_2\">\n      <g>\n       <use style=\"stroke:#000000;stroke-width:0.8;\" x=\"168.613111\" xlink:href=\"#mc599b67850\" y=\"288.199219\"/>\n      </g>\n     </g>\n     <g id=\"text_2\">\n      <!-- 0.4 -->\n      <g transform=\"translate(160.661549 302.797656)scale(0.1 -0.1)\">\n       <defs>\n        <path d=\"M 37.796875 64.3125 \nL 12.890625 25.390625 \nL 37.796875 25.390625 \nz\nM 35.203125 72.90625 \nL 47.609375 72.90625 \nL 47.609375 25.390625 \nL 58.015625 25.390625 \nL 58.015625 17.1875 \nL 47.609375 17.1875 \nL 47.609375 0 \nL 37.796875 0 \nL 37.796875 17.1875 \nL 4.890625 17.1875 \nL 4.890625 26.703125 \nz\n\" id=\"DejaVuSans-52\"/>\n       </defs>\n       <use xlink:href=\"#DejaVuSans-48\"/>\n       <use x=\"63.623047\" xlink:href=\"#DejaVuSans-46\"/>\n       <use x=\"95.410156\" xlink:href=\"#DejaVuSans-52\"/>\n      </g>\n     </g>\n    </g>\n    <g id=\"xtick_3\">\n     <g id=\"line2d_3\">\n      <g>\n       <use style=\"stroke:#000000;stroke-width:0.8;\" x=\"241.39572\" xlink:href=\"#mc599b67850\" y=\"288.199219\"/>\n      </g>\n     </g>\n     <g id=\"text_3\">\n      <!-- 0.6 -->\n      <g transform=\"translate(233.444158 302.797656)scale(0.1 -0.1)\">\n       <defs>\n        <path d=\"M 33.015625 40.375 \nQ 26.375 40.375 22.484375 35.828125 \nQ 18.609375 31.296875 18.609375 23.390625 \nQ 18.609375 15.53125 22.484375 10.953125 \nQ 26.375 6.390625 33.015625 6.390625 \nQ 39.65625 6.390625 43.53125 10.953125 \nQ 47.40625 15.53125 47.40625 23.390625 \nQ 47.40625 31.296875 43.53125 35.828125 \nQ 39.65625 40.375 33.015625 40.375 \nz\nM 52.59375 71.296875 \nL 52.59375 62.3125 \nQ 48.875 64.0625 45.09375 64.984375 \nQ 41.3125 65.921875 37.59375 65.921875 \nQ 27.828125 65.921875 22.671875 59.328125 \nQ 17.53125 52.734375 16.796875 39.40625 \nQ 19.671875 43.65625 24.015625 45.921875 \nQ 28.375 48.1875 33.59375 48.1875 \nQ 44.578125 48.1875 50.953125 41.515625 \nQ 57.328125 34.859375 57.328125 23.390625 \nQ 57.328125 12.15625 50.6875 5.359375 \nQ 44.046875 -1.421875 33.015625 -1.421875 \nQ 20.359375 -1.421875 13.671875 8.265625 \nQ 6.984375 17.96875 6.984375 36.375 \nQ 6.984375 53.65625 15.1875 63.9375 \nQ 23.390625 74.21875 37.203125 74.21875 \nQ 40.921875 74.21875 44.703125 73.484375 \nQ 48.484375 72.75 52.59375 71.296875 \nz\n\" id=\"DejaVuSans-54\"/>\n       </defs>\n       <use xlink:href=\"#DejaVuSans-48\"/>\n       <use x=\"63.623047\" xlink:href=\"#DejaVuSans-46\"/>\n       <use x=\"95.410156\" xlink:href=\"#DejaVuSans-54\"/>\n      </g>\n     </g>\n    </g>\n    <g id=\"xtick_4\">\n     <g id=\"line2d_4\">\n      <g>\n       <use style=\"stroke:#000000;stroke-width:0.8;\" x=\"314.178329\" xlink:href=\"#mc599b67850\" y=\"288.199219\"/>\n      </g>\n     </g>\n     <g id=\"text_4\">\n      <!-- 0.8 -->\n      <g transform=\"translate(306.226766 302.797656)scale(0.1 -0.1)\">\n       <defs>\n        <path d=\"M 31.78125 34.625 \nQ 24.75 34.625 20.71875 30.859375 \nQ 16.703125 27.09375 16.703125 20.515625 \nQ 16.703125 13.921875 20.71875 10.15625 \nQ 24.75 6.390625 31.78125 6.390625 \nQ 38.8125 6.390625 42.859375 10.171875 \nQ 46.921875 13.96875 46.921875 20.515625 \nQ 46.921875 27.09375 42.890625 30.859375 \nQ 38.875 34.625 31.78125 34.625 \nz\nM 21.921875 38.8125 \nQ 15.578125 40.375 12.03125 44.71875 \nQ 8.5 49.078125 8.5 55.328125 \nQ 8.5 64.0625 14.71875 69.140625 \nQ 20.953125 74.21875 31.78125 74.21875 \nQ 42.671875 74.21875 48.875 69.140625 \nQ 55.078125 64.0625 55.078125 55.328125 \nQ 55.078125 49.078125 51.53125 44.71875 \nQ 48 40.375 41.703125 38.8125 \nQ 48.828125 37.15625 52.796875 32.3125 \nQ 56.78125 27.484375 56.78125 20.515625 \nQ 56.78125 9.90625 50.3125 4.234375 \nQ 43.84375 -1.421875 31.78125 -1.421875 \nQ 19.734375 -1.421875 13.25 4.234375 \nQ 6.78125 9.90625 6.78125 20.515625 \nQ 6.78125 27.484375 10.78125 32.3125 \nQ 14.796875 37.15625 21.921875 38.8125 \nz\nM 18.3125 54.390625 \nQ 18.3125 48.734375 21.84375 45.5625 \nQ 25.390625 42.390625 31.78125 42.390625 \nQ 38.140625 42.390625 41.71875 45.5625 \nQ 45.3125 48.734375 45.3125 54.390625 \nQ 45.3125 60.0625 41.71875 63.234375 \nQ 38.140625 66.40625 31.78125 66.40625 \nQ 25.390625 66.40625 21.84375 63.234375 \nQ 18.3125 60.0625 18.3125 54.390625 \nz\n\" id=\"DejaVuSans-56\"/>\n       </defs>\n       <use xlink:href=\"#DejaVuSans-48\"/>\n       <use x=\"63.623047\" xlink:href=\"#DejaVuSans-46\"/>\n       <use x=\"95.410156\" xlink:href=\"#DejaVuSans-56\"/>\n      </g>\n     </g>\n    </g>\n    <g id=\"xtick_5\">\n     <g id=\"line2d_5\">\n      <g>\n       <use style=\"stroke:#000000;stroke-width:0.8;\" x=\"386.960938\" xlink:href=\"#mc599b67850\" y=\"288.199219\"/>\n      </g>\n     </g>\n     <g id=\"text_5\">\n      <!-- 1.0 -->\n      <g transform=\"translate(379.009375 302.797656)scale(0.1 -0.1)\">\n       <defs>\n        <path d=\"M 12.40625 8.296875 \nL 28.515625 8.296875 \nL 28.515625 63.921875 \nL 10.984375 60.40625 \nL 10.984375 69.390625 \nL 28.421875 72.90625 \nL 38.28125 72.90625 \nL 38.28125 8.296875 \nL 54.390625 8.296875 \nL 54.390625 0 \nL 12.40625 0 \nz\n\" id=\"DejaVuSans-49\"/>\n       </defs>\n       <use xlink:href=\"#DejaVuSans-49\"/>\n       <use x=\"63.623047\" xlink:href=\"#DejaVuSans-46\"/>\n       <use x=\"95.410156\" xlink:href=\"#DejaVuSans-48\"/>\n      </g>\n     </g>\n    </g>\n    <g id=\"text_6\">\n     <!-- $x$ -->\n     <g transform=\"translate(216.560938 316.475781)scale(0.1 -0.1)\">\n      <defs>\n       <path d=\"M 60.015625 54.6875 \nL 34.90625 27.875 \nL 50.296875 0 \nL 39.984375 0 \nL 28.421875 21.6875 \nL 8.296875 0 \nL -2.59375 0 \nL 24.3125 28.8125 \nL 10.015625 54.6875 \nL 20.3125 54.6875 \nL 30.8125 34.90625 \nL 49.125 54.6875 \nz\n\" id=\"DejaVuSans-Oblique-120\"/>\n      </defs>\n      <use transform=\"translate(0 0.3125)\" xlink:href=\"#DejaVuSans-Oblique-120\"/>\n     </g>\n    </g>\n   </g>\n   <g id=\"matplotlib.axis_2\">\n    <g id=\"ytick_1\">\n     <g id=\"line2d_6\">\n      <path clip-path=\"url(#pa8f24e9f13)\" d=\"M 52.160938 288.199219 \nL 386.960938 288.199219 \n\" style=\"fill:none;stroke:#b0b0b0;stroke-linecap:square;stroke-opacity:0.2;stroke-width:0.8;\"/>\n     </g>\n     <g id=\"line2d_7\">\n      <defs>\n       <path d=\"M 0 0 \nL -3.5 0 \n\" id=\"m9c8f62494e\" style=\"stroke:#000000;stroke-width:0.8;\"/>\n      </defs>\n      <g>\n       <use style=\"stroke:#000000;stroke-width:0.8;\" x=\"52.160938\" xlink:href=\"#m9c8f62494e\" y=\"288.199219\"/>\n      </g>\n     </g>\n     <g id=\"text_7\">\n      <!-- −0.5 -->\n      <g transform=\"translate(20.878125 291.998438)scale(0.1 -0.1)\">\n       <defs>\n        <path d=\"M 10.59375 35.5 \nL 73.1875 35.5 \nL 73.1875 27.203125 \nL 10.59375 27.203125 \nz\n\" id=\"DejaVuSans-8722\"/>\n        <path d=\"M 10.796875 72.90625 \nL 49.515625 72.90625 \nL 49.515625 64.59375 \nL 19.828125 64.59375 \nL 19.828125 46.734375 \nQ 21.96875 47.46875 24.109375 47.828125 \nQ 26.265625 48.1875 28.421875 48.1875 \nQ 40.625 48.1875 47.75 41.5 \nQ 54.890625 34.8125 54.890625 23.390625 \nQ 54.890625 11.625 47.5625 5.09375 \nQ 40.234375 -1.421875 26.90625 -1.421875 \nQ 22.3125 -1.421875 17.546875 -0.640625 \nQ 12.796875 0.140625 7.71875 1.703125 \nL 7.71875 11.625 \nQ 12.109375 9.234375 16.796875 8.0625 \nQ 21.484375 6.890625 26.703125 6.890625 \nQ 35.15625 6.890625 40.078125 11.328125 \nQ 45.015625 15.765625 45.015625 23.390625 \nQ 45.015625 31 40.078125 35.4375 \nQ 35.15625 39.890625 26.703125 39.890625 \nQ 22.75 39.890625 18.8125 39.015625 \nQ 14.890625 38.140625 10.796875 36.28125 \nz\n\" id=\"DejaVuSans-53\"/>\n       </defs>\n       <use xlink:href=\"#DejaVuSans-8722\"/>\n       <use x=\"83.789062\" xlink:href=\"#DejaVuSans-48\"/>\n       <use x=\"147.412109\" xlink:href=\"#DejaVuSans-46\"/>\n       <use x=\"179.199219\" xlink:href=\"#DejaVuSans-53\"/>\n      </g>\n     </g>\n    </g>\n    <g id=\"ytick_2\">\n     <g id=\"line2d_8\">\n      <path clip-path=\"url(#pa8f24e9f13)\" d=\"M 52.160938 232.759219 \nL 386.960938 232.759219 \n\" style=\"fill:none;stroke:#b0b0b0;stroke-linecap:square;stroke-opacity:0.2;stroke-width:0.8;\"/>\n     </g>\n     <g id=\"line2d_9\">\n      <g>\n       <use style=\"stroke:#000000;stroke-width:0.8;\" x=\"52.160938\" xlink:href=\"#m9c8f62494e\" y=\"232.759219\"/>\n      </g>\n     </g>\n     <g id=\"text_8\">\n      <!-- 0.0 -->\n      <g transform=\"translate(29.257812 236.558438)scale(0.1 -0.1)\">\n       <use xlink:href=\"#DejaVuSans-48\"/>\n       <use x=\"63.623047\" xlink:href=\"#DejaVuSans-46\"/>\n       <use x=\"95.410156\" xlink:href=\"#DejaVuSans-48\"/>\n      </g>\n     </g>\n    </g>\n    <g id=\"ytick_3\">\n     <g id=\"line2d_10\">\n      <path clip-path=\"url(#pa8f24e9f13)\" d=\"M 52.160938 177.319219 \nL 386.960938 177.319219 \n\" style=\"fill:none;stroke:#b0b0b0;stroke-linecap:square;stroke-opacity:0.2;stroke-width:0.8;\"/>\n     </g>\n     <g id=\"line2d_11\">\n      <g>\n       <use style=\"stroke:#000000;stroke-width:0.8;\" x=\"52.160938\" xlink:href=\"#m9c8f62494e\" y=\"177.319219\"/>\n      </g>\n     </g>\n     <g id=\"text_9\">\n      <!-- 0.5 -->\n      <g transform=\"translate(29.257812 181.118437)scale(0.1 -0.1)\">\n       <use xlink:href=\"#DejaVuSans-48\"/>\n       <use x=\"63.623047\" xlink:href=\"#DejaVuSans-46\"/>\n       <use x=\"95.410156\" xlink:href=\"#DejaVuSans-53\"/>\n      </g>\n     </g>\n    </g>\n    <g id=\"ytick_4\">\n     <g id=\"line2d_12\">\n      <path clip-path=\"url(#pa8f24e9f13)\" d=\"M 52.160938 121.879219 \nL 386.960938 121.879219 \n\" style=\"fill:none;stroke:#b0b0b0;stroke-linecap:square;stroke-opacity:0.2;stroke-width:0.8;\"/>\n     </g>\n     <g id=\"line2d_13\">\n      <g>\n       <use style=\"stroke:#000000;stroke-width:0.8;\" x=\"52.160938\" xlink:href=\"#m9c8f62494e\" y=\"121.879219\"/>\n      </g>\n     </g>\n     <g id=\"text_10\">\n      <!-- 1.0 -->\n      <g transform=\"translate(29.257812 125.678438)scale(0.1 -0.1)\">\n       <use xlink:href=\"#DejaVuSans-49\"/>\n       <use x=\"63.623047\" xlink:href=\"#DejaVuSans-46\"/>\n       <use x=\"95.410156\" xlink:href=\"#DejaVuSans-48\"/>\n      </g>\n     </g>\n    </g>\n    <g id=\"ytick_5\">\n     <g id=\"line2d_14\">\n      <path clip-path=\"url(#pa8f24e9f13)\" d=\"M 52.160938 66.439219 \nL 386.960938 66.439219 \n\" style=\"fill:none;stroke:#b0b0b0;stroke-linecap:square;stroke-opacity:0.2;stroke-width:0.8;\"/>\n     </g>\n     <g id=\"line2d_15\">\n      <g>\n       <use style=\"stroke:#000000;stroke-width:0.8;\" x=\"52.160938\" xlink:href=\"#m9c8f62494e\" y=\"66.439219\"/>\n      </g>\n     </g>\n     <g id=\"text_11\">\n      <!-- 1.5 -->\n      <g transform=\"translate(29.257812 70.238437)scale(0.1 -0.1)\">\n       <use xlink:href=\"#DejaVuSans-49\"/>\n       <use x=\"63.623047\" xlink:href=\"#DejaVuSans-46\"/>\n       <use x=\"95.410156\" xlink:href=\"#DejaVuSans-53\"/>\n      </g>\n     </g>\n    </g>\n    <g id=\"ytick_6\">\n     <g id=\"line2d_16\">\n      <path clip-path=\"url(#pa8f24e9f13)\" d=\"M 52.160938 10.999219 \nL 386.960938 10.999219 \n\" style=\"fill:none;stroke:#b0b0b0;stroke-linecap:square;stroke-opacity:0.2;stroke-width:0.8;\"/>\n     </g>\n     <g id=\"line2d_17\">\n      <g>\n       <use style=\"stroke:#000000;stroke-width:0.8;\" x=\"52.160938\" xlink:href=\"#m9c8f62494e\" y=\"10.999219\"/>\n      </g>\n     </g>\n     <g id=\"text_12\">\n      <!-- 2.0 -->\n      <g transform=\"translate(29.257812 14.798437)scale(0.1 -0.1)\">\n       <use xlink:href=\"#DejaVuSans-50\"/>\n       <use x=\"63.623047\" xlink:href=\"#DejaVuSans-46\"/>\n       <use x=\"95.410156\" xlink:href=\"#DejaVuSans-48\"/>\n      </g>\n     </g>\n    </g>\n    <g id=\"text_13\">\n     <!-- $y$ -->\n     <g transform=\"translate(14.778125 152.599219)rotate(-90)scale(0.1 -0.1)\">\n      <defs>\n       <path d=\"M 24.8125 -5.078125 \nQ 18.5625 -15.578125 14.625 -18.1875 \nQ 10.6875 -20.796875 4.59375 -20.796875 \nL -2.484375 -20.796875 \nL -0.984375 -13.28125 \nL 4.203125 -13.28125 \nQ 7.953125 -13.28125 10.59375 -11.234375 \nQ 13.234375 -9.1875 16.5 -3.21875 \nL 19.28125 2 \nL 7.171875 54.6875 \nL 16.703125 54.6875 \nL 25.78125 12.796875 \nL 50.875 54.6875 \nL 60.296875 54.6875 \nz\n\" id=\"DejaVuSans-Oblique-121\"/>\n      </defs>\n      <use transform=\"translate(0 0.3125)\" xlink:href=\"#DejaVuSans-Oblique-121\"/>\n     </g>\n    </g>\n   </g>\n   <g id=\"line2d_18\">\n    <path clip-path=\"url(#pa8f24e9f13)\" d=\"M 52.160938 223.315459 \nL 109.362948 223.258197 \nL 171.612194 223.287261 \nL 173.294606 223.100321 \nL 174.977018 221.811552 \nL 185.07149 209.793428 \nL 190.118726 203.87766 \nL 195.165963 197.861733 \nL 198.530787 193.886878 \nL 203.578023 187.873339 \nL 208.625259 181.961817 \nL 217.037319 171.870684 \nL 218.719731 170.035302 \nL 223.766968 163.920901 \nL 225.44938 162.085718 \nL 232.179028 153.932656 \nL 233.86144 152.099251 \nL 238.908676 145.985669 \nL 240.591088 144.149567 \nL 243.955912 140.165387 \nL 245.638324 138.512597 \nL 247.320736 137.430644 \nL 249.003149 136.973495 \nL 252.367973 136.781697 \nL 326.394103 135.615935 \nL 386.960938 134.512622 \nL 386.960938 134.512622 \n\" style=\"fill:none;stroke:#000000;stroke-linecap:square;\"/>\n   </g>\n   <g id=\"line2d_19\">\n    <path clip-path=\"url(#pa8f24e9f13)\" d=\"M 52.160937 186.610505 \nL 55.525761 183.867055 \nL 60.572996 180.099603 \nL 65.620232 176.680905 \nL 70.667467 173.551832 \nL 75.714703 170.667112 \nL 80.761944 167.991328 \nL 87.491592 164.700646 \nL 94.221239 161.679147 \nL 100.950887 158.886094 \nL 109.362946 155.667714 \nL 117.775005 152.707275 \nL 126.187065 149.966479 \nL 136.281536 146.925146 \nL 146.376007 144.115154 \nL 158.15289 141.085962 \nL 169.929784 138.286333 \nL 183.389079 135.326661 \nL 196.848374 132.586532 \nL 211.990081 129.728763 \nL 228.8142 126.79287 \nL 247.32073 123.811851 \nL 265.827261 121.053416 \nL 286.016225 118.261895 \nL 307.887579 115.458201 \nL 331.441346 112.659253 \nL 356.677524 109.878386 \nL 385.278526 106.960635 \nL 386.960938 106.795979 \nL 386.960938 106.795979 \n\" style=\"fill:none;stroke:#0000ff;stroke-dasharray:5.55,2.4;stroke-dashoffset:0;stroke-opacity:0.5;stroke-width:1.5;\"/>\n   </g>\n   <g id=\"line2d_20\">\n    <path clip-path=\"url(#pa8f24e9f13)\" d=\"M 52.160938 232.759219 \nL 386.960938 232.759219 \n\" style=\"fill:none;stroke:#d62728;stroke-dasharray:5.55,2.4;stroke-dashoffset:0;stroke-opacity:0.5;stroke-width:1.5;\"/>\n   </g>\n   <g id=\"line2d_21\">\n    <path clip-path=\"url(#pa8f24e9f13)\" d=\"M 52.160937 232.063586 \nL 74.032291 231.340865 \nL 92.538827 230.514634 \nL 107.680534 229.611806 \nL 119.457417 228.697099 \nL 129.551888 227.696925 \nL 137.963948 226.647527 \nL 144.693595 225.613181 \nL 151.423243 224.34333 \nL 156.470478 223.185862 \nL 161.517725 221.796346 \nL 166.56496 220.102649 \nL 169.929784 218.755756 \nL 173.294608 217.188837 \nL 176.659432 215.350452 \nL 180.024255 213.175321 \nL 183.389079 210.581674 \nL 186.753903 207.470301 \nL 188.436315 205.685551 \nL 190.118727 203.728883 \nL 191.801139 201.586858 \nL 193.48355 199.248396 \nL 195.165962 196.706599 \nL 198.530786 191.019771 \nL 201.89561 184.640734 \nL 210.307669 167.904447 \nL 213.672493 161.95486 \nL 217.037317 156.791258 \nL 218.719729 154.513558 \nL 220.40214 152.429256 \nL 223.766964 148.791147 \nL 227.131788 145.765577 \nL 230.496612 143.241588 \nL 233.861435 141.122543 \nL 237.226259 139.329313 \nL 240.591083 137.798889 \nL 243.955907 136.481696 \nL 249.003142 134.822919 \nL 254.050378 133.459834 \nL 259.097613 132.322729 \nL 265.827261 131.073397 \nL 272.556908 130.054295 \nL 280.96899 129.018961 \nL 291.063461 128.030822 \nL 302.840344 127.125922 \nL 316.299639 126.319312 \nL 333.123758 125.543935 \nL 353.3127 124.841706 \nL 378.548878 124.19075 \nL 386.960938 124.013464 \nL 386.960938 124.013464 \n\" style=\"fill:none;stroke:#1f77b4;stroke-linecap:square;stroke-width:1.5;\"/>\n   </g>\n   <g id=\"patch_3\">\n    <path d=\"M 52.160938 288.199219 \nL 52.160938 10.999219 \n\" style=\"fill:none;stroke:#000000;stroke-linecap:square;stroke-linejoin:miter;stroke-width:0.8;\"/>\n   </g>\n   <g id=\"patch_4\">\n    <path d=\"M 386.960938 288.199219 \nL 386.960938 10.999219 \n\" style=\"fill:none;stroke:#000000;stroke-linecap:square;stroke-linejoin:miter;stroke-width:0.8;\"/>\n   </g>\n   <g id=\"patch_5\">\n    <path d=\"M 52.160938 288.199219 \nL 386.960938 288.199219 \n\" style=\"fill:none;stroke:#000000;stroke-linecap:square;stroke-linejoin:miter;stroke-width:0.8;\"/>\n   </g>\n   <g id=\"patch_6\">\n    <path d=\"M 52.160938 10.999219 \nL 386.960938 10.999219 \n\" style=\"fill:none;stroke:#000000;stroke-linecap:square;stroke-linejoin:miter;stroke-width:0.8;\"/>\n   </g>\n   <g id=\"legend_1\">\n    <g id=\"patch_7\">\n     <path d=\"M 238.596875 92.389844 \nL 379.960938 92.389844 \nQ 381.960938 92.389844 381.960938 90.389844 \nL 381.960938 17.999219 \nQ 381.960938 15.999219 379.960938 15.999219 \nL 238.596875 15.999219 \nQ 236.596875 15.999219 236.596875 17.999219 \nL 236.596875 90.389844 \nQ 236.596875 92.389844 238.596875 92.389844 \nz\n\" style=\"fill:#ffffff;opacity:0.8;stroke:#cccccc;stroke-linejoin:miter;\"/>\n    </g>\n    <g id=\"line2d_22\">\n     <path d=\"M 240.596875 24.097656 \nL 260.596875 24.097656 \n\" style=\"fill:none;stroke:#0000ff;stroke-dasharray:5.55,2.4;stroke-dashoffset:0;stroke-opacity:0.5;stroke-width:1.5;\"/>\n    </g>\n    <g id=\"line2d_23\"/>\n    <g id=\"text_14\">\n     <!-- Upper bound -->\n     <g transform=\"translate(268.596875 27.597656)scale(0.1 -0.1)\">\n      <defs>\n       <path d=\"M 8.6875 72.90625 \nL 18.609375 72.90625 \nL 18.609375 28.609375 \nQ 18.609375 16.890625 22.84375 11.734375 \nQ 27.09375 6.59375 36.625 6.59375 \nQ 46.09375 6.59375 50.34375 11.734375 \nQ 54.59375 16.890625 54.59375 28.609375 \nL 54.59375 72.90625 \nL 64.5 72.90625 \nL 64.5 27.390625 \nQ 64.5 13.140625 57.4375 5.859375 \nQ 50.390625 -1.421875 36.625 -1.421875 \nQ 22.796875 -1.421875 15.734375 5.859375 \nQ 8.6875 13.140625 8.6875 27.390625 \nz\n\" id=\"DejaVuSans-85\"/>\n       <path d=\"M 18.109375 8.203125 \nL 18.109375 -20.796875 \nL 9.078125 -20.796875 \nL 9.078125 54.6875 \nL 18.109375 54.6875 \nL 18.109375 46.390625 \nQ 20.953125 51.265625 25.265625 53.625 \nQ 29.59375 56 35.59375 56 \nQ 45.5625 56 51.78125 48.09375 \nQ 58.015625 40.1875 58.015625 27.296875 \nQ 58.015625 14.40625 51.78125 6.484375 \nQ 45.5625 -1.421875 35.59375 -1.421875 \nQ 29.59375 -1.421875 25.265625 0.953125 \nQ 20.953125 3.328125 18.109375 8.203125 \nz\nM 48.6875 27.296875 \nQ 48.6875 37.203125 44.609375 42.84375 \nQ 40.53125 48.484375 33.40625 48.484375 \nQ 26.265625 48.484375 22.1875 42.84375 \nQ 18.109375 37.203125 18.109375 27.296875 \nQ 18.109375 17.390625 22.1875 11.75 \nQ 26.265625 6.109375 33.40625 6.109375 \nQ 40.53125 6.109375 44.609375 11.75 \nQ 48.6875 17.390625 48.6875 27.296875 \nz\n\" id=\"DejaVuSans-112\"/>\n       <path d=\"M 56.203125 29.59375 \nL 56.203125 25.203125 \nL 14.890625 25.203125 \nQ 15.484375 15.921875 20.484375 11.0625 \nQ 25.484375 6.203125 34.421875 6.203125 \nQ 39.59375 6.203125 44.453125 7.46875 \nQ 49.3125 8.734375 54.109375 11.28125 \nL 54.109375 2.78125 \nQ 49.265625 0.734375 44.1875 -0.34375 \nQ 39.109375 -1.421875 33.890625 -1.421875 \nQ 20.796875 -1.421875 13.15625 6.1875 \nQ 5.515625 13.8125 5.515625 26.8125 \nQ 5.515625 40.234375 12.765625 48.109375 \nQ 20.015625 56 32.328125 56 \nQ 43.359375 56 49.78125 48.890625 \nQ 56.203125 41.796875 56.203125 29.59375 \nz\nM 47.21875 32.234375 \nQ 47.125 39.59375 43.09375 43.984375 \nQ 39.0625 48.390625 32.421875 48.390625 \nQ 24.90625 48.390625 20.390625 44.140625 \nQ 15.875 39.890625 15.1875 32.171875 \nz\n\" id=\"DejaVuSans-101\"/>\n       <path d=\"M 41.109375 46.296875 \nQ 39.59375 47.171875 37.8125 47.578125 \nQ 36.03125 48 33.890625 48 \nQ 26.265625 48 22.1875 43.046875 \nQ 18.109375 38.09375 18.109375 28.8125 \nL 18.109375 0 \nL 9.078125 0 \nL 9.078125 54.6875 \nL 18.109375 54.6875 \nL 18.109375 46.1875 \nQ 20.953125 51.171875 25.484375 53.578125 \nQ 30.03125 56 36.53125 56 \nQ 37.453125 56 38.578125 55.875 \nQ 39.703125 55.765625 41.0625 55.515625 \nz\n\" id=\"DejaVuSans-114\"/>\n       <path id=\"DejaVuSans-32\"/>\n       <path d=\"M 48.6875 27.296875 \nQ 48.6875 37.203125 44.609375 42.84375 \nQ 40.53125 48.484375 33.40625 48.484375 \nQ 26.265625 48.484375 22.1875 42.84375 \nQ 18.109375 37.203125 18.109375 27.296875 \nQ 18.109375 17.390625 22.1875 11.75 \nQ 26.265625 6.109375 33.40625 6.109375 \nQ 40.53125 6.109375 44.609375 11.75 \nQ 48.6875 17.390625 48.6875 27.296875 \nz\nM 18.109375 46.390625 \nQ 20.953125 51.265625 25.265625 53.625 \nQ 29.59375 56 35.59375 56 \nQ 45.5625 56 51.78125 48.09375 \nQ 58.015625 40.1875 58.015625 27.296875 \nQ 58.015625 14.40625 51.78125 6.484375 \nQ 45.5625 -1.421875 35.59375 -1.421875 \nQ 29.59375 -1.421875 25.265625 0.953125 \nQ 20.953125 3.328125 18.109375 8.203125 \nL 18.109375 0 \nL 9.078125 0 \nL 9.078125 75.984375 \nL 18.109375 75.984375 \nz\n\" id=\"DejaVuSans-98\"/>\n       <path d=\"M 30.609375 48.390625 \nQ 23.390625 48.390625 19.1875 42.75 \nQ 14.984375 37.109375 14.984375 27.296875 \nQ 14.984375 17.484375 19.15625 11.84375 \nQ 23.34375 6.203125 30.609375 6.203125 \nQ 37.796875 6.203125 41.984375 11.859375 \nQ 46.1875 17.53125 46.1875 27.296875 \nQ 46.1875 37.015625 41.984375 42.703125 \nQ 37.796875 48.390625 30.609375 48.390625 \nz\nM 30.609375 56 \nQ 42.328125 56 49.015625 48.375 \nQ 55.71875 40.765625 55.71875 27.296875 \nQ 55.71875 13.875 49.015625 6.21875 \nQ 42.328125 -1.421875 30.609375 -1.421875 \nQ 18.84375 -1.421875 12.171875 6.21875 \nQ 5.515625 13.875 5.515625 27.296875 \nQ 5.515625 40.765625 12.171875 48.375 \nQ 18.84375 56 30.609375 56 \nz\n\" id=\"DejaVuSans-111\"/>\n       <path d=\"M 8.5 21.578125 \nL 8.5 54.6875 \nL 17.484375 54.6875 \nL 17.484375 21.921875 \nQ 17.484375 14.15625 20.5 10.265625 \nQ 23.53125 6.390625 29.59375 6.390625 \nQ 36.859375 6.390625 41.078125 11.03125 \nQ 45.3125 15.671875 45.3125 23.6875 \nL 45.3125 54.6875 \nL 54.296875 54.6875 \nL 54.296875 0 \nL 45.3125 0 \nL 45.3125 8.40625 \nQ 42.046875 3.421875 37.71875 1 \nQ 33.40625 -1.421875 27.6875 -1.421875 \nQ 18.265625 -1.421875 13.375 4.4375 \nQ 8.5 10.296875 8.5 21.578125 \nz\nM 31.109375 56 \nz\n\" id=\"DejaVuSans-117\"/>\n       <path d=\"M 54.890625 33.015625 \nL 54.890625 0 \nL 45.90625 0 \nL 45.90625 32.71875 \nQ 45.90625 40.484375 42.875 44.328125 \nQ 39.84375 48.1875 33.796875 48.1875 \nQ 26.515625 48.1875 22.3125 43.546875 \nQ 18.109375 38.921875 18.109375 30.90625 \nL 18.109375 0 \nL 9.078125 0 \nL 9.078125 54.6875 \nL 18.109375 54.6875 \nL 18.109375 46.1875 \nQ 21.34375 51.125 25.703125 53.5625 \nQ 30.078125 56 35.796875 56 \nQ 45.21875 56 50.046875 50.171875 \nQ 54.890625 44.34375 54.890625 33.015625 \nz\n\" id=\"DejaVuSans-110\"/>\n       <path d=\"M 45.40625 46.390625 \nL 45.40625 75.984375 \nL 54.390625 75.984375 \nL 54.390625 0 \nL 45.40625 0 \nL 45.40625 8.203125 \nQ 42.578125 3.328125 38.25 0.953125 \nQ 33.9375 -1.421875 27.875 -1.421875 \nQ 17.96875 -1.421875 11.734375 6.484375 \nQ 5.515625 14.40625 5.515625 27.296875 \nQ 5.515625 40.1875 11.734375 48.09375 \nQ 17.96875 56 27.875 56 \nQ 33.9375 56 38.25 53.625 \nQ 42.578125 51.265625 45.40625 46.390625 \nz\nM 14.796875 27.296875 \nQ 14.796875 17.390625 18.875 11.75 \nQ 22.953125 6.109375 30.078125 6.109375 \nQ 37.203125 6.109375 41.296875 11.75 \nQ 45.40625 17.390625 45.40625 27.296875 \nQ 45.40625 37.203125 41.296875 42.84375 \nQ 37.203125 48.484375 30.078125 48.484375 \nQ 22.953125 48.484375 18.875 42.84375 \nQ 14.796875 37.203125 14.796875 27.296875 \nz\n\" id=\"DejaVuSans-100\"/>\n      </defs>\n      <use xlink:href=\"#DejaVuSans-85\"/>\n      <use x=\"73.193359\" xlink:href=\"#DejaVuSans-112\"/>\n      <use x=\"136.669922\" xlink:href=\"#DejaVuSans-112\"/>\n      <use x=\"200.146484\" xlink:href=\"#DejaVuSans-101\"/>\n      <use x=\"261.669922\" xlink:href=\"#DejaVuSans-114\"/>\n      <use x=\"302.783203\" xlink:href=\"#DejaVuSans-32\"/>\n      <use x=\"334.570312\" xlink:href=\"#DejaVuSans-98\"/>\n      <use x=\"398.046875\" xlink:href=\"#DejaVuSans-111\"/>\n      <use x=\"459.228516\" xlink:href=\"#DejaVuSans-117\"/>\n      <use x=\"522.607422\" xlink:href=\"#DejaVuSans-110\"/>\n      <use x=\"585.986328\" xlink:href=\"#DejaVuSans-100\"/>\n     </g>\n    </g>\n    <g id=\"line2d_24\">\n     <path d=\"M 240.596875 38.775781 \nL 260.596875 38.775781 \n\" style=\"fill:none;stroke:#d62728;stroke-dasharray:5.55,2.4;stroke-dashoffset:0;stroke-opacity:0.5;stroke-width:1.5;\"/>\n    </g>\n    <g id=\"line2d_25\"/>\n    <g id=\"text_15\">\n     <!-- Lower bound -->\n     <g transform=\"translate(268.596875 42.275781)scale(0.1 -0.1)\">\n      <defs>\n       <path d=\"M 9.8125 72.90625 \nL 19.671875 72.90625 \nL 19.671875 8.296875 \nL 55.171875 8.296875 \nL 55.171875 0 \nL 9.8125 0 \nz\n\" id=\"DejaVuSans-76\"/>\n       <path d=\"M 4.203125 54.6875 \nL 13.1875 54.6875 \nL 24.421875 12.015625 \nL 35.59375 54.6875 \nL 46.1875 54.6875 \nL 57.421875 12.015625 \nL 68.609375 54.6875 \nL 77.59375 54.6875 \nL 63.28125 0 \nL 52.6875 0 \nL 40.921875 44.828125 \nL 29.109375 0 \nL 18.5 0 \nz\n\" id=\"DejaVuSans-119\"/>\n      </defs>\n      <use xlink:href=\"#DejaVuSans-76\"/>\n      <use x=\"53.962891\" xlink:href=\"#DejaVuSans-111\"/>\n      <use x=\"115.144531\" xlink:href=\"#DejaVuSans-119\"/>\n      <use x=\"196.931641\" xlink:href=\"#DejaVuSans-101\"/>\n      <use x=\"258.455078\" xlink:href=\"#DejaVuSans-114\"/>\n      <use x=\"299.568359\" xlink:href=\"#DejaVuSans-32\"/>\n      <use x=\"331.355469\" xlink:href=\"#DejaVuSans-98\"/>\n      <use x=\"394.832031\" xlink:href=\"#DejaVuSans-111\"/>\n      <use x=\"456.013672\" xlink:href=\"#DejaVuSans-117\"/>\n      <use x=\"519.392578\" xlink:href=\"#DejaVuSans-110\"/>\n      <use x=\"582.771484\" xlink:href=\"#DejaVuSans-100\"/>\n     </g>\n    </g>\n    <g id=\"line2d_26\">\n     <path d=\"M 240.596875 53.453906 \nL 260.596875 53.453906 \n\" style=\"fill:none;stroke:#1f77b4;stroke-linecap:square;stroke-width:1.5;\"/>\n    </g>\n    <g id=\"line2d_27\"/>\n    <g id=\"text_16\">\n     <!-- True function -->\n     <g transform=\"translate(268.596875 56.953906)scale(0.1 -0.1)\">\n      <defs>\n       <path d=\"M -0.296875 72.90625 \nL 61.375 72.90625 \nL 61.375 64.59375 \nL 35.5 64.59375 \nL 35.5 0 \nL 25.59375 0 \nL 25.59375 64.59375 \nL -0.296875 64.59375 \nz\n\" id=\"DejaVuSans-84\"/>\n       <path d=\"M 37.109375 75.984375 \nL 37.109375 68.5 \nL 28.515625 68.5 \nQ 23.6875 68.5 21.796875 66.546875 \nQ 19.921875 64.59375 19.921875 59.515625 \nL 19.921875 54.6875 \nL 34.71875 54.6875 \nL 34.71875 47.703125 \nL 19.921875 47.703125 \nL 19.921875 0 \nL 10.890625 0 \nL 10.890625 47.703125 \nL 2.296875 47.703125 \nL 2.296875 54.6875 \nL 10.890625 54.6875 \nL 10.890625 58.5 \nQ 10.890625 67.625 15.140625 71.796875 \nQ 19.390625 75.984375 28.609375 75.984375 \nz\n\" id=\"DejaVuSans-102\"/>\n       <path d=\"M 48.78125 52.59375 \nL 48.78125 44.1875 \nQ 44.96875 46.296875 41.140625 47.34375 \nQ 37.3125 48.390625 33.40625 48.390625 \nQ 24.65625 48.390625 19.8125 42.84375 \nQ 14.984375 37.3125 14.984375 27.296875 \nQ 14.984375 17.28125 19.8125 11.734375 \nQ 24.65625 6.203125 33.40625 6.203125 \nQ 37.3125 6.203125 41.140625 7.25 \nQ 44.96875 8.296875 48.78125 10.40625 \nL 48.78125 2.09375 \nQ 45.015625 0.34375 40.984375 -0.53125 \nQ 36.96875 -1.421875 32.421875 -1.421875 \nQ 20.0625 -1.421875 12.78125 6.34375 \nQ 5.515625 14.109375 5.515625 27.296875 \nQ 5.515625 40.671875 12.859375 48.328125 \nQ 20.21875 56 33.015625 56 \nQ 37.15625 56 41.109375 55.140625 \nQ 45.0625 54.296875 48.78125 52.59375 \nz\n\" id=\"DejaVuSans-99\"/>\n       <path d=\"M 18.3125 70.21875 \nL 18.3125 54.6875 \nL 36.8125 54.6875 \nL 36.8125 47.703125 \nL 18.3125 47.703125 \nL 18.3125 18.015625 \nQ 18.3125 11.328125 20.140625 9.421875 \nQ 21.96875 7.515625 27.59375 7.515625 \nL 36.8125 7.515625 \nL 36.8125 0 \nL 27.59375 0 \nQ 17.1875 0 13.234375 3.875 \nQ 9.28125 7.765625 9.28125 18.015625 \nL 9.28125 47.703125 \nL 2.6875 47.703125 \nL 2.6875 54.6875 \nL 9.28125 54.6875 \nL 9.28125 70.21875 \nz\n\" id=\"DejaVuSans-116\"/>\n       <path d=\"M 9.421875 54.6875 \nL 18.40625 54.6875 \nL 18.40625 0 \nL 9.421875 0 \nz\nM 9.421875 75.984375 \nL 18.40625 75.984375 \nL 18.40625 64.59375 \nL 9.421875 64.59375 \nz\n\" id=\"DejaVuSans-105\"/>\n      </defs>\n      <use xlink:href=\"#DejaVuSans-84\"/>\n      <use x=\"46.333984\" xlink:href=\"#DejaVuSans-114\"/>\n      <use x=\"87.447266\" xlink:href=\"#DejaVuSans-117\"/>\n      <use x=\"150.826172\" xlink:href=\"#DejaVuSans-101\"/>\n      <use x=\"212.349609\" xlink:href=\"#DejaVuSans-32\"/>\n      <use x=\"244.136719\" xlink:href=\"#DejaVuSans-102\"/>\n      <use x=\"279.341797\" xlink:href=\"#DejaVuSans-117\"/>\n      <use x=\"342.720703\" xlink:href=\"#DejaVuSans-110\"/>\n      <use x=\"406.099609\" xlink:href=\"#DejaVuSans-99\"/>\n      <use x=\"461.080078\" xlink:href=\"#DejaVuSans-116\"/>\n      <use x=\"500.289062\" xlink:href=\"#DejaVuSans-105\"/>\n      <use x=\"528.072266\" xlink:href=\"#DejaVuSans-111\"/>\n      <use x=\"589.253906\" xlink:href=\"#DejaVuSans-110\"/>\n     </g>\n    </g>\n    <g id=\"PathCollection_2\">\n     <g>\n      <use style=\"fill-opacity:0.5;stroke:#000000;stroke-opacity:0.5;stroke-width:1.5;\" x=\"250.596875\" xlink:href=\"#m290826d658\" y=\"69.007031\"/>\n     </g>\n    </g>\n    <g id=\"text_17\">\n     <!-- Training set -->\n     <g transform=\"translate(268.596875 71.632031)scale(0.1 -0.1)\">\n      <defs>\n       <path d=\"M 34.28125 27.484375 \nQ 23.390625 27.484375 19.1875 25 \nQ 14.984375 22.515625 14.984375 16.5 \nQ 14.984375 11.71875 18.140625 8.90625 \nQ 21.296875 6.109375 26.703125 6.109375 \nQ 34.1875 6.109375 38.703125 11.40625 \nQ 43.21875 16.703125 43.21875 25.484375 \nL 43.21875 27.484375 \nz\nM 52.203125 31.203125 \nL 52.203125 0 \nL 43.21875 0 \nL 43.21875 8.296875 \nQ 40.140625 3.328125 35.546875 0.953125 \nQ 30.953125 -1.421875 24.3125 -1.421875 \nQ 15.921875 -1.421875 10.953125 3.296875 \nQ 6 8.015625 6 15.921875 \nQ 6 25.140625 12.171875 29.828125 \nQ 18.359375 34.515625 30.609375 34.515625 \nL 43.21875 34.515625 \nL 43.21875 35.40625 \nQ 43.21875 41.609375 39.140625 45 \nQ 35.0625 48.390625 27.6875 48.390625 \nQ 23 48.390625 18.546875 47.265625 \nQ 14.109375 46.140625 10.015625 43.890625 \nL 10.015625 52.203125 \nQ 14.9375 54.109375 19.578125 55.046875 \nQ 24.21875 56 28.609375 56 \nQ 40.484375 56 46.34375 49.84375 \nQ 52.203125 43.703125 52.203125 31.203125 \nz\n\" id=\"DejaVuSans-97\"/>\n       <path d=\"M 45.40625 27.984375 \nQ 45.40625 37.75 41.375 43.109375 \nQ 37.359375 48.484375 30.078125 48.484375 \nQ 22.859375 48.484375 18.828125 43.109375 \nQ 14.796875 37.75 14.796875 27.984375 \nQ 14.796875 18.265625 18.828125 12.890625 \nQ 22.859375 7.515625 30.078125 7.515625 \nQ 37.359375 7.515625 41.375 12.890625 \nQ 45.40625 18.265625 45.40625 27.984375 \nz\nM 54.390625 6.78125 \nQ 54.390625 -7.171875 48.1875 -13.984375 \nQ 42 -20.796875 29.203125 -20.796875 \nQ 24.46875 -20.796875 20.265625 -20.09375 \nQ 16.0625 -19.390625 12.109375 -17.921875 \nL 12.109375 -9.1875 \nQ 16.0625 -11.328125 19.921875 -12.34375 \nQ 23.78125 -13.375 27.78125 -13.375 \nQ 36.625 -13.375 41.015625 -8.765625 \nQ 45.40625 -4.15625 45.40625 5.171875 \nL 45.40625 9.625 \nQ 42.625 4.78125 38.28125 2.390625 \nQ 33.9375 0 27.875 0 \nQ 17.828125 0 11.671875 7.65625 \nQ 5.515625 15.328125 5.515625 27.984375 \nQ 5.515625 40.671875 11.671875 48.328125 \nQ 17.828125 56 27.875 56 \nQ 33.9375 56 38.28125 53.609375 \nQ 42.625 51.21875 45.40625 46.390625 \nL 45.40625 54.6875 \nL 54.390625 54.6875 \nz\n\" id=\"DejaVuSans-103\"/>\n       <path d=\"M 44.28125 53.078125 \nL 44.28125 44.578125 \nQ 40.484375 46.53125 36.375 47.5 \nQ 32.28125 48.484375 27.875 48.484375 \nQ 21.1875 48.484375 17.84375 46.4375 \nQ 14.5 44.390625 14.5 40.28125 \nQ 14.5 37.15625 16.890625 35.375 \nQ 19.28125 33.59375 26.515625 31.984375 \nL 29.59375 31.296875 \nQ 39.15625 29.25 43.1875 25.515625 \nQ 47.21875 21.78125 47.21875 15.09375 \nQ 47.21875 7.46875 41.1875 3.015625 \nQ 35.15625 -1.421875 24.609375 -1.421875 \nQ 20.21875 -1.421875 15.453125 -0.5625 \nQ 10.6875 0.296875 5.421875 2 \nL 5.421875 11.28125 \nQ 10.40625 8.6875 15.234375 7.390625 \nQ 20.0625 6.109375 24.8125 6.109375 \nQ 31.15625 6.109375 34.5625 8.28125 \nQ 37.984375 10.453125 37.984375 14.40625 \nQ 37.984375 18.0625 35.515625 20.015625 \nQ 33.0625 21.96875 24.703125 23.78125 \nL 21.578125 24.515625 \nQ 13.234375 26.265625 9.515625 29.90625 \nQ 5.8125 33.546875 5.8125 39.890625 \nQ 5.8125 47.609375 11.28125 51.796875 \nQ 16.75 56 26.8125 56 \nQ 31.78125 56 36.171875 55.265625 \nQ 40.578125 54.546875 44.28125 53.078125 \nz\n\" id=\"DejaVuSans-115\"/>\n      </defs>\n      <use xlink:href=\"#DejaVuSans-84\"/>\n      <use x=\"46.333984\" xlink:href=\"#DejaVuSans-114\"/>\n      <use x=\"87.447266\" xlink:href=\"#DejaVuSans-97\"/>\n      <use x=\"148.726562\" xlink:href=\"#DejaVuSans-105\"/>\n      <use x=\"176.509766\" xlink:href=\"#DejaVuSans-110\"/>\n      <use x=\"239.888672\" xlink:href=\"#DejaVuSans-105\"/>\n      <use x=\"267.671875\" xlink:href=\"#DejaVuSans-110\"/>\n      <use x=\"331.050781\" xlink:href=\"#DejaVuSans-103\"/>\n      <use x=\"394.527344\" xlink:href=\"#DejaVuSans-32\"/>\n      <use x=\"426.314453\" xlink:href=\"#DejaVuSans-115\"/>\n      <use x=\"478.414062\" xlink:href=\"#DejaVuSans-101\"/>\n      <use x=\"539.9375\" xlink:href=\"#DejaVuSans-116\"/>\n     </g>\n    </g>\n    <g id=\"patch_8\">\n     <path d=\"M 240.596875 86.310156 \nL 260.596875 86.310156 \nL 260.596875 79.310156 \nL 240.596875 79.310156 \nz\n\" style=\"fill:#ff7f0e;opacity:0.4;stroke:#ff7f0e;stroke-linejoin:miter;\"/>\n    </g>\n    <g id=\"text_18\">\n     <!-- Epistemic uncertainty -->\n     <g transform=\"translate(268.596875 86.310156)scale(0.1 -0.1)\">\n      <defs>\n       <path d=\"M 9.8125 72.90625 \nL 55.90625 72.90625 \nL 55.90625 64.59375 \nL 19.671875 64.59375 \nL 19.671875 43.015625 \nL 54.390625 43.015625 \nL 54.390625 34.71875 \nL 19.671875 34.71875 \nL 19.671875 8.296875 \nL 56.78125 8.296875 \nL 56.78125 0 \nL 9.8125 0 \nz\n\" id=\"DejaVuSans-69\"/>\n       <path d=\"M 52 44.1875 \nQ 55.375 50.25 60.0625 53.125 \nQ 64.75 56 71.09375 56 \nQ 79.640625 56 84.28125 50.015625 \nQ 88.921875 44.046875 88.921875 33.015625 \nL 88.921875 0 \nL 79.890625 0 \nL 79.890625 32.71875 \nQ 79.890625 40.578125 77.09375 44.375 \nQ 74.3125 48.1875 68.609375 48.1875 \nQ 61.625 48.1875 57.5625 43.546875 \nQ 53.515625 38.921875 53.515625 30.90625 \nL 53.515625 0 \nL 44.484375 0 \nL 44.484375 32.71875 \nQ 44.484375 40.625 41.703125 44.40625 \nQ 38.921875 48.1875 33.109375 48.1875 \nQ 26.21875 48.1875 22.15625 43.53125 \nQ 18.109375 38.875 18.109375 30.90625 \nL 18.109375 0 \nL 9.078125 0 \nL 9.078125 54.6875 \nL 18.109375 54.6875 \nL 18.109375 46.1875 \nQ 21.1875 51.21875 25.484375 53.609375 \nQ 29.78125 56 35.6875 56 \nQ 41.65625 56 45.828125 52.96875 \nQ 50 49.953125 52 44.1875 \nz\n\" id=\"DejaVuSans-109\"/>\n       <path d=\"M 32.171875 -5.078125 \nQ 28.375 -14.84375 24.75 -17.8125 \nQ 21.140625 -20.796875 15.09375 -20.796875 \nL 7.90625 -20.796875 \nL 7.90625 -13.28125 \nL 13.1875 -13.28125 \nQ 16.890625 -13.28125 18.9375 -11.515625 \nQ 21 -9.765625 23.484375 -3.21875 \nL 25.09375 0.875 \nL 2.984375 54.6875 \nL 12.5 54.6875 \nL 29.59375 11.921875 \nL 46.6875 54.6875 \nL 56.203125 54.6875 \nz\n\" id=\"DejaVuSans-121\"/>\n      </defs>\n      <use xlink:href=\"#DejaVuSans-69\"/>\n      <use x=\"63.183594\" xlink:href=\"#DejaVuSans-112\"/>\n      <use x=\"126.660156\" xlink:href=\"#DejaVuSans-105\"/>\n      <use x=\"154.443359\" xlink:href=\"#DejaVuSans-115\"/>\n      <use x=\"206.542969\" xlink:href=\"#DejaVuSans-116\"/>\n      <use x=\"245.751953\" xlink:href=\"#DejaVuSans-101\"/>\n      <use x=\"307.275391\" xlink:href=\"#DejaVuSans-109\"/>\n      <use x=\"404.6875\" xlink:href=\"#DejaVuSans-105\"/>\n      <use x=\"432.470703\" xlink:href=\"#DejaVuSans-99\"/>\n      <use x=\"487.451172\" xlink:href=\"#DejaVuSans-32\"/>\n      <use x=\"519.238281\" xlink:href=\"#DejaVuSans-117\"/>\n      <use x=\"582.617188\" xlink:href=\"#DejaVuSans-110\"/>\n      <use x=\"645.996094\" xlink:href=\"#DejaVuSans-99\"/>\n      <use x=\"700.976562\" xlink:href=\"#DejaVuSans-101\"/>\n      <use x=\"762.5\" xlink:href=\"#DejaVuSans-114\"/>\n      <use x=\"803.613281\" xlink:href=\"#DejaVuSans-116\"/>\n      <use x=\"842.822266\" xlink:href=\"#DejaVuSans-97\"/>\n      <use x=\"904.101562\" xlink:href=\"#DejaVuSans-105\"/>\n      <use x=\"931.884766\" xlink:href=\"#DejaVuSans-110\"/>\n      <use x=\"995.263672\" xlink:href=\"#DejaVuSans-116\"/>\n      <use x=\"1034.472656\" xlink:href=\"#DejaVuSans-121\"/>\n     </g>\n    </g>\n   </g>\n  </g>\n </g>\n <defs>\n  <clipPath id=\"pa8f24e9f13\">\n   <rect height=\"277.2\" width=\"334.8\" x=\"52.160938\" y=\"10.999219\"/>\n  </clipPath>\n </defs>\n</svg>\n",
      "text/plain": [
       "<Figure size 600x500 with 1 Axes>"
      ]
     },
     "execution_count": 95,
     "metadata": {
     },
     "output_type": "execute_result"
    }
   ],
   "source": [
    "y_up=fun_UB(torch.linspace(0.08, 1, 200))\n",
    "x_test=torch.linspace(0.08, 1, 200)\n",
    "samples = []\n",
    "for i in range(500):\n",
    "    preds = (net.network.forward(torch.linspace(0.05, 1, 200).to(device))[0] ) \n",
    "    samples.append(preds.cpu().data.numpy()[:, 0])\n",
    "\n",
    "samples = np.array(samples)\n",
    "means = samples.mean(axis = 0)\n",
    "\n",
    "aleatoric = net.network.log_noise.exp().cpu().data.numpy()\n",
    "epistemic = samples.var(axis = 0)**0.5\n",
    "total_unc = (aleatoric**2 + epistemic**2)**0.5\n",
    "\n",
    "\n",
    "c = ['#1f77b4', '#ff7f0e', '#2ca02c', '#d62728', '#9467bd',\n",
    "     '#8c564b', '#e377c2', '#7f7f7f', '#bcbd22', '#17becf']\n",
    "# ax =sns.lineplot(X_test.numpy(),y_lb.numpy())\n",
    "\n",
    "plt.figure(figsize = (6, 5))\n",
    "plt.style.use('default')\n",
    "plt.scatter(x_train , y_train , s = 10, marker = 'x', color = 'black', alpha = 0.5,label='Training set')\n",
    "# plt.fill_between(np.linspace(0, 1, 200), means + aleatoric, means + total_unc, color = c[0], alpha = 0.3, label = 'Epistemic uncentainty')\n",
    "# plt.fill_between(np.linspace(0, 1, 200), means - total_unc, means - aleatoric, color = c[0], alpha = 0.3)\n",
    "plt.fill_between(np.linspace(0.08, 1, 200), means - epistemic, means + epistemic, color = c[1], alpha = 0.4, label = 'Epistemic uncertainty')\n",
    "plt.plot(np.linspace(0.08, 1, 200), means, color = 'black', linewidth = 1)\n",
    "plt.plot(x_test.numpy(),y_up.numpy(),color='blue', linestyle='--',alpha=0.5,label='Upper bound')\n",
    "plt.axhline(y=0., color=c[3], linestyle='--',alpha=0.5,label='Lower bound')\n",
    "plt.plot(x_test.numpy(),fun(x_test.numpy()),label='True function')\n",
    "\n",
    "\n",
    "plt.xlim([0.08, 1])\n",
    "plt.ylim([-0.5,2])\n",
    "plt.xlabel('$x$', fontsize=10)\n",
    "plt.ylabel('$y$', fontsize=10)\n",
    "\n",
    "# plt.title('With Hard Constraints', fontsize=10)\n",
    "plt.tick_params(labelsize=10)\n",
    "# plt.xticks(np.arange(-4, 5, 2))\n",
    "plt.gca().yaxis.grid(alpha=0.2)\n",
    "plt.legend()\n",
    "# plt.gca().xaxis.grid(alpha=0.3)\n",
    "# plt.savefig('bbp_homo.pdf', bbox_inches = 'tight')\n",
    "\n",
    "# files.download(\"bbp_homo.pdf\")\n",
    "# plt.savefig('./aleatoric/results/with_constraint_lr.jpg')\n",
    "plt.show()\n"
   ]
  },
  {
   "cell_type": "code",
   "execution_count": 105,
   "metadata": {
    "collapsed": false
   },
   "outputs": [
    {
     "name": "stdout",
     "output_type": "stream",
     "text": [
      "(200,)\n",
      "(0.0, 0.0, 0.0, 0, 0, 0)\n"
     ]
    }
   ],
   "source": [
    "def violate(result):\n",
    "    #first constraint:\n",
    "    diff1=result-fun_UB(torch.linspace(0.08, 1, 200).cpu()).numpy()  #ub\n",
    "    diff2=torch.FloatTensor(constant_function(0)(torch.linspace(0.08, 1, 200).cpu())).numpy()-result#lb\n",
    "    diff1[diff1<0.0001]=0\n",
    "    diff2[diff2<0.0001]=0\n",
    "    sample_output_0=result[:-1]\n",
    "    sample_output_1=result[1:]\n",
    "    diff_vector=sample_output_0-sample_output_1\n",
    "    diff_vector[diff_vector<0.0001]=0\n",
    "    v1=diff1.mean\n",
    "    print(diff1.shape)\n",
    "    v1,v2,v3=diff1.mean(),diff2.mean(),diff_vector.mean()\n",
    "    c1,c2,c3=np.count_nonzero(diff1>0.0001), np.count_nonzero(diff2>0.0001),np.count_nonzero(diff_vector>0.0001)\n",
    "    return v1, v2, v3,c1,c2,c3\n",
    "\n",
    "print(violate(means))\n"
   ]
  },
  {
   "cell_type": "code",
   "execution_count": 100,
   "metadata": {
    "collapsed": false
   },
   "outputs": [
    {
     "name": "stdout",
     "output_type": "stream",
     "text": [
      "MSE: tensor(0.0052, dtype=torch.float64)\n",
      "STD:  0.039735176\n"
     ]
    }
   ],
   "source": [
    "x_test = np.linspace(0.08, 1, 200)\n",
    "y_true = fun(x_test)\n",
    "MSE=F.mse_loss(torch.tensor(means),torch.tensor(y_true))\n",
    "print('MSE:',MSE)\n",
    "pred_std=np.mean(np.var(samples,axis=0)**0.5)\n",
    "print('STD: ',pred_std)"
   ]
  },
  {
   "cell_type": "code",
   "execution_count": 101,
   "metadata": {
    "collapsed": false
   },
   "outputs": [
   ],
   "source": [
    "# torch.save(net.network.state_dict(), './hard_constraint.pth')"
   ]
  },
  {
   "cell_type": "code",
   "execution_count": 14,
   "metadata": {
    "collapsed": false
   },
   "outputs": [
    {
     "data": {
      "image/svg+xml": "<?xml version=\"1.0\" encoding=\"utf-8\" standalone=\"no\"?>\n<!DOCTYPE svg PUBLIC \"-//W3C//DTD SVG 1.1//EN\"\n  \"http://www.w3.org/Graphics/SVG/1.1/DTD/svg11.dtd\">\n<!-- Created with matplotlib (https://matplotlib.org/) -->\n<svg height=\"335.554688pt\" version=\"1.1\" viewBox=\"0 0 402.1125 335.554688\" width=\"402.1125pt\" xmlns=\"http://www.w3.org/2000/svg\" xmlns:xlink=\"http://www.w3.org/1999/xlink\">\n <metadata>\n  <rdf:RDF xmlns:cc=\"http://creativecommons.org/ns#\" xmlns:dc=\"http://purl.org/dc/elements/1.1/\" xmlns:rdf=\"http://www.w3.org/1999/02/22-rdf-syntax-ns#\">\n   <cc:Work>\n    <dc:type rdf:resource=\"http://purl.org/dc/dcmitype/StillImage\"/>\n    <dc:date>2022-08-28T06:24:49.541285</dc:date>\n    <dc:format>image/svg+xml</dc:format>\n    <dc:creator>\n     <cc:Agent>\n      <dc:title>Matplotlib v3.3.4, https://matplotlib.org/</dc:title>\n     </cc:Agent>\n    </dc:creator>\n   </cc:Work>\n  </rdf:RDF>\n </metadata>\n <defs>\n  <style type=\"text/css\">*{stroke-linecap:butt;stroke-linejoin:round;}</style>\n </defs>\n <g id=\"figure_1\">\n  <g id=\"patch_1\">\n   <path d=\"M 0 335.554688 \nL 402.1125 335.554688 \nL 402.1125 0 \nL 0 0 \nz\n\" style=\"fill:#ffffff;\"/>\n  </g>\n  <g id=\"axes_1\">\n   <g id=\"patch_2\">\n    <path d=\"M 52.160938 297.998438 \nL 386.960938 297.998438 \nL 386.960938 20.798437 \nL 52.160938 20.798437 \nz\n\" style=\"fill:#ffffff;\"/>\n   </g>\n   <g id=\"PathCollection_1\">\n    <defs>\n     <path d=\"M -1.581139 1.581139 \nL 1.581139 -1.581139 \nM -1.581139 -1.581139 \nL 1.581139 1.581139 \n\" id=\"m938e8b53be\" style=\"stroke:#000000;stroke-opacity:0.5;stroke-width:1.5;\"/>\n    </defs>\n    <g clip-path=\"url(#pef2d634841)\">\n     <use style=\"fill-opacity:0.5;stroke:#000000;stroke-opacity:0.5;stroke-width:1.5;\" x=\"85.661999\" xlink:href=\"#m938e8b53be\" y=\"226.880684\"/>\n     <use style=\"fill-opacity:0.5;stroke:#000000;stroke-opacity:0.5;stroke-width:1.5;\" x=\"86.16948\" xlink:href=\"#m938e8b53be\" y=\"233.696994\"/>\n     <use style=\"fill-opacity:0.5;stroke:#000000;stroke-opacity:0.5;stroke-width:1.5;\" x=\"89.20717\" xlink:href=\"#m938e8b53be\" y=\"241.614593\"/>\n     <use style=\"fill-opacity:0.5;stroke:#000000;stroke-opacity:0.5;stroke-width:1.5;\" x=\"90.684089\" xlink:href=\"#m938e8b53be\" y=\"234.578759\"/>\n     <use style=\"fill-opacity:0.5;stroke:#000000;stroke-opacity:0.5;stroke-width:1.5;\" x=\"94.839366\" xlink:href=\"#m938e8b53be\" y=\"238.366937\"/>\n     <use style=\"fill-opacity:0.5;stroke:#000000;stroke-opacity:0.5;stroke-width:1.5;\" x=\"95.467115\" xlink:href=\"#m938e8b53be\" y=\"240.082694\"/>\n     <use style=\"fill-opacity:0.5;stroke:#000000;stroke-opacity:0.5;stroke-width:1.5;\" x=\"101.30098\" xlink:href=\"#m938e8b53be\" y=\"240.997354\"/>\n     <use style=\"fill-opacity:0.5;stroke:#000000;stroke-opacity:0.5;stroke-width:1.5;\" x=\"103.750525\" xlink:href=\"#m938e8b53be\" y=\"236.135103\"/>\n     <use style=\"fill-opacity:0.5;stroke:#000000;stroke-opacity:0.5;stroke-width:1.5;\" x=\"104.484797\" xlink:href=\"#m938e8b53be\" y=\"227.563832\"/>\n     <use style=\"fill-opacity:0.5;stroke:#000000;stroke-opacity:0.5;stroke-width:1.5;\" x=\"106.770261\" xlink:href=\"#m938e8b53be\" y=\"229.394966\"/>\n     <use style=\"fill-opacity:0.5;stroke:#000000;stroke-opacity:0.5;stroke-width:1.5;\" x=\"109.5844\" xlink:href=\"#m938e8b53be\" y=\"238.124155\"/>\n     <use style=\"fill-opacity:0.5;stroke:#000000;stroke-opacity:0.5;stroke-width:1.5;\" x=\"110.955532\" xlink:href=\"#m938e8b53be\" y=\"235.654122\"/>\n     <use style=\"fill-opacity:0.5;stroke:#000000;stroke-opacity:0.5;stroke-width:1.5;\" x=\"111.491789\" xlink:href=\"#m938e8b53be\" y=\"239.063801\"/>\n     <use style=\"fill-opacity:0.5;stroke:#000000;stroke-opacity:0.5;stroke-width:1.5;\" x=\"112.659538\" xlink:href=\"#m938e8b53be\" y=\"224.040594\"/>\n     <use style=\"fill-opacity:0.5;stroke:#000000;stroke-opacity:0.5;stroke-width:1.5;\" x=\"119.938895\" xlink:href=\"#m938e8b53be\" y=\"237.138911\"/>\n     <use style=\"fill-opacity:0.5;stroke:#000000;stroke-opacity:0.5;stroke-width:1.5;\" x=\"122.119348\" xlink:href=\"#m938e8b53be\" y=\"213.509504\"/>\n     <use style=\"fill-opacity:0.5;stroke:#000000;stroke-opacity:0.5;stroke-width:1.5;\" x=\"123.288773\" xlink:href=\"#m938e8b53be\" y=\"227.419643\"/>\n     <use style=\"fill-opacity:0.5;stroke:#000000;stroke-opacity:0.5;stroke-width:1.5;\" x=\"124.61014\" xlink:href=\"#m938e8b53be\" y=\"221.24632\"/>\n     <use style=\"fill-opacity:0.5;stroke:#000000;stroke-opacity:0.5;stroke-width:1.5;\" x=\"129.287087\" xlink:href=\"#m938e8b53be\" y=\"238.366095\"/>\n     <use style=\"fill-opacity:0.5;stroke:#000000;stroke-opacity:0.5;stroke-width:1.5;\" x=\"134.538697\" xlink:href=\"#m938e8b53be\" y=\"223.556069\"/>\n     <use style=\"fill-opacity:0.5;stroke:#000000;stroke-opacity:0.5;stroke-width:1.5;\" x=\"135.345459\" xlink:href=\"#m938e8b53be\" y=\"241.997565\"/>\n     <use style=\"fill-opacity:0.5;stroke:#000000;stroke-opacity:0.5;stroke-width:1.5;\" x=\"137.281898\" xlink:href=\"#m938e8b53be\" y=\"232.024575\"/>\n     <use style=\"fill-opacity:0.5;stroke:#000000;stroke-opacity:0.5;stroke-width:1.5;\" x=\"138.631887\" xlink:href=\"#m938e8b53be\" y=\"241.667425\"/>\n     <use style=\"fill-opacity:0.5;stroke:#000000;stroke-opacity:0.5;stroke-width:1.5;\" x=\"141.312458\" xlink:href=\"#m938e8b53be\" y=\"236.981146\"/>\n     <use style=\"fill-opacity:0.5;stroke:#000000;stroke-opacity:0.5;stroke-width:1.5;\" x=\"143.739981\" xlink:href=\"#m938e8b53be\" y=\"223.702532\"/>\n     <use style=\"fill-opacity:0.5;stroke:#000000;stroke-opacity:0.5;stroke-width:1.5;\" x=\"149.272491\" xlink:href=\"#m938e8b53be\" y=\"235.438419\"/>\n     <use style=\"fill-opacity:0.5;stroke:#000000;stroke-opacity:0.5;stroke-width:1.5;\" x=\"149.678539\" xlink:href=\"#m938e8b53be\" y=\"233.114812\"/>\n     <use style=\"fill-opacity:0.5;stroke:#000000;stroke-opacity:0.5;stroke-width:1.5;\" x=\"149.887075\" xlink:href=\"#m938e8b53be\" y=\"241.270951\"/>\n     <use style=\"fill-opacity:0.5;stroke:#000000;stroke-opacity:0.5;stroke-width:1.5;\" x=\"158.701698\" xlink:href=\"#m938e8b53be\" y=\"222.389516\"/>\n     <use style=\"fill-opacity:0.5;stroke:#000000;stroke-opacity:0.5;stroke-width:1.5;\" x=\"160.795244\" xlink:href=\"#m938e8b53be\" y=\"228.664783\"/>\n     <use style=\"fill-opacity:0.5;stroke:#000000;stroke-opacity:0.5;stroke-width:1.5;\" x=\"161.885211\" xlink:href=\"#m938e8b53be\" y=\"239.692127\"/>\n     <use style=\"fill-opacity:0.5;stroke:#000000;stroke-opacity:0.5;stroke-width:1.5;\" x=\"162.431367\" xlink:href=\"#m938e8b53be\" y=\"241.132914\"/>\n     <use style=\"fill-opacity:0.5;stroke:#000000;stroke-opacity:0.5;stroke-width:1.5;\" x=\"162.831417\" xlink:href=\"#m938e8b53be\" y=\"237.995241\"/>\n     <use style=\"fill-opacity:0.5;stroke:#000000;stroke-opacity:0.5;stroke-width:1.5;\" x=\"163.183694\" xlink:href=\"#m938e8b53be\" y=\"239.334578\"/>\n     <use style=\"fill-opacity:0.5;stroke:#000000;stroke-opacity:0.5;stroke-width:1.5;\" x=\"164.469645\" xlink:href=\"#m938e8b53be\" y=\"231.877885\"/>\n     <use style=\"fill-opacity:0.5;stroke:#000000;stroke-opacity:0.5;stroke-width:1.5;\" x=\"168.116049\" xlink:href=\"#m938e8b53be\" y=\"228.348504\"/>\n     <use style=\"fill-opacity:0.5;stroke:#000000;stroke-opacity:0.5;stroke-width:1.5;\" x=\"168.487762\" xlink:href=\"#m938e8b53be\" y=\"236.17042\"/>\n     <use style=\"fill-opacity:0.5;stroke:#000000;stroke-opacity:0.5;stroke-width:1.5;\" x=\"176.159217\" xlink:href=\"#m938e8b53be\" y=\"232.923807\"/>\n     <use style=\"fill-opacity:0.5;stroke:#000000;stroke-opacity:0.5;stroke-width:1.5;\" x=\"180.452622\" xlink:href=\"#m938e8b53be\" y=\"228.08845\"/>\n     <use style=\"fill-opacity:0.5;stroke:#000000;stroke-opacity:0.5;stroke-width:1.5;\" x=\"183.81799\" xlink:href=\"#m938e8b53be\" y=\"236.03975\"/>\n     <use style=\"fill-opacity:0.5;stroke:#000000;stroke-opacity:0.5;stroke-width:1.5;\" x=\"184.320902\" xlink:href=\"#m938e8b53be\" y=\"221.999421\"/>\n     <use style=\"fill-opacity:0.5;stroke:#000000;stroke-opacity:0.5;stroke-width:1.5;\" x=\"184.858647\" xlink:href=\"#m938e8b53be\" y=\"220.291569\"/>\n     <use style=\"fill-opacity:0.5;stroke:#000000;stroke-opacity:0.5;stroke-width:1.5;\" x=\"188.518081\" xlink:href=\"#m938e8b53be\" y=\"225.706101\"/>\n     <use style=\"fill-opacity:0.5;stroke:#000000;stroke-opacity:0.5;stroke-width:1.5;\" x=\"191.278275\" xlink:href=\"#m938e8b53be\" y=\"199.937219\"/>\n     <use style=\"fill-opacity:0.5;stroke:#000000;stroke-opacity:0.5;stroke-width:1.5;\" x=\"191.358956\" xlink:href=\"#m938e8b53be\" y=\"216.270598\"/>\n     <use style=\"fill-opacity:0.5;stroke:#000000;stroke-opacity:0.5;stroke-width:1.5;\" x=\"192.145597\" xlink:href=\"#m938e8b53be\" y=\"227.226248\"/>\n     <use style=\"fill-opacity:0.5;stroke:#000000;stroke-opacity:0.5;stroke-width:1.5;\" x=\"193.649184\" xlink:href=\"#m938e8b53be\" y=\"229.058326\"/>\n     <use style=\"fill-opacity:0.5;stroke:#000000;stroke-opacity:0.5;stroke-width:1.5;\" x=\"194.155658\" xlink:href=\"#m938e8b53be\" y=\"227.283027\"/>\n     <use style=\"fill-opacity:0.5;stroke:#000000;stroke-opacity:0.5;stroke-width:1.5;\" x=\"199.282001\" xlink:href=\"#m938e8b53be\" y=\"226.299642\"/>\n     <use style=\"fill-opacity:0.5;stroke:#000000;stroke-opacity:0.5;stroke-width:1.5;\" x=\"200.119988\" xlink:href=\"#m938e8b53be\" y=\"207.451904\"/>\n     <use style=\"fill-opacity:0.5;stroke:#000000;stroke-opacity:0.5;stroke-width:1.5;\" x=\"200.483939\" xlink:href=\"#m938e8b53be\" y=\"227.359358\"/>\n     <use style=\"fill-opacity:0.5;stroke:#000000;stroke-opacity:0.5;stroke-width:1.5;\" x=\"207.807058\" xlink:href=\"#m938e8b53be\" y=\"211.71059\"/>\n     <use style=\"fill-opacity:0.5;stroke:#000000;stroke-opacity:0.5;stroke-width:1.5;\" x=\"207.872084\" xlink:href=\"#m938e8b53be\" y=\"216.583602\"/>\n     <use style=\"fill-opacity:0.5;stroke:#000000;stroke-opacity:0.5;stroke-width:1.5;\" x=\"209.100822\" xlink:href=\"#m938e8b53be\" y=\"197.227524\"/>\n     <use style=\"fill-opacity:0.5;stroke:#000000;stroke-opacity:0.5;stroke-width:1.5;\" x=\"210.641717\" xlink:href=\"#m938e8b53be\" y=\"222.008244\"/>\n     <use style=\"fill-opacity:0.5;stroke:#000000;stroke-opacity:0.5;stroke-width:1.5;\" x=\"211.817253\" xlink:href=\"#m938e8b53be\" y=\"208.218632\"/>\n     <use style=\"fill-opacity:0.5;stroke:#000000;stroke-opacity:0.5;stroke-width:1.5;\" x=\"212.053218\" xlink:href=\"#m938e8b53be\" y=\"205.119485\"/>\n     <use style=\"fill-opacity:0.5;stroke:#000000;stroke-opacity:0.5;stroke-width:1.5;\" x=\"213.043188\" xlink:href=\"#m938e8b53be\" y=\"198.367534\"/>\n     <use style=\"fill-opacity:0.5;stroke:#000000;stroke-opacity:0.5;stroke-width:1.5;\" x=\"213.125225\" xlink:href=\"#m938e8b53be\" y=\"196.640526\"/>\n     <use style=\"fill-opacity:0.5;stroke:#000000;stroke-opacity:0.5;stroke-width:1.5;\" x=\"213.507785\" xlink:href=\"#m938e8b53be\" y=\"203.402238\"/>\n     <use style=\"fill-opacity:0.5;stroke:#000000;stroke-opacity:0.5;stroke-width:1.5;\" x=\"214.494441\" xlink:href=\"#m938e8b53be\" y=\"188.08103\"/>\n     <use style=\"fill-opacity:0.5;stroke:#000000;stroke-opacity:0.5;stroke-width:1.5;\" x=\"218.281492\" xlink:href=\"#m938e8b53be\" y=\"187.514962\"/>\n     <use style=\"fill-opacity:0.5;stroke:#000000;stroke-opacity:0.5;stroke-width:1.5;\" x=\"219.326209\" xlink:href=\"#m938e8b53be\" y=\"161.342471\"/>\n     <use style=\"fill-opacity:0.5;stroke:#000000;stroke-opacity:0.5;stroke-width:1.5;\" x=\"223.408164\" xlink:href=\"#m938e8b53be\" y=\"196.56058\"/>\n     <use style=\"fill-opacity:0.5;stroke:#000000;stroke-opacity:0.5;stroke-width:1.5;\" x=\"223.772514\" xlink:href=\"#m938e8b53be\" y=\"172.194725\"/>\n     <use style=\"fill-opacity:0.5;stroke:#000000;stroke-opacity:0.5;stroke-width:1.5;\" x=\"223.895481\" xlink:href=\"#m938e8b53be\" y=\"190.40949\"/>\n     <use style=\"fill-opacity:0.5;stroke:#000000;stroke-opacity:0.5;stroke-width:1.5;\" x=\"223.919468\" xlink:href=\"#m938e8b53be\" y=\"187.619741\"/>\n     <use style=\"fill-opacity:0.5;stroke:#000000;stroke-opacity:0.5;stroke-width:1.5;\" x=\"230.978833\" xlink:href=\"#m938e8b53be\" y=\"144.050958\"/>\n     <use style=\"fill-opacity:0.5;stroke:#000000;stroke-opacity:0.5;stroke-width:1.5;\" x=\"233.09004\" xlink:href=\"#m938e8b53be\" y=\"143.716789\"/>\n     <use style=\"fill-opacity:0.5;stroke:#000000;stroke-opacity:0.5;stroke-width:1.5;\" x=\"234.313979\" xlink:href=\"#m938e8b53be\" y=\"182.067432\"/>\n     <use style=\"fill-opacity:0.5;stroke:#000000;stroke-opacity:0.5;stroke-width:1.5;\" x=\"239.32891\" xlink:href=\"#m938e8b53be\" y=\"158.568894\"/>\n     <use style=\"fill-opacity:0.5;stroke:#000000;stroke-opacity:0.5;stroke-width:1.5;\" x=\"247.019233\" xlink:href=\"#m938e8b53be\" y=\"151.094137\"/>\n     <use style=\"fill-opacity:0.5;stroke:#000000;stroke-opacity:0.5;stroke-width:1.5;\" x=\"247.337485\" xlink:href=\"#m938e8b53be\" y=\"173.811641\"/>\n     <use style=\"fill-opacity:0.5;stroke:#000000;stroke-opacity:0.5;stroke-width:1.5;\" x=\"247.342095\" xlink:href=\"#m938e8b53be\" y=\"150.713936\"/>\n     <use style=\"fill-opacity:0.5;stroke:#000000;stroke-opacity:0.5;stroke-width:1.5;\" x=\"248.292921\" xlink:href=\"#m938e8b53be\" y=\"145.265679\"/>\n     <use style=\"fill-opacity:0.5;stroke:#000000;stroke-opacity:0.5;stroke-width:1.5;\" x=\"250.373815\" xlink:href=\"#m938e8b53be\" y=\"146.113735\"/>\n     <use style=\"fill-opacity:0.5;stroke:#000000;stroke-opacity:0.5;stroke-width:1.5;\" x=\"250.609431\" xlink:href=\"#m938e8b53be\" y=\"170.518751\"/>\n     <use style=\"fill-opacity:0.5;stroke:#000000;stroke-opacity:0.5;stroke-width:1.5;\" x=\"251.989244\" xlink:href=\"#m938e8b53be\" y=\"135.459425\"/>\n     <use style=\"fill-opacity:0.5;stroke:#000000;stroke-opacity:0.5;stroke-width:1.5;\" x=\"251.993374\" xlink:href=\"#m938e8b53be\" y=\"145.028272\"/>\n     <use style=\"fill-opacity:0.5;stroke:#000000;stroke-opacity:0.5;stroke-width:1.5;\" x=\"252.949708\" xlink:href=\"#m938e8b53be\" y=\"147.992193\"/>\n     <use style=\"fill-opacity:0.5;stroke:#000000;stroke-opacity:0.5;stroke-width:1.5;\" x=\"256.432366\" xlink:href=\"#m938e8b53be\" y=\"154.239838\"/>\n     <use style=\"fill-opacity:0.5;stroke:#000000;stroke-opacity:0.5;stroke-width:1.5;\" x=\"259.578611\" xlink:href=\"#m938e8b53be\" y=\"136.878085\"/>\n     <use style=\"fill-opacity:0.5;stroke:#000000;stroke-opacity:0.5;stroke-width:1.5;\" x=\"260.479887\" xlink:href=\"#m938e8b53be\" y=\"134.29975\"/>\n     <use style=\"fill-opacity:0.5;stroke:#000000;stroke-opacity:0.5;stroke-width:1.5;\" x=\"262.026709\" xlink:href=\"#m938e8b53be\" y=\"149.352715\"/>\n     <use style=\"fill-opacity:0.5;stroke:#000000;stroke-opacity:0.5;stroke-width:1.5;\" x=\"263.306583\" xlink:href=\"#m938e8b53be\" y=\"142.64354\"/>\n     <use style=\"fill-opacity:0.5;stroke:#000000;stroke-opacity:0.5;stroke-width:1.5;\" x=\"263.936622\" xlink:href=\"#m938e8b53be\" y=\"134.291655\"/>\n     <use style=\"fill-opacity:0.5;stroke:#000000;stroke-opacity:0.5;stroke-width:1.5;\" x=\"267.72981\" xlink:href=\"#m938e8b53be\" y=\"164.162575\"/>\n    </g>\n   </g>\n   <g id=\"matplotlib.axis_1\">\n    <g id=\"xtick_1\">\n     <g id=\"line2d_1\">\n      <defs>\n       <path d=\"M 0 0 \nL 0 3.5 \n\" id=\"ma0fb5dc05d\" style=\"stroke:#000000;stroke-width:0.8;\"/>\n      </defs>\n      <g>\n       <use style=\"stroke:#000000;stroke-width:0.8;\" x=\"52.160938\" xlink:href=\"#ma0fb5dc05d\" y=\"297.998438\"/>\n      </g>\n     </g>\n     <g id=\"text_1\">\n      <!-- 0.0 -->\n      <g transform=\"translate(44.209375 312.596875)scale(0.1 -0.1)\">\n       <defs>\n        <path d=\"M 31.78125 66.40625 \nQ 24.171875 66.40625 20.328125 58.90625 \nQ 16.5 51.421875 16.5 36.375 \nQ 16.5 21.390625 20.328125 13.890625 \nQ 24.171875 6.390625 31.78125 6.390625 \nQ 39.453125 6.390625 43.28125 13.890625 \nQ 47.125 21.390625 47.125 36.375 \nQ 47.125 51.421875 43.28125 58.90625 \nQ 39.453125 66.40625 31.78125 66.40625 \nz\nM 31.78125 74.21875 \nQ 44.046875 74.21875 50.515625 64.515625 \nQ 56.984375 54.828125 56.984375 36.375 \nQ 56.984375 17.96875 50.515625 8.265625 \nQ 44.046875 -1.421875 31.78125 -1.421875 \nQ 19.53125 -1.421875 13.0625 8.265625 \nQ 6.59375 17.96875 6.59375 36.375 \nQ 6.59375 54.828125 13.0625 64.515625 \nQ 19.53125 74.21875 31.78125 74.21875 \nz\n\" id=\"DejaVuSans-48\"/>\n        <path d=\"M 10.6875 12.40625 \nL 21 12.40625 \nL 21 0 \nL 10.6875 0 \nz\n\" id=\"DejaVuSans-46\"/>\n       </defs>\n       <use xlink:href=\"#DejaVuSans-48\"/>\n       <use x=\"63.623047\" xlink:href=\"#DejaVuSans-46\"/>\n       <use x=\"95.410156\" xlink:href=\"#DejaVuSans-48\"/>\n      </g>\n     </g>\n    </g>\n    <g id=\"xtick_2\">\n     <g id=\"line2d_2\">\n      <g>\n       <use style=\"stroke:#000000;stroke-width:0.8;\" x=\"119.120938\" xlink:href=\"#ma0fb5dc05d\" y=\"297.998438\"/>\n      </g>\n     </g>\n     <g id=\"text_2\">\n      <!-- 0.2 -->\n      <g transform=\"translate(111.169375 312.596875)scale(0.1 -0.1)\">\n       <defs>\n        <path d=\"M 19.1875 8.296875 \nL 53.609375 8.296875 \nL 53.609375 0 \nL 7.328125 0 \nL 7.328125 8.296875 \nQ 12.9375 14.109375 22.625 23.890625 \nQ 32.328125 33.6875 34.8125 36.53125 \nQ 39.546875 41.84375 41.421875 45.53125 \nQ 43.3125 49.21875 43.3125 52.78125 \nQ 43.3125 58.59375 39.234375 62.25 \nQ 35.15625 65.921875 28.609375 65.921875 \nQ 23.96875 65.921875 18.8125 64.3125 \nQ 13.671875 62.703125 7.8125 59.421875 \nL 7.8125 69.390625 \nQ 13.765625 71.78125 18.9375 73 \nQ 24.125 74.21875 28.421875 74.21875 \nQ 39.75 74.21875 46.484375 68.546875 \nQ 53.21875 62.890625 53.21875 53.421875 \nQ 53.21875 48.921875 51.53125 44.890625 \nQ 49.859375 40.875 45.40625 35.40625 \nQ 44.1875 33.984375 37.640625 27.21875 \nQ 31.109375 20.453125 19.1875 8.296875 \nz\n\" id=\"DejaVuSans-50\"/>\n       </defs>\n       <use xlink:href=\"#DejaVuSans-48\"/>\n       <use x=\"63.623047\" xlink:href=\"#DejaVuSans-46\"/>\n       <use x=\"95.410156\" xlink:href=\"#DejaVuSans-50\"/>\n      </g>\n     </g>\n    </g>\n    <g id=\"xtick_3\">\n     <g id=\"line2d_3\">\n      <g>\n       <use style=\"stroke:#000000;stroke-width:0.8;\" x=\"186.080938\" xlink:href=\"#ma0fb5dc05d\" y=\"297.998438\"/>\n      </g>\n     </g>\n     <g id=\"text_3\">\n      <!-- 0.4 -->\n      <g transform=\"translate(178.129375 312.596875)scale(0.1 -0.1)\">\n       <defs>\n        <path d=\"M 37.796875 64.3125 \nL 12.890625 25.390625 \nL 37.796875 25.390625 \nz\nM 35.203125 72.90625 \nL 47.609375 72.90625 \nL 47.609375 25.390625 \nL 58.015625 25.390625 \nL 58.015625 17.1875 \nL 47.609375 17.1875 \nL 47.609375 0 \nL 37.796875 0 \nL 37.796875 17.1875 \nL 4.890625 17.1875 \nL 4.890625 26.703125 \nz\n\" id=\"DejaVuSans-52\"/>\n       </defs>\n       <use xlink:href=\"#DejaVuSans-48\"/>\n       <use x=\"63.623047\" xlink:href=\"#DejaVuSans-46\"/>\n       <use x=\"95.410156\" xlink:href=\"#DejaVuSans-52\"/>\n      </g>\n     </g>\n    </g>\n    <g id=\"xtick_4\">\n     <g id=\"line2d_4\">\n      <g>\n       <use style=\"stroke:#000000;stroke-width:0.8;\" x=\"253.040938\" xlink:href=\"#ma0fb5dc05d\" y=\"297.998438\"/>\n      </g>\n     </g>\n     <g id=\"text_4\">\n      <!-- 0.6 -->\n      <g transform=\"translate(245.089375 312.596875)scale(0.1 -0.1)\">\n       <defs>\n        <path d=\"M 33.015625 40.375 \nQ 26.375 40.375 22.484375 35.828125 \nQ 18.609375 31.296875 18.609375 23.390625 \nQ 18.609375 15.53125 22.484375 10.953125 \nQ 26.375 6.390625 33.015625 6.390625 \nQ 39.65625 6.390625 43.53125 10.953125 \nQ 47.40625 15.53125 47.40625 23.390625 \nQ 47.40625 31.296875 43.53125 35.828125 \nQ 39.65625 40.375 33.015625 40.375 \nz\nM 52.59375 71.296875 \nL 52.59375 62.3125 \nQ 48.875 64.0625 45.09375 64.984375 \nQ 41.3125 65.921875 37.59375 65.921875 \nQ 27.828125 65.921875 22.671875 59.328125 \nQ 17.53125 52.734375 16.796875 39.40625 \nQ 19.671875 43.65625 24.015625 45.921875 \nQ 28.375 48.1875 33.59375 48.1875 \nQ 44.578125 48.1875 50.953125 41.515625 \nQ 57.328125 34.859375 57.328125 23.390625 \nQ 57.328125 12.15625 50.6875 5.359375 \nQ 44.046875 -1.421875 33.015625 -1.421875 \nQ 20.359375 -1.421875 13.671875 8.265625 \nQ 6.984375 17.96875 6.984375 36.375 \nQ 6.984375 53.65625 15.1875 63.9375 \nQ 23.390625 74.21875 37.203125 74.21875 \nQ 40.921875 74.21875 44.703125 73.484375 \nQ 48.484375 72.75 52.59375 71.296875 \nz\n\" id=\"DejaVuSans-54\"/>\n       </defs>\n       <use xlink:href=\"#DejaVuSans-48\"/>\n       <use x=\"63.623047\" xlink:href=\"#DejaVuSans-46\"/>\n       <use x=\"95.410156\" xlink:href=\"#DejaVuSans-54\"/>\n      </g>\n     </g>\n    </g>\n    <g id=\"xtick_5\">\n     <g id=\"line2d_5\">\n      <g>\n       <use style=\"stroke:#000000;stroke-width:0.8;\" x=\"320.000938\" xlink:href=\"#ma0fb5dc05d\" y=\"297.998438\"/>\n      </g>\n     </g>\n     <g id=\"text_5\">\n      <!-- 0.8 -->\n      <g transform=\"translate(312.049375 312.596875)scale(0.1 -0.1)\">\n       <defs>\n        <path d=\"M 31.78125 34.625 \nQ 24.75 34.625 20.71875 30.859375 \nQ 16.703125 27.09375 16.703125 20.515625 \nQ 16.703125 13.921875 20.71875 10.15625 \nQ 24.75 6.390625 31.78125 6.390625 \nQ 38.8125 6.390625 42.859375 10.171875 \nQ 46.921875 13.96875 46.921875 20.515625 \nQ 46.921875 27.09375 42.890625 30.859375 \nQ 38.875 34.625 31.78125 34.625 \nz\nM 21.921875 38.8125 \nQ 15.578125 40.375 12.03125 44.71875 \nQ 8.5 49.078125 8.5 55.328125 \nQ 8.5 64.0625 14.71875 69.140625 \nQ 20.953125 74.21875 31.78125 74.21875 \nQ 42.671875 74.21875 48.875 69.140625 \nQ 55.078125 64.0625 55.078125 55.328125 \nQ 55.078125 49.078125 51.53125 44.71875 \nQ 48 40.375 41.703125 38.8125 \nQ 48.828125 37.15625 52.796875 32.3125 \nQ 56.78125 27.484375 56.78125 20.515625 \nQ 56.78125 9.90625 50.3125 4.234375 \nQ 43.84375 -1.421875 31.78125 -1.421875 \nQ 19.734375 -1.421875 13.25 4.234375 \nQ 6.78125 9.90625 6.78125 20.515625 \nQ 6.78125 27.484375 10.78125 32.3125 \nQ 14.796875 37.15625 21.921875 38.8125 \nz\nM 18.3125 54.390625 \nQ 18.3125 48.734375 21.84375 45.5625 \nQ 25.390625 42.390625 31.78125 42.390625 \nQ 38.140625 42.390625 41.71875 45.5625 \nQ 45.3125 48.734375 45.3125 54.390625 \nQ 45.3125 60.0625 41.71875 63.234375 \nQ 38.140625 66.40625 31.78125 66.40625 \nQ 25.390625 66.40625 21.84375 63.234375 \nQ 18.3125 60.0625 18.3125 54.390625 \nz\n\" id=\"DejaVuSans-56\"/>\n       </defs>\n       <use xlink:href=\"#DejaVuSans-48\"/>\n       <use x=\"63.623047\" xlink:href=\"#DejaVuSans-46\"/>\n       <use x=\"95.410156\" xlink:href=\"#DejaVuSans-56\"/>\n      </g>\n     </g>\n    </g>\n    <g id=\"xtick_6\">\n     <g id=\"line2d_6\">\n      <g>\n       <use style=\"stroke:#000000;stroke-width:0.8;\" x=\"386.960938\" xlink:href=\"#ma0fb5dc05d\" y=\"297.998438\"/>\n      </g>\n     </g>\n     <g id=\"text_6\">\n      <!-- 1.0 -->\n      <g transform=\"translate(379.009375 312.596875)scale(0.1 -0.1)\">\n       <defs>\n        <path d=\"M 12.40625 8.296875 \nL 28.515625 8.296875 \nL 28.515625 63.921875 \nL 10.984375 60.40625 \nL 10.984375 69.390625 \nL 28.421875 72.90625 \nL 38.28125 72.90625 \nL 38.28125 8.296875 \nL 54.390625 8.296875 \nL 54.390625 0 \nL 12.40625 0 \nz\n\" id=\"DejaVuSans-49\"/>\n       </defs>\n       <use xlink:href=\"#DejaVuSans-49\"/>\n       <use x=\"63.623047\" xlink:href=\"#DejaVuSans-46\"/>\n       <use x=\"95.410156\" xlink:href=\"#DejaVuSans-48\"/>\n      </g>\n     </g>\n    </g>\n    <g id=\"text_7\">\n     <!-- $x$ -->\n     <g transform=\"translate(216.560938 326.275)scale(0.1 -0.1)\">\n      <defs>\n       <path d=\"M 60.015625 54.6875 \nL 34.90625 27.875 \nL 50.296875 0 \nL 39.984375 0 \nL 28.421875 21.6875 \nL 8.296875 0 \nL -2.59375 0 \nL 24.3125 28.8125 \nL 10.015625 54.6875 \nL 20.3125 54.6875 \nL 30.8125 34.90625 \nL 49.125 54.6875 \nz\n\" id=\"DejaVuSans-Oblique-120\"/>\n      </defs>\n      <use transform=\"translate(0 0.3125)\" xlink:href=\"#DejaVuSans-Oblique-120\"/>\n     </g>\n    </g>\n   </g>\n   <g id=\"matplotlib.axis_2\">\n    <g id=\"ytick_1\">\n     <g id=\"line2d_7\">\n      <path clip-path=\"url(#pef2d634841)\" d=\"M 52.160938 297.998438 \nL 386.960938 297.998438 \n\" style=\"fill:none;stroke:#b0b0b0;stroke-linecap:square;stroke-opacity:0.2;stroke-width:0.8;\"/>\n     </g>\n     <g id=\"line2d_8\">\n      <defs>\n       <path d=\"M 0 0 \nL -3.5 0 \n\" id=\"m539cd413e7\" style=\"stroke:#000000;stroke-width:0.8;\"/>\n      </defs>\n      <g>\n       <use style=\"stroke:#000000;stroke-width:0.8;\" x=\"52.160938\" xlink:href=\"#m539cd413e7\" y=\"297.998438\"/>\n      </g>\n     </g>\n     <g id=\"text_8\">\n      <!-- −0.5 -->\n      <g transform=\"translate(20.878125 301.797656)scale(0.1 -0.1)\">\n       <defs>\n        <path d=\"M 10.59375 35.5 \nL 73.1875 35.5 \nL 73.1875 27.203125 \nL 10.59375 27.203125 \nz\n\" id=\"DejaVuSans-8722\"/>\n        <path d=\"M 10.796875 72.90625 \nL 49.515625 72.90625 \nL 49.515625 64.59375 \nL 19.828125 64.59375 \nL 19.828125 46.734375 \nQ 21.96875 47.46875 24.109375 47.828125 \nQ 26.265625 48.1875 28.421875 48.1875 \nQ 40.625 48.1875 47.75 41.5 \nQ 54.890625 34.8125 54.890625 23.390625 \nQ 54.890625 11.625 47.5625 5.09375 \nQ 40.234375 -1.421875 26.90625 -1.421875 \nQ 22.3125 -1.421875 17.546875 -0.640625 \nQ 12.796875 0.140625 7.71875 1.703125 \nL 7.71875 11.625 \nQ 12.109375 9.234375 16.796875 8.0625 \nQ 21.484375 6.890625 26.703125 6.890625 \nQ 35.15625 6.890625 40.078125 11.328125 \nQ 45.015625 15.765625 45.015625 23.390625 \nQ 45.015625 31 40.078125 35.4375 \nQ 35.15625 39.890625 26.703125 39.890625 \nQ 22.75 39.890625 18.8125 39.015625 \nQ 14.890625 38.140625 10.796875 36.28125 \nz\n\" id=\"DejaVuSans-53\"/>\n       </defs>\n       <use xlink:href=\"#DejaVuSans-8722\"/>\n       <use x=\"83.789062\" xlink:href=\"#DejaVuSans-48\"/>\n       <use x=\"147.412109\" xlink:href=\"#DejaVuSans-46\"/>\n       <use x=\"179.199219\" xlink:href=\"#DejaVuSans-53\"/>\n      </g>\n     </g>\n    </g>\n    <g id=\"ytick_2\">\n     <g id=\"line2d_9\">\n      <path clip-path=\"url(#pef2d634841)\" d=\"M 52.160938 242.558438 \nL 386.960938 242.558438 \n\" style=\"fill:none;stroke:#b0b0b0;stroke-linecap:square;stroke-opacity:0.2;stroke-width:0.8;\"/>\n     </g>\n     <g id=\"line2d_10\">\n      <g>\n       <use style=\"stroke:#000000;stroke-width:0.8;\" x=\"52.160938\" xlink:href=\"#m539cd413e7\" y=\"242.558438\"/>\n      </g>\n     </g>\n     <g id=\"text_9\">\n      <!-- 0.0 -->\n      <g transform=\"translate(29.257812 246.357656)scale(0.1 -0.1)\">\n       <use xlink:href=\"#DejaVuSans-48\"/>\n       <use x=\"63.623047\" xlink:href=\"#DejaVuSans-46\"/>\n       <use x=\"95.410156\" xlink:href=\"#DejaVuSans-48\"/>\n      </g>\n     </g>\n    </g>\n    <g id=\"ytick_3\">\n     <g id=\"line2d_11\">\n      <path clip-path=\"url(#pef2d634841)\" d=\"M 52.160938 187.118438 \nL 386.960938 187.118438 \n\" style=\"fill:none;stroke:#b0b0b0;stroke-linecap:square;stroke-opacity:0.2;stroke-width:0.8;\"/>\n     </g>\n     <g id=\"line2d_12\">\n      <g>\n       <use style=\"stroke:#000000;stroke-width:0.8;\" x=\"52.160938\" xlink:href=\"#m539cd413e7\" y=\"187.118438\"/>\n      </g>\n     </g>\n     <g id=\"text_10\">\n      <!-- 0.5 -->\n      <g transform=\"translate(29.257812 190.917656)scale(0.1 -0.1)\">\n       <use xlink:href=\"#DejaVuSans-48\"/>\n       <use x=\"63.623047\" xlink:href=\"#DejaVuSans-46\"/>\n       <use x=\"95.410156\" xlink:href=\"#DejaVuSans-53\"/>\n      </g>\n     </g>\n    </g>\n    <g id=\"ytick_4\">\n     <g id=\"line2d_13\">\n      <path clip-path=\"url(#pef2d634841)\" d=\"M 52.160938 131.678438 \nL 386.960938 131.678438 \n\" style=\"fill:none;stroke:#b0b0b0;stroke-linecap:square;stroke-opacity:0.2;stroke-width:0.8;\"/>\n     </g>\n     <g id=\"line2d_14\">\n      <g>\n       <use style=\"stroke:#000000;stroke-width:0.8;\" x=\"52.160938\" xlink:href=\"#m539cd413e7\" y=\"131.678438\"/>\n      </g>\n     </g>\n     <g id=\"text_11\">\n      <!-- 1.0 -->\n      <g transform=\"translate(29.257812 135.477656)scale(0.1 -0.1)\">\n       <use xlink:href=\"#DejaVuSans-49\"/>\n       <use x=\"63.623047\" xlink:href=\"#DejaVuSans-46\"/>\n       <use x=\"95.410156\" xlink:href=\"#DejaVuSans-48\"/>\n      </g>\n     </g>\n    </g>\n    <g id=\"ytick_5\">\n     <g id=\"line2d_15\">\n      <path clip-path=\"url(#pef2d634841)\" d=\"M 52.160938 76.238437 \nL 386.960938 76.238437 \n\" style=\"fill:none;stroke:#b0b0b0;stroke-linecap:square;stroke-opacity:0.2;stroke-width:0.8;\"/>\n     </g>\n     <g id=\"line2d_16\">\n      <g>\n       <use style=\"stroke:#000000;stroke-width:0.8;\" x=\"52.160938\" xlink:href=\"#m539cd413e7\" y=\"76.238437\"/>\n      </g>\n     </g>\n     <g id=\"text_12\">\n      <!-- 1.5 -->\n      <g transform=\"translate(29.257812 80.037656)scale(0.1 -0.1)\">\n       <use xlink:href=\"#DejaVuSans-49\"/>\n       <use x=\"63.623047\" xlink:href=\"#DejaVuSans-46\"/>\n       <use x=\"95.410156\" xlink:href=\"#DejaVuSans-53\"/>\n      </g>\n     </g>\n    </g>\n    <g id=\"ytick_6\">\n     <g id=\"line2d_17\">\n      <path clip-path=\"url(#pef2d634841)\" d=\"M 52.160938 20.798437 \nL 386.960938 20.798437 \n\" style=\"fill:none;stroke:#b0b0b0;stroke-linecap:square;stroke-opacity:0.2;stroke-width:0.8;\"/>\n     </g>\n     <g id=\"line2d_18\">\n      <g>\n       <use style=\"stroke:#000000;stroke-width:0.8;\" x=\"52.160938\" xlink:href=\"#m539cd413e7\" y=\"20.798437\"/>\n      </g>\n     </g>\n     <g id=\"text_13\">\n      <!-- 2.0 -->\n      <g transform=\"translate(29.257812 24.597656)scale(0.1 -0.1)\">\n       <use xlink:href=\"#DejaVuSans-50\"/>\n       <use x=\"63.623047\" xlink:href=\"#DejaVuSans-46\"/>\n       <use x=\"95.410156\" xlink:href=\"#DejaVuSans-48\"/>\n      </g>\n     </g>\n    </g>\n    <g id=\"text_14\">\n     <!-- $y$ -->\n     <g transform=\"translate(14.778125 162.398438)rotate(-90)scale(0.1 -0.1)\">\n      <defs>\n       <path d=\"M 24.8125 -5.078125 \nQ 18.5625 -15.578125 14.625 -18.1875 \nQ 10.6875 -20.796875 4.59375 -20.796875 \nL -2.484375 -20.796875 \nL -0.984375 -13.28125 \nL 4.203125 -13.28125 \nQ 7.953125 -13.28125 10.59375 -11.234375 \nQ 13.234375 -9.1875 16.5 -3.21875 \nL 19.28125 2 \nL 7.171875 54.6875 \nL 16.703125 54.6875 \nL 25.78125 12.796875 \nL 50.875 54.6875 \nL 60.296875 54.6875 \nz\n\" id=\"DejaVuSans-Oblique-121\"/>\n      </defs>\n      <use transform=\"translate(0 0.3125)\" xlink:href=\"#DejaVuSans-Oblique-121\"/>\n     </g>\n    </g>\n   </g>\n   <g id=\"line2d_19\">\n    <path clip-path=\"url(#pef2d634841)\" d=\"M 78.944937 196.409724 \nL 83.588394 192.367319 \nL 88.23185 188.723771 \nL 92.875307 185.407397 \nL 97.518764 182.364247 \nL 102.162221 179.552708 \nL 108.353501 176.108592 \nL 114.544777 172.958245 \nL 120.736053 170.055456 \nL 126.927329 167.364141 \nL 134.666423 164.254162 \nL 142.405518 161.385667 \nL 151.692431 158.213761 \nL 160.979345 155.292672 \nL 170.266258 152.585641 \nL 181.101001 149.659278 \nL 191.935733 146.94772 \nL 204.318285 144.074387 \nL 218.248655 141.088279 \nL 232.179025 138.325495 \nL 247.657214 135.480065 \nL 264.683223 132.584024 \nL 283.25705 129.663788 \nL 303.378716 126.74063 \nL 325.048181 123.831457 \nL 348.265464 120.949354 \nL 373.030567 118.104275 \nL 386.960938 116.595198 \nL 386.960938 116.595198 \n\" style=\"fill:none;stroke:#0000ff;stroke-dasharray:5.55,2.4;stroke-dashoffset:0;stroke-opacity:0.5;stroke-width:1.5;\"/>\n   </g>\n   <g id=\"line2d_20\">\n    <path clip-path=\"url(#pef2d634841)\" d=\"M 52.160938 242.558438 \nL 386.960938 242.558438 \n\" style=\"fill:none;stroke:#d62728;stroke-dasharray:5.55,2.4;stroke-dashoffset:0;stroke-opacity:0.5;stroke-width:1.5;\"/>\n   </g>\n   <g id=\"line2d_21\">\n    <path clip-path=\"url(#pef2d634841)\" d=\"M 78.944937 241.862804 \nL 99.066583 241.140084 \nL 116.092596 240.313853 \nL 130.022966 239.411025 \nL 140.857699 238.496318 \nL 150.144612 237.496144 \nL 157.883707 236.446746 \nL 164.074983 235.4124 \nL 170.266258 234.142548 \nL 174.909715 232.985081 \nL 179.553182 231.595565 \nL 184.196639 229.901868 \nL 187.292276 228.554975 \nL 190.387914 226.988056 \nL 193.483552 225.149671 \nL 196.57919 222.97454 \nL 199.674828 220.380892 \nL 202.770466 217.26952 \nL 204.318285 215.484769 \nL 205.866104 213.528102 \nL 207.413922 211.386077 \nL 208.961741 209.047615 \nL 212.057379 203.76015 \nL 215.153017 197.70175 \nL 219.796474 187.665551 \nL 224.439931 177.703666 \nL 227.535568 171.754079 \nL 230.631206 166.590476 \nL 233.726844 162.228475 \nL 236.822482 158.590366 \nL 239.91812 155.564796 \nL 243.013758 153.040807 \nL 246.109396 150.921762 \nL 249.205033 149.128532 \nL 252.300671 147.598108 \nL 255.396309 146.280915 \nL 260.039766 144.622138 \nL 264.683223 143.259052 \nL 269.326679 142.121947 \nL 275.517955 140.872615 \nL 281.709231 139.853513 \nL 289.448345 138.81818 \nL 298.735259 137.83004 \nL 309.569991 136.925141 \nL 321.952543 136.118531 \nL 337.430732 135.343154 \nL 356.004559 134.640925 \nL 379.221843 133.989969 \nL 386.960938 133.812683 \nL 386.960938 133.812683 \n\" style=\"fill:none;stroke:#1f77b4;stroke-linecap:square;stroke-width:1.5;\"/>\n   </g>\n   <g id=\"patch_3\">\n    <path d=\"M 52.160938 297.998438 \nL 52.160938 20.798437 \n\" style=\"fill:none;stroke:#000000;stroke-linecap:square;stroke-linejoin:miter;stroke-width:0.8;\"/>\n   </g>\n   <g id=\"patch_4\">\n    <path d=\"M 386.960938 297.998438 \nL 386.960938 20.798437 \n\" style=\"fill:none;stroke:#000000;stroke-linecap:square;stroke-linejoin:miter;stroke-width:0.8;\"/>\n   </g>\n   <g id=\"patch_5\">\n    <path d=\"M 52.160938 297.998438 \nL 386.960938 297.998438 \n\" style=\"fill:none;stroke:#000000;stroke-linecap:square;stroke-linejoin:miter;stroke-width:0.8;\"/>\n   </g>\n   <g id=\"patch_6\">\n    <path d=\"M 52.160938 20.798437 \nL 386.960938 20.798437 \n\" style=\"fill:none;stroke:#000000;stroke-linecap:square;stroke-linejoin:miter;stroke-width:0.8;\"/>\n   </g>\n   <g id=\"text_15\">\n    <!-- Simulation and constraints -->\n    <g transform=\"translate(152.558594 14.798438)scale(0.1 -0.1)\">\n     <defs>\n      <path d=\"M 53.515625 70.515625 \nL 53.515625 60.890625 \nQ 47.90625 63.578125 42.921875 64.890625 \nQ 37.9375 66.21875 33.296875 66.21875 \nQ 25.25 66.21875 20.875 63.09375 \nQ 16.5 59.96875 16.5 54.203125 \nQ 16.5 49.359375 19.40625 46.890625 \nQ 22.3125 44.4375 30.421875 42.921875 \nL 36.375 41.703125 \nQ 47.40625 39.59375 52.65625 34.296875 \nQ 57.90625 29 57.90625 20.125 \nQ 57.90625 9.515625 50.796875 4.046875 \nQ 43.703125 -1.421875 29.984375 -1.421875 \nQ 24.8125 -1.421875 18.96875 -0.25 \nQ 13.140625 0.921875 6.890625 3.21875 \nL 6.890625 13.375 \nQ 12.890625 10.015625 18.65625 8.296875 \nQ 24.421875 6.59375 29.984375 6.59375 \nQ 38.421875 6.59375 43.015625 9.90625 \nQ 47.609375 13.234375 47.609375 19.390625 \nQ 47.609375 24.75 44.3125 27.78125 \nQ 41.015625 30.8125 33.5 32.328125 \nL 27.484375 33.5 \nQ 16.453125 35.6875 11.515625 40.375 \nQ 6.59375 45.0625 6.59375 53.421875 \nQ 6.59375 63.09375 13.40625 68.65625 \nQ 20.21875 74.21875 32.171875 74.21875 \nQ 37.3125 74.21875 42.625 73.28125 \nQ 47.953125 72.359375 53.515625 70.515625 \nz\n\" id=\"DejaVuSans-83\"/>\n      <path d=\"M 9.421875 54.6875 \nL 18.40625 54.6875 \nL 18.40625 0 \nL 9.421875 0 \nz\nM 9.421875 75.984375 \nL 18.40625 75.984375 \nL 18.40625 64.59375 \nL 9.421875 64.59375 \nz\n\" id=\"DejaVuSans-105\"/>\n      <path d=\"M 52 44.1875 \nQ 55.375 50.25 60.0625 53.125 \nQ 64.75 56 71.09375 56 \nQ 79.640625 56 84.28125 50.015625 \nQ 88.921875 44.046875 88.921875 33.015625 \nL 88.921875 0 \nL 79.890625 0 \nL 79.890625 32.71875 \nQ 79.890625 40.578125 77.09375 44.375 \nQ 74.3125 48.1875 68.609375 48.1875 \nQ 61.625 48.1875 57.5625 43.546875 \nQ 53.515625 38.921875 53.515625 30.90625 \nL 53.515625 0 \nL 44.484375 0 \nL 44.484375 32.71875 \nQ 44.484375 40.625 41.703125 44.40625 \nQ 38.921875 48.1875 33.109375 48.1875 \nQ 26.21875 48.1875 22.15625 43.53125 \nQ 18.109375 38.875 18.109375 30.90625 \nL 18.109375 0 \nL 9.078125 0 \nL 9.078125 54.6875 \nL 18.109375 54.6875 \nL 18.109375 46.1875 \nQ 21.1875 51.21875 25.484375 53.609375 \nQ 29.78125 56 35.6875 56 \nQ 41.65625 56 45.828125 52.96875 \nQ 50 49.953125 52 44.1875 \nz\n\" id=\"DejaVuSans-109\"/>\n      <path d=\"M 8.5 21.578125 \nL 8.5 54.6875 \nL 17.484375 54.6875 \nL 17.484375 21.921875 \nQ 17.484375 14.15625 20.5 10.265625 \nQ 23.53125 6.390625 29.59375 6.390625 \nQ 36.859375 6.390625 41.078125 11.03125 \nQ 45.3125 15.671875 45.3125 23.6875 \nL 45.3125 54.6875 \nL 54.296875 54.6875 \nL 54.296875 0 \nL 45.3125 0 \nL 45.3125 8.40625 \nQ 42.046875 3.421875 37.71875 1 \nQ 33.40625 -1.421875 27.6875 -1.421875 \nQ 18.265625 -1.421875 13.375 4.4375 \nQ 8.5 10.296875 8.5 21.578125 \nz\nM 31.109375 56 \nz\n\" id=\"DejaVuSans-117\"/>\n      <path d=\"M 9.421875 75.984375 \nL 18.40625 75.984375 \nL 18.40625 0 \nL 9.421875 0 \nz\n\" id=\"DejaVuSans-108\"/>\n      <path d=\"M 34.28125 27.484375 \nQ 23.390625 27.484375 19.1875 25 \nQ 14.984375 22.515625 14.984375 16.5 \nQ 14.984375 11.71875 18.140625 8.90625 \nQ 21.296875 6.109375 26.703125 6.109375 \nQ 34.1875 6.109375 38.703125 11.40625 \nQ 43.21875 16.703125 43.21875 25.484375 \nL 43.21875 27.484375 \nz\nM 52.203125 31.203125 \nL 52.203125 0 \nL 43.21875 0 \nL 43.21875 8.296875 \nQ 40.140625 3.328125 35.546875 0.953125 \nQ 30.953125 -1.421875 24.3125 -1.421875 \nQ 15.921875 -1.421875 10.953125 3.296875 \nQ 6 8.015625 6 15.921875 \nQ 6 25.140625 12.171875 29.828125 \nQ 18.359375 34.515625 30.609375 34.515625 \nL 43.21875 34.515625 \nL 43.21875 35.40625 \nQ 43.21875 41.609375 39.140625 45 \nQ 35.0625 48.390625 27.6875 48.390625 \nQ 23 48.390625 18.546875 47.265625 \nQ 14.109375 46.140625 10.015625 43.890625 \nL 10.015625 52.203125 \nQ 14.9375 54.109375 19.578125 55.046875 \nQ 24.21875 56 28.609375 56 \nQ 40.484375 56 46.34375 49.84375 \nQ 52.203125 43.703125 52.203125 31.203125 \nz\n\" id=\"DejaVuSans-97\"/>\n      <path d=\"M 18.3125 70.21875 \nL 18.3125 54.6875 \nL 36.8125 54.6875 \nL 36.8125 47.703125 \nL 18.3125 47.703125 \nL 18.3125 18.015625 \nQ 18.3125 11.328125 20.140625 9.421875 \nQ 21.96875 7.515625 27.59375 7.515625 \nL 36.8125 7.515625 \nL 36.8125 0 \nL 27.59375 0 \nQ 17.1875 0 13.234375 3.875 \nQ 9.28125 7.765625 9.28125 18.015625 \nL 9.28125 47.703125 \nL 2.6875 47.703125 \nL 2.6875 54.6875 \nL 9.28125 54.6875 \nL 9.28125 70.21875 \nz\n\" id=\"DejaVuSans-116\"/>\n      <path d=\"M 30.609375 48.390625 \nQ 23.390625 48.390625 19.1875 42.75 \nQ 14.984375 37.109375 14.984375 27.296875 \nQ 14.984375 17.484375 19.15625 11.84375 \nQ 23.34375 6.203125 30.609375 6.203125 \nQ 37.796875 6.203125 41.984375 11.859375 \nQ 46.1875 17.53125 46.1875 27.296875 \nQ 46.1875 37.015625 41.984375 42.703125 \nQ 37.796875 48.390625 30.609375 48.390625 \nz\nM 30.609375 56 \nQ 42.328125 56 49.015625 48.375 \nQ 55.71875 40.765625 55.71875 27.296875 \nQ 55.71875 13.875 49.015625 6.21875 \nQ 42.328125 -1.421875 30.609375 -1.421875 \nQ 18.84375 -1.421875 12.171875 6.21875 \nQ 5.515625 13.875 5.515625 27.296875 \nQ 5.515625 40.765625 12.171875 48.375 \nQ 18.84375 56 30.609375 56 \nz\n\" id=\"DejaVuSans-111\"/>\n      <path d=\"M 54.890625 33.015625 \nL 54.890625 0 \nL 45.90625 0 \nL 45.90625 32.71875 \nQ 45.90625 40.484375 42.875 44.328125 \nQ 39.84375 48.1875 33.796875 48.1875 \nQ 26.515625 48.1875 22.3125 43.546875 \nQ 18.109375 38.921875 18.109375 30.90625 \nL 18.109375 0 \nL 9.078125 0 \nL 9.078125 54.6875 \nL 18.109375 54.6875 \nL 18.109375 46.1875 \nQ 21.34375 51.125 25.703125 53.5625 \nQ 30.078125 56 35.796875 56 \nQ 45.21875 56 50.046875 50.171875 \nQ 54.890625 44.34375 54.890625 33.015625 \nz\n\" id=\"DejaVuSans-110\"/>\n      <path id=\"DejaVuSans-32\"/>\n      <path d=\"M 45.40625 46.390625 \nL 45.40625 75.984375 \nL 54.390625 75.984375 \nL 54.390625 0 \nL 45.40625 0 \nL 45.40625 8.203125 \nQ 42.578125 3.328125 38.25 0.953125 \nQ 33.9375 -1.421875 27.875 -1.421875 \nQ 17.96875 -1.421875 11.734375 6.484375 \nQ 5.515625 14.40625 5.515625 27.296875 \nQ 5.515625 40.1875 11.734375 48.09375 \nQ 17.96875 56 27.875 56 \nQ 33.9375 56 38.25 53.625 \nQ 42.578125 51.265625 45.40625 46.390625 \nz\nM 14.796875 27.296875 \nQ 14.796875 17.390625 18.875 11.75 \nQ 22.953125 6.109375 30.078125 6.109375 \nQ 37.203125 6.109375 41.296875 11.75 \nQ 45.40625 17.390625 45.40625 27.296875 \nQ 45.40625 37.203125 41.296875 42.84375 \nQ 37.203125 48.484375 30.078125 48.484375 \nQ 22.953125 48.484375 18.875 42.84375 \nQ 14.796875 37.203125 14.796875 27.296875 \nz\n\" id=\"DejaVuSans-100\"/>\n      <path d=\"M 48.78125 52.59375 \nL 48.78125 44.1875 \nQ 44.96875 46.296875 41.140625 47.34375 \nQ 37.3125 48.390625 33.40625 48.390625 \nQ 24.65625 48.390625 19.8125 42.84375 \nQ 14.984375 37.3125 14.984375 27.296875 \nQ 14.984375 17.28125 19.8125 11.734375 \nQ 24.65625 6.203125 33.40625 6.203125 \nQ 37.3125 6.203125 41.140625 7.25 \nQ 44.96875 8.296875 48.78125 10.40625 \nL 48.78125 2.09375 \nQ 45.015625 0.34375 40.984375 -0.53125 \nQ 36.96875 -1.421875 32.421875 -1.421875 \nQ 20.0625 -1.421875 12.78125 6.34375 \nQ 5.515625 14.109375 5.515625 27.296875 \nQ 5.515625 40.671875 12.859375 48.328125 \nQ 20.21875 56 33.015625 56 \nQ 37.15625 56 41.109375 55.140625 \nQ 45.0625 54.296875 48.78125 52.59375 \nz\n\" id=\"DejaVuSans-99\"/>\n      <path d=\"M 44.28125 53.078125 \nL 44.28125 44.578125 \nQ 40.484375 46.53125 36.375 47.5 \nQ 32.28125 48.484375 27.875 48.484375 \nQ 21.1875 48.484375 17.84375 46.4375 \nQ 14.5 44.390625 14.5 40.28125 \nQ 14.5 37.15625 16.890625 35.375 \nQ 19.28125 33.59375 26.515625 31.984375 \nL 29.59375 31.296875 \nQ 39.15625 29.25 43.1875 25.515625 \nQ 47.21875 21.78125 47.21875 15.09375 \nQ 47.21875 7.46875 41.1875 3.015625 \nQ 35.15625 -1.421875 24.609375 -1.421875 \nQ 20.21875 -1.421875 15.453125 -0.5625 \nQ 10.6875 0.296875 5.421875 2 \nL 5.421875 11.28125 \nQ 10.40625 8.6875 15.234375 7.390625 \nQ 20.0625 6.109375 24.8125 6.109375 \nQ 31.15625 6.109375 34.5625 8.28125 \nQ 37.984375 10.453125 37.984375 14.40625 \nQ 37.984375 18.0625 35.515625 20.015625 \nQ 33.0625 21.96875 24.703125 23.78125 \nL 21.578125 24.515625 \nQ 13.234375 26.265625 9.515625 29.90625 \nQ 5.8125 33.546875 5.8125 39.890625 \nQ 5.8125 47.609375 11.28125 51.796875 \nQ 16.75 56 26.8125 56 \nQ 31.78125 56 36.171875 55.265625 \nQ 40.578125 54.546875 44.28125 53.078125 \nz\n\" id=\"DejaVuSans-115\"/>\n      <path d=\"M 41.109375 46.296875 \nQ 39.59375 47.171875 37.8125 47.578125 \nQ 36.03125 48 33.890625 48 \nQ 26.265625 48 22.1875 43.046875 \nQ 18.109375 38.09375 18.109375 28.8125 \nL 18.109375 0 \nL 9.078125 0 \nL 9.078125 54.6875 \nL 18.109375 54.6875 \nL 18.109375 46.1875 \nQ 20.953125 51.171875 25.484375 53.578125 \nQ 30.03125 56 36.53125 56 \nQ 37.453125 56 38.578125 55.875 \nQ 39.703125 55.765625 41.0625 55.515625 \nz\n\" id=\"DejaVuSans-114\"/>\n     </defs>\n     <use xlink:href=\"#DejaVuSans-83\"/>\n     <use x=\"63.476562\" xlink:href=\"#DejaVuSans-105\"/>\n     <use x=\"91.259766\" xlink:href=\"#DejaVuSans-109\"/>\n     <use x=\"188.671875\" xlink:href=\"#DejaVuSans-117\"/>\n     <use x=\"252.050781\" xlink:href=\"#DejaVuSans-108\"/>\n     <use x=\"279.833984\" xlink:href=\"#DejaVuSans-97\"/>\n     <use x=\"341.113281\" xlink:href=\"#DejaVuSans-116\"/>\n     <use x=\"380.322266\" xlink:href=\"#DejaVuSans-105\"/>\n     <use x=\"408.105469\" xlink:href=\"#DejaVuSans-111\"/>\n     <use x=\"469.287109\" xlink:href=\"#DejaVuSans-110\"/>\n     <use x=\"532.666016\" xlink:href=\"#DejaVuSans-32\"/>\n     <use x=\"564.453125\" xlink:href=\"#DejaVuSans-97\"/>\n     <use x=\"625.732422\" xlink:href=\"#DejaVuSans-110\"/>\n     <use x=\"689.111328\" xlink:href=\"#DejaVuSans-100\"/>\n     <use x=\"752.587891\" xlink:href=\"#DejaVuSans-32\"/>\n     <use x=\"784.375\" xlink:href=\"#DejaVuSans-99\"/>\n     <use x=\"839.355469\" xlink:href=\"#DejaVuSans-111\"/>\n     <use x=\"900.537109\" xlink:href=\"#DejaVuSans-110\"/>\n     <use x=\"963.916016\" xlink:href=\"#DejaVuSans-115\"/>\n     <use x=\"1016.015625\" xlink:href=\"#DejaVuSans-116\"/>\n     <use x=\"1055.224609\" xlink:href=\"#DejaVuSans-114\"/>\n     <use x=\"1096.337891\" xlink:href=\"#DejaVuSans-97\"/>\n     <use x=\"1157.617188\" xlink:href=\"#DejaVuSans-105\"/>\n     <use x=\"1185.400391\" xlink:href=\"#DejaVuSans-110\"/>\n     <use x=\"1248.779297\" xlink:href=\"#DejaVuSans-116\"/>\n     <use x=\"1287.988281\" xlink:href=\"#DejaVuSans-115\"/>\n    </g>\n   </g>\n   <g id=\"legend_1\">\n    <g id=\"patch_7\">\n     <path d=\"M 263.348437 87.510938 \nL 379.960938 87.510938 \nQ 381.960938 87.510938 381.960938 85.510938 \nL 381.960938 27.798438 \nQ 381.960938 25.798438 379.960938 25.798438 \nL 263.348437 25.798438 \nQ 261.348437 25.798438 261.348437 27.798438 \nL 261.348437 85.510938 \nQ 261.348437 87.510938 263.348437 87.510938 \nz\n\" style=\"fill:#ffffff;opacity:0.8;stroke:#cccccc;stroke-linejoin:miter;\"/>\n    </g>\n    <g id=\"line2d_22\">\n     <path d=\"M 265.348437 33.896875 \nL 285.348437 33.896875 \n\" style=\"fill:none;stroke:#0000ff;stroke-dasharray:5.55,2.4;stroke-dashoffset:0;stroke-opacity:0.5;stroke-width:1.5;\"/>\n    </g>\n    <g id=\"line2d_23\"/>\n    <g id=\"text_16\">\n     <!-- Upper bound(c2) -->\n     <g transform=\"translate(293.348437 37.396875)scale(0.1 -0.1)\">\n      <defs>\n       <path d=\"M 8.6875 72.90625 \nL 18.609375 72.90625 \nL 18.609375 28.609375 \nQ 18.609375 16.890625 22.84375 11.734375 \nQ 27.09375 6.59375 36.625 6.59375 \nQ 46.09375 6.59375 50.34375 11.734375 \nQ 54.59375 16.890625 54.59375 28.609375 \nL 54.59375 72.90625 \nL 64.5 72.90625 \nL 64.5 27.390625 \nQ 64.5 13.140625 57.4375 5.859375 \nQ 50.390625 -1.421875 36.625 -1.421875 \nQ 22.796875 -1.421875 15.734375 5.859375 \nQ 8.6875 13.140625 8.6875 27.390625 \nz\n\" id=\"DejaVuSans-85\"/>\n       <path d=\"M 18.109375 8.203125 \nL 18.109375 -20.796875 \nL 9.078125 -20.796875 \nL 9.078125 54.6875 \nL 18.109375 54.6875 \nL 18.109375 46.390625 \nQ 20.953125 51.265625 25.265625 53.625 \nQ 29.59375 56 35.59375 56 \nQ 45.5625 56 51.78125 48.09375 \nQ 58.015625 40.1875 58.015625 27.296875 \nQ 58.015625 14.40625 51.78125 6.484375 \nQ 45.5625 -1.421875 35.59375 -1.421875 \nQ 29.59375 -1.421875 25.265625 0.953125 \nQ 20.953125 3.328125 18.109375 8.203125 \nz\nM 48.6875 27.296875 \nQ 48.6875 37.203125 44.609375 42.84375 \nQ 40.53125 48.484375 33.40625 48.484375 \nQ 26.265625 48.484375 22.1875 42.84375 \nQ 18.109375 37.203125 18.109375 27.296875 \nQ 18.109375 17.390625 22.1875 11.75 \nQ 26.265625 6.109375 33.40625 6.109375 \nQ 40.53125 6.109375 44.609375 11.75 \nQ 48.6875 17.390625 48.6875 27.296875 \nz\n\" id=\"DejaVuSans-112\"/>\n       <path d=\"M 56.203125 29.59375 \nL 56.203125 25.203125 \nL 14.890625 25.203125 \nQ 15.484375 15.921875 20.484375 11.0625 \nQ 25.484375 6.203125 34.421875 6.203125 \nQ 39.59375 6.203125 44.453125 7.46875 \nQ 49.3125 8.734375 54.109375 11.28125 \nL 54.109375 2.78125 \nQ 49.265625 0.734375 44.1875 -0.34375 \nQ 39.109375 -1.421875 33.890625 -1.421875 \nQ 20.796875 -1.421875 13.15625 6.1875 \nQ 5.515625 13.8125 5.515625 26.8125 \nQ 5.515625 40.234375 12.765625 48.109375 \nQ 20.015625 56 32.328125 56 \nQ 43.359375 56 49.78125 48.890625 \nQ 56.203125 41.796875 56.203125 29.59375 \nz\nM 47.21875 32.234375 \nQ 47.125 39.59375 43.09375 43.984375 \nQ 39.0625 48.390625 32.421875 48.390625 \nQ 24.90625 48.390625 20.390625 44.140625 \nQ 15.875 39.890625 15.1875 32.171875 \nz\n\" id=\"DejaVuSans-101\"/>\n       <path d=\"M 48.6875 27.296875 \nQ 48.6875 37.203125 44.609375 42.84375 \nQ 40.53125 48.484375 33.40625 48.484375 \nQ 26.265625 48.484375 22.1875 42.84375 \nQ 18.109375 37.203125 18.109375 27.296875 \nQ 18.109375 17.390625 22.1875 11.75 \nQ 26.265625 6.109375 33.40625 6.109375 \nQ 40.53125 6.109375 44.609375 11.75 \nQ 48.6875 17.390625 48.6875 27.296875 \nz\nM 18.109375 46.390625 \nQ 20.953125 51.265625 25.265625 53.625 \nQ 29.59375 56 35.59375 56 \nQ 45.5625 56 51.78125 48.09375 \nQ 58.015625 40.1875 58.015625 27.296875 \nQ 58.015625 14.40625 51.78125 6.484375 \nQ 45.5625 -1.421875 35.59375 -1.421875 \nQ 29.59375 -1.421875 25.265625 0.953125 \nQ 20.953125 3.328125 18.109375 8.203125 \nL 18.109375 0 \nL 9.078125 0 \nL 9.078125 75.984375 \nL 18.109375 75.984375 \nz\n\" id=\"DejaVuSans-98\"/>\n       <path d=\"M 31 75.875 \nQ 24.46875 64.65625 21.28125 53.65625 \nQ 18.109375 42.671875 18.109375 31.390625 \nQ 18.109375 20.125 21.3125 9.0625 \nQ 24.515625 -2 31 -13.1875 \nL 23.1875 -13.1875 \nQ 15.875 -1.703125 12.234375 9.375 \nQ 8.59375 20.453125 8.59375 31.390625 \nQ 8.59375 42.28125 12.203125 53.3125 \nQ 15.828125 64.359375 23.1875 75.875 \nz\n\" id=\"DejaVuSans-40\"/>\n       <path d=\"M 8.015625 75.875 \nL 15.828125 75.875 \nQ 23.140625 64.359375 26.78125 53.3125 \nQ 30.421875 42.28125 30.421875 31.390625 \nQ 30.421875 20.453125 26.78125 9.375 \nQ 23.140625 -1.703125 15.828125 -13.1875 \nL 8.015625 -13.1875 \nQ 14.5 -2 17.703125 9.0625 \nQ 20.90625 20.125 20.90625 31.390625 \nQ 20.90625 42.671875 17.703125 53.65625 \nQ 14.5 64.65625 8.015625 75.875 \nz\n\" id=\"DejaVuSans-41\"/>\n      </defs>\n      <use xlink:href=\"#DejaVuSans-85\"/>\n      <use x=\"73.193359\" xlink:href=\"#DejaVuSans-112\"/>\n      <use x=\"136.669922\" xlink:href=\"#DejaVuSans-112\"/>\n      <use x=\"200.146484\" xlink:href=\"#DejaVuSans-101\"/>\n      <use x=\"261.669922\" xlink:href=\"#DejaVuSans-114\"/>\n      <use x=\"302.783203\" xlink:href=\"#DejaVuSans-32\"/>\n      <use x=\"334.570312\" xlink:href=\"#DejaVuSans-98\"/>\n      <use x=\"398.046875\" xlink:href=\"#DejaVuSans-111\"/>\n      <use x=\"459.228516\" xlink:href=\"#DejaVuSans-117\"/>\n      <use x=\"522.607422\" xlink:href=\"#DejaVuSans-110\"/>\n      <use x=\"585.986328\" xlink:href=\"#DejaVuSans-100\"/>\n      <use x=\"649.462891\" xlink:href=\"#DejaVuSans-40\"/>\n      <use x=\"688.476562\" xlink:href=\"#DejaVuSans-99\"/>\n      <use x=\"743.457031\" xlink:href=\"#DejaVuSans-50\"/>\n      <use x=\"807.080078\" xlink:href=\"#DejaVuSans-41\"/>\n     </g>\n    </g>\n    <g id=\"line2d_24\">\n     <path d=\"M 265.348437 48.575 \nL 285.348437 48.575 \n\" style=\"fill:none;stroke:#d62728;stroke-dasharray:5.55,2.4;stroke-dashoffset:0;stroke-opacity:0.5;stroke-width:1.5;\"/>\n    </g>\n    <g id=\"line2d_25\"/>\n    <g id=\"text_17\">\n     <!-- Lower bound(c3) -->\n     <g transform=\"translate(293.348437 52.075)scale(0.1 -0.1)\">\n      <defs>\n       <path d=\"M 9.8125 72.90625 \nL 19.671875 72.90625 \nL 19.671875 8.296875 \nL 55.171875 8.296875 \nL 55.171875 0 \nL 9.8125 0 \nz\n\" id=\"DejaVuSans-76\"/>\n       <path d=\"M 4.203125 54.6875 \nL 13.1875 54.6875 \nL 24.421875 12.015625 \nL 35.59375 54.6875 \nL 46.1875 54.6875 \nL 57.421875 12.015625 \nL 68.609375 54.6875 \nL 77.59375 54.6875 \nL 63.28125 0 \nL 52.6875 0 \nL 40.921875 44.828125 \nL 29.109375 0 \nL 18.5 0 \nz\n\" id=\"DejaVuSans-119\"/>\n       <path d=\"M 40.578125 39.3125 \nQ 47.65625 37.796875 51.625 33 \nQ 55.609375 28.21875 55.609375 21.1875 \nQ 55.609375 10.40625 48.1875 4.484375 \nQ 40.765625 -1.421875 27.09375 -1.421875 \nQ 22.515625 -1.421875 17.65625 -0.515625 \nQ 12.796875 0.390625 7.625 2.203125 \nL 7.625 11.71875 \nQ 11.71875 9.328125 16.59375 8.109375 \nQ 21.484375 6.890625 26.8125 6.890625 \nQ 36.078125 6.890625 40.9375 10.546875 \nQ 45.796875 14.203125 45.796875 21.1875 \nQ 45.796875 27.640625 41.28125 31.265625 \nQ 36.765625 34.90625 28.71875 34.90625 \nL 20.21875 34.90625 \nL 20.21875 43.015625 \nL 29.109375 43.015625 \nQ 36.375 43.015625 40.234375 45.921875 \nQ 44.09375 48.828125 44.09375 54.296875 \nQ 44.09375 59.90625 40.109375 62.90625 \nQ 36.140625 65.921875 28.71875 65.921875 \nQ 24.65625 65.921875 20.015625 65.03125 \nQ 15.375 64.15625 9.8125 62.3125 \nL 9.8125 71.09375 \nQ 15.4375 72.65625 20.34375 73.4375 \nQ 25.25 74.21875 29.59375 74.21875 \nQ 40.828125 74.21875 47.359375 69.109375 \nQ 53.90625 64.015625 53.90625 55.328125 \nQ 53.90625 49.265625 50.4375 45.09375 \nQ 46.96875 40.921875 40.578125 39.3125 \nz\n\" id=\"DejaVuSans-51\"/>\n      </defs>\n      <use xlink:href=\"#DejaVuSans-76\"/>\n      <use x=\"53.962891\" xlink:href=\"#DejaVuSans-111\"/>\n      <use x=\"115.144531\" xlink:href=\"#DejaVuSans-119\"/>\n      <use x=\"196.931641\" xlink:href=\"#DejaVuSans-101\"/>\n      <use x=\"258.455078\" xlink:href=\"#DejaVuSans-114\"/>\n      <use x=\"299.568359\" xlink:href=\"#DejaVuSans-32\"/>\n      <use x=\"331.355469\" xlink:href=\"#DejaVuSans-98\"/>\n      <use x=\"394.832031\" xlink:href=\"#DejaVuSans-111\"/>\n      <use x=\"456.013672\" xlink:href=\"#DejaVuSans-117\"/>\n      <use x=\"519.392578\" xlink:href=\"#DejaVuSans-110\"/>\n      <use x=\"582.771484\" xlink:href=\"#DejaVuSans-100\"/>\n      <use x=\"646.248047\" xlink:href=\"#DejaVuSans-40\"/>\n      <use x=\"685.261719\" xlink:href=\"#DejaVuSans-99\"/>\n      <use x=\"740.242188\" xlink:href=\"#DejaVuSans-51\"/>\n      <use x=\"803.865234\" xlink:href=\"#DejaVuSans-41\"/>\n     </g>\n    </g>\n    <g id=\"line2d_26\">\n     <path d=\"M 265.348437 63.253125 \nL 285.348437 63.253125 \n\" style=\"fill:none;stroke:#1f77b4;stroke-linecap:square;stroke-width:1.5;\"/>\n    </g>\n    <g id=\"line2d_27\"/>\n    <g id=\"text_18\">\n     <!-- True function -->\n     <g transform=\"translate(293.348437 66.753125)scale(0.1 -0.1)\">\n      <defs>\n       <path d=\"M -0.296875 72.90625 \nL 61.375 72.90625 \nL 61.375 64.59375 \nL 35.5 64.59375 \nL 35.5 0 \nL 25.59375 0 \nL 25.59375 64.59375 \nL -0.296875 64.59375 \nz\n\" id=\"DejaVuSans-84\"/>\n       <path d=\"M 37.109375 75.984375 \nL 37.109375 68.5 \nL 28.515625 68.5 \nQ 23.6875 68.5 21.796875 66.546875 \nQ 19.921875 64.59375 19.921875 59.515625 \nL 19.921875 54.6875 \nL 34.71875 54.6875 \nL 34.71875 47.703125 \nL 19.921875 47.703125 \nL 19.921875 0 \nL 10.890625 0 \nL 10.890625 47.703125 \nL 2.296875 47.703125 \nL 2.296875 54.6875 \nL 10.890625 54.6875 \nL 10.890625 58.5 \nQ 10.890625 67.625 15.140625 71.796875 \nQ 19.390625 75.984375 28.609375 75.984375 \nz\n\" id=\"DejaVuSans-102\"/>\n      </defs>\n      <use xlink:href=\"#DejaVuSans-84\"/>\n      <use x=\"46.333984\" xlink:href=\"#DejaVuSans-114\"/>\n      <use x=\"87.447266\" xlink:href=\"#DejaVuSans-117\"/>\n      <use x=\"150.826172\" xlink:href=\"#DejaVuSans-101\"/>\n      <use x=\"212.349609\" xlink:href=\"#DejaVuSans-32\"/>\n      <use x=\"244.136719\" xlink:href=\"#DejaVuSans-102\"/>\n      <use x=\"279.341797\" xlink:href=\"#DejaVuSans-117\"/>\n      <use x=\"342.720703\" xlink:href=\"#DejaVuSans-110\"/>\n      <use x=\"406.099609\" xlink:href=\"#DejaVuSans-99\"/>\n      <use x=\"461.080078\" xlink:href=\"#DejaVuSans-116\"/>\n      <use x=\"500.289062\" xlink:href=\"#DejaVuSans-105\"/>\n      <use x=\"528.072266\" xlink:href=\"#DejaVuSans-111\"/>\n      <use x=\"589.253906\" xlink:href=\"#DejaVuSans-110\"/>\n     </g>\n    </g>\n    <g id=\"PathCollection_2\">\n     <g>\n      <use style=\"fill-opacity:0.5;stroke:#000000;stroke-opacity:0.5;stroke-width:1.5;\" x=\"275.348437\" xlink:href=\"#m938e8b53be\" y=\"78.80625\"/>\n     </g>\n    </g>\n    <g id=\"text_19\">\n     <!-- Training set -->\n     <g transform=\"translate(293.348437 81.43125)scale(0.1 -0.1)\">\n      <defs>\n       <path d=\"M 45.40625 27.984375 \nQ 45.40625 37.75 41.375 43.109375 \nQ 37.359375 48.484375 30.078125 48.484375 \nQ 22.859375 48.484375 18.828125 43.109375 \nQ 14.796875 37.75 14.796875 27.984375 \nQ 14.796875 18.265625 18.828125 12.890625 \nQ 22.859375 7.515625 30.078125 7.515625 \nQ 37.359375 7.515625 41.375 12.890625 \nQ 45.40625 18.265625 45.40625 27.984375 \nz\nM 54.390625 6.78125 \nQ 54.390625 -7.171875 48.1875 -13.984375 \nQ 42 -20.796875 29.203125 -20.796875 \nQ 24.46875 -20.796875 20.265625 -20.09375 \nQ 16.0625 -19.390625 12.109375 -17.921875 \nL 12.109375 -9.1875 \nQ 16.0625 -11.328125 19.921875 -12.34375 \nQ 23.78125 -13.375 27.78125 -13.375 \nQ 36.625 -13.375 41.015625 -8.765625 \nQ 45.40625 -4.15625 45.40625 5.171875 \nL 45.40625 9.625 \nQ 42.625 4.78125 38.28125 2.390625 \nQ 33.9375 0 27.875 0 \nQ 17.828125 0 11.671875 7.65625 \nQ 5.515625 15.328125 5.515625 27.984375 \nQ 5.515625 40.671875 11.671875 48.328125 \nQ 17.828125 56 27.875 56 \nQ 33.9375 56 38.28125 53.609375 \nQ 42.625 51.21875 45.40625 46.390625 \nL 45.40625 54.6875 \nL 54.390625 54.6875 \nz\n\" id=\"DejaVuSans-103\"/>\n      </defs>\n      <use xlink:href=\"#DejaVuSans-84\"/>\n      <use x=\"46.333984\" xlink:href=\"#DejaVuSans-114\"/>\n      <use x=\"87.447266\" xlink:href=\"#DejaVuSans-97\"/>\n      <use x=\"148.726562\" xlink:href=\"#DejaVuSans-105\"/>\n      <use x=\"176.509766\" xlink:href=\"#DejaVuSans-110\"/>\n      <use x=\"239.888672\" xlink:href=\"#DejaVuSans-105\"/>\n      <use x=\"267.671875\" xlink:href=\"#DejaVuSans-110\"/>\n      <use x=\"331.050781\" xlink:href=\"#DejaVuSans-103\"/>\n      <use x=\"394.527344\" xlink:href=\"#DejaVuSans-32\"/>\n      <use x=\"426.314453\" xlink:href=\"#DejaVuSans-115\"/>\n      <use x=\"478.414062\" xlink:href=\"#DejaVuSans-101\"/>\n      <use x=\"539.9375\" xlink:href=\"#DejaVuSans-116\"/>\n     </g>\n    </g>\n   </g>\n  </g>\n </g>\n <defs>\n  <clipPath id=\"pef2d634841\">\n   <rect height=\"277.2\" width=\"334.8\" x=\"52.160938\" y=\"20.798438\"/>\n  </clipPath>\n </defs>\n</svg>\n",
      "text/plain": [
       "<Figure size 600x500 with 1 Axes>"
      ]
     },
     "execution_count": 14,
     "metadata": {
     },
     "output_type": "execute_result"
    }
   ],
   "source": [
    "c = ['#1f77b4', '#ff7f0e', '#2ca02c', '#d62728', '#9467bd',\n",
    "     '#8c564b', '#e377c2', '#7f7f7f', '#bcbd22', '#17becf']\n",
    "plt.figure(figsize = (6, 5))\n",
    "plt.style.use('default')\n",
    "plt.scatter(x_train , y_train , s = 10, marker = 'x', color = 'black', alpha = 0.5,label='Training set')\n",
    "plt.plot(x_test.numpy(),y_up.numpy(),color='blue', linestyle='--',alpha=0.5,label='Upper bound(c2)')\n",
    "plt.axhline(y=0., color=c[3], linestyle='--',alpha=0.5,label='Lower bound(c3)')\n",
    "plt.plot(x_test.numpy(),fun(x_test.numpy()),label='True function')\n",
    "\n",
    "\n",
    "plt.xlim([0, 1])\n",
    "plt.ylim([-0.5,2])\n",
    "plt.xlabel('$x$', fontsize=10)\n",
    "plt.ylabel('$y$', fontsize=10)\n",
    "\n",
    "plt.title('Simulation and constraints', fontsize=10)\n",
    "plt.tick_params(labelsize=10)\n",
    "# plt.xticks(np.arange(-4, 5, 2))\n",
    "plt.gca().yaxis.grid(alpha=0.2)\n",
    "plt.legend()\n",
    "plt.show()"
   ]
  },
  {
   "cell_type": "code",
   "execution_count": 46,
   "metadata": {
    "collapsed": false
   },
   "outputs": [
    {
     "data": {
      "text/plain": [
       "0.0077820546"
      ]
     },
     "execution_count": 46,
     "metadata": {
     },
     "output_type": "execute_result"
    }
   ],
   "source": [
    "from sklearn.metrics import mean_squared_error\n",
    "mean_squared_error(fun(x_test.numpy()),means)"
   ]
  },
  {
   "cell_type": "code",
   "execution_count": 0,
   "metadata": {
    "collapsed": false
   },
   "outputs": [
   ],
   "source": [
   ]
  }
 ],
 "metadata": {
  "kernelspec": {
   "display_name": "py37",
   "language": "python",
   "name": "py37",
   "resource_dir": "/projects/c7a030ad-455b-4040-a358-c6bf1b08bee4/.local/share/jupyter/kernels/py37"
  },
  "language_info": {
   "codemirror_mode": {
    "name": "ipython",
    "version": 3
   },
   "file_extension": ".py",
   "mimetype": "text/x-python",
   "name": "python",
   "nbconvert_exporter": "python",
   "pygments_lexer": "ipython3",
   "version": "3.7.10"
  }
 },
 "nbformat": 4,
 "nbformat_minor": 4
}