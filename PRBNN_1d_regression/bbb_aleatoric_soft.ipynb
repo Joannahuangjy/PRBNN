{
 "cells": [
  {
   "cell_type": "code",
   "execution_count": 3,
   "metadata": {
    "collapsed": false
   },
   "outputs": [
   ],
   "source": [
    "import time\n",
    "import copy\n",
    "import math\n",
    "import matplotlib.pyplot as plt\n",
    "import numpy as np\n",
    "import seaborn as sns\n",
    "\n",
    "import torch\n",
    "import torch.nn as nn\n",
    "import torch.nn.functional as F\n",
    "from torch.autograd import Variable\n",
    "from torch.optim import Optimizer\n",
    "\n",
    "from torchvision import datasets, transforms\n",
    "from torchvision.utils import make_grid\n",
    "from tqdm import tqdm, trange\n",
    "\n",
    "%config InlineBackend.figure_format = 'svg'"
   ]
  },
  {
   "cell_type": "code",
   "execution_count": 4,
   "metadata": {
    "collapsed": false
   },
   "outputs": [
   ],
   "source": [
    "device=torch.device(\"cpu\")\n"
   ]
  },
  {
   "cell_type": "code",
   "execution_count": 5,
   "metadata": {
    "collapsed": false
   },
   "outputs": [
   ],
   "source": [
    "def to_variable(var=(), cuda=True, volatile=False):\n",
    "    out = []\n",
    "    for v in var:\n",
    "        if isinstance(v, np.ndarray):\n",
    "            v = torch.from_numpy(v).type(torch.FloatTensor)\n",
    "\n",
    "        if not v.is_cuda and cuda:\n",
    "            v = v.to(device)\n",
    "\n",
    "        if not isinstance(v, Variable):\n",
    "            v = Variable(v, volatile=volatile)\n",
    "\n",
    "        out.append(v)\n",
    "    return out"
   ]
  },
  {
   "cell_type": "code",
   "execution_count": 6,
   "metadata": {
    "collapsed": false
   },
   "outputs": [
   ],
   "source": [
    "\n",
    "def log_gaussian_loss(output, target, sigma, no_dim):\n",
    "    exponent = -0.5*(target - output)**2/sigma**2  \n",
    "    log_coeff = -no_dim*torch.log(sigma) \n",
    "\n",
    "    return - (log_coeff + exponent).sum()\n",
    "\n",
    "\n",
    "def get_kl_divergence(weights, prior, varpost):\n",
    "    prior_loglik = prior.loglik(weights)\n",
    "    \n",
    "    varpost_loglik = varpost.loglik(weights)\n",
    "    varpost_lik = varpost_loglik.exp()\n",
    "    \n",
    "    return (varpost_lik*(varpost_loglik - prior_loglik)).sum()\n",
    "\n",
    "\n",
    "class gaussian:\n",
    "    def __init__(self, mu, sigma):\n",
    "        self.mu = mu\n",
    "        self.sigma = sigma\n",
    "        \n",
    "    def loglik(self, weights):\n",
    "        exponent = -0.5*(weights - self.mu)**2/self.sigma**2\n",
    "        log_coeff = -0.5*(np.log(2*np.pi) + 2*np.log(self.sigma))\n",
    "        \n",
    "        return (exponent + log_coeff).sum()"
   ]
  },
  {
   "cell_type": "code",
   "execution_count": 209,
   "metadata": {
    "collapsed": false
   },
   "outputs": [
   ],
   "source": [
    "class BayesLinear_Normalq(nn.Module):\n",
    "    def __init__(self, input_dim, output_dim, prior):\n",
    "        super(BayesLinear_Normalq, self).__init__()\n",
    "        self.input_dim = input_dim\n",
    "        self.output_dim = output_dim\n",
    "        self.prior = prior\n",
    "        \n",
    "        scale = (1/self.input_dim)**0.5\n",
    "        rho_init = np.log(np.exp((2/self.input_dim)**0.5) - 1)\n",
    "        self.weight_mus = nn.Parameter(torch.Tensor(self.input_dim, self.output_dim).uniform_(-0.05, 0.05))\n",
    "        self.weight_rhos = nn.Parameter(torch.Tensor(self.input_dim, self.output_dim).uniform_(-2, -1))\n",
    "        \n",
    "        self.bias_mus = nn.Parameter(torch.Tensor(self.output_dim).uniform_(-0.05, 0.05))\n",
    "        self.bias_rhos = nn.Parameter(torch.Tensor(self.output_dim).uniform_(-2, -1))\n",
    "        \n",
    "    def forward(self, x, sample = True):\n",
    "\n",
    "        \n",
    "        if sample:\n",
    "            # sample gaussian noise for each weight and each bias\n",
    "            weight_epsilons = Variable(self.weight_mus.data.new(self.weight_mus.size()).normal_())\n",
    "            bias_epsilons =  Variable(self.bias_mus.data.new(self.bias_mus.size()).normal_())\n",
    "            \n",
    "            # calculate the weight and bias stds from the rho parameters\n",
    "            weight_stds = torch.log(1 + torch.exp(self.weight_rhos))\n",
    "            bias_stds = torch.log(1 + torch.exp(self.bias_rhos))\n",
    "            \n",
    "            # calculate samples from the posterior from the sampled noise and mus/stds\n",
    "            weight_sample = self.weight_mus + weight_epsilons*weight_stds\n",
    "            bias_sample = self.bias_mus + bias_epsilons*bias_stds\n",
    "            \n",
    "            output = torch.mm(x, weight_sample) + bias_sample\n",
    "            \n",
    "            # computing the KL loss term\n",
    "            prior_cov, varpost_cov = self.prior.sigma**2, weight_stds**2\n",
    "            KL_loss = 0.5*(torch.log(prior_cov/varpost_cov)).sum() - 0.5*weight_stds.numel()\n",
    "            KL_loss = KL_loss + 0.5*(varpost_cov/prior_cov).sum()\n",
    "            KL_loss = KL_loss + 0.5*((self.weight_mus - self.prior.mu)**2/prior_cov).sum()\n",
    "            \n",
    "            prior_cov, varpost_cov = self.prior.sigma**2, bias_stds**2\n",
    "            KL_loss = KL_loss + 0.5*(torch.log(prior_cov/varpost_cov)).sum() - 0.5*bias_stds.numel()\n",
    "            KL_loss = KL_loss + 0.5*(varpost_cov/prior_cov).sum()\n",
    "            KL_loss = KL_loss + 0.5*((self.bias_mus - self.prior.mu)**2/prior_cov).sum()\n",
    "            \n",
    "            return output, KL_loss\n",
    "        \n",
    "        else:\n",
    "            output = torch.mm(x, self.weight_mus) + self.bias_mus\n",
    "            return output, KL_loss\n",
    "        \n",
    "    def sample_layer(self, no_samples):\n",
    "        all_samples = []\n",
    "        for i in range(no_samples):\n",
    "            # sample gaussian noise for each weight and each bias\n",
    "            weight_epsilons = Variable(self.weight_mus.data.new(self.weight_mus.size()).normal_())\n",
    "            \n",
    "            # calculate the weight and bias stds from the rho parameters\n",
    "            weight_stds = torch.log(1 + torch.exp(self.weight_rhos))\n",
    "            \n",
    "            # calculate samples from the posterior from the sampled noise and mus/stds\n",
    "            weight_sample = self.weight_mus + weight_epsilons*weight_stds\n",
    "            \n",
    "            all_samples += weight_sample.view(-1).cpu().data.numpy().tolist()\n",
    "            \n",
    "        return all_samples"
   ]
  },
  {
   "cell_type": "code",
   "execution_count": 103,
   "metadata": {
    "collapsed": false
   },
   "outputs": [
   ],
   "source": [
    "class BBP_Homoscedastic_Model(nn.Module):\n",
    "    def __init__(self, input_dim, output_dim, no_units, init_log_noise):\n",
    "        super(BBP_Homoscedastic_Model, self).__init__()\n",
    "        \n",
    "        self.input_dim = input_dim\n",
    "        self.output_dim = output_dim\n",
    "        \n",
    "        # network with two hidden and one output layer\n",
    "\n",
    "        self.layer1 = BayesLinear_Normalq(input_dim, no_units, gaussian(0, 1))\n",
    "        self.layer2 = BayesLinear_Normalq(no_units, output_dim, gaussian(0,1))\n",
    "        \n",
    "        # activation to be used between hidden layers\n",
    "        self.activation = nn.ReLU(inplace = True)\n",
    "#         self.log_noise = nn.Parameter(torch.cuda.FloatTensor([init_log_noise]))\n",
    "        self.log_noise = nn.Parameter(torch.FloatTensor([init_log_noise]))\n",
    "\n",
    "    \n",
    "    def forward(self, x):\n",
    "        \n",
    "\n",
    "        KL_loss_total = 0\n",
    "        x = x.view(-1, self.input_dim)\n",
    "        \n",
    "        x, KL_loss = self.layer1(x)\n",
    "\n",
    "        KL_loss_total = KL_loss_total + KL_loss\n",
    "        x = self.activation(x)\n",
    "        \n",
    "        x, KL_loss = self.layer2(x)\n",
    "        KL_loss_total = KL_loss_total + KL_loss\n",
    "        \n",
    "        return x, KL_loss_total"
   ]
  },
  {
   "cell_type": "code",
   "execution_count": 174,
   "metadata": {
    "collapsed": false
   },
   "outputs": [
   ],
   "source": [
    "from IPython.core.debugger import set_trace\n",
    "class BBP_Homoscedastic_Model_Wrapper:\n",
    "    def __init__(self, input_dim, output_dim, no_units, learn_rate, batch_size, no_batches, init_log_noise,params):\n",
    "        \n",
    "\n",
    "\n",
    "        self.learn_rate = learn_rate\n",
    "        self.batch_size = batch_size\n",
    "        self.no_batches = no_batches\n",
    "        \n",
    "        self.network = BBP_Homoscedastic_Model(input_dim = input_dim, output_dim = output_dim,\n",
    "                                               no_units = no_units, init_log_noise = init_log_noise)\n",
    "        self.network.to(device)\n",
    "\n",
    "        self.optimizer = torch.optim.Adam(self.network.parameters(), lr =self.learn_rate)\n",
    "        self.loss_func = log_gaussian_loss\n",
    "        self.params=params\n",
    "    def fit(self, x, y, no_samples):\n",
    "        x, y = to_variable(var=(x, y), cuda=False)\n",
    "        # reset gradient and total loss\n",
    "        self.optimizer.zero_grad()\n",
    "        fit_loss_total = 0\n",
    "        c_loss=torch.zeros(no_samples, 1)\n",
    "        x_point=torch.linspace(0.,1.2,50)[:,None].to(device)\n",
    "\n",
    "        \n",
    "        for i in range(no_samples):\n",
    "            output, KL_loss_total = self.network(x)\n",
    "            sample_output,_=self.network(x_point)\n",
    "            sample_output_0=sample_output[:-1]\n",
    "            sample_output_1=sample_output[1:]\n",
    "            diff_vector=sample_output_0-sample_output_1\n",
    "            diff_vector[diff_vector<0]=0\n",
    "            diff1=sample_output-fun_UB(x_point.cpu()).to(device)  #ub\n",
    "            diff2=torch.FloatTensor(constant_function(0)(x_point.cpu())).to(device)-sample_output#lb\n",
    "            diff1[diff1<0]=0\n",
    "            diff2[diff2<0]=0\n",
    "            # calculate fit loss based on mean and standard deviation of output\n",
    "            fit_loss_total = fit_loss_total + self.loss_func(output, y, self.network.log_noise.exp(), self.network.output_dim)\n",
    "            c_loss[i]=self.params[0]*torch.mean(diff1)+self.params[1]*torch.mean(diff2) +self.params[2]*torch.mean(diff_vector)\n",
    "\n",
    "        cons_loss_1=c_loss.mean()\n",
    "        KL_loss_total = KL_loss_total/self.no_batches\n",
    "        total_loss = (fit_loss_total + KL_loss_total)/(no_samples*x.shape[0])+cons_loss_1.to(device)\n",
    "        total_loss.backward()\n",
    "        self.optimizer.step()\n",
    "\n",
    "        return fit_loss_total/no_samples, KL_loss_total,cons_loss_1"
   ]
  },
  {
   "cell_type": "code",
   "execution_count": 175,
   "metadata": {
    "collapsed": false
   },
   "outputs": [
    {
     "name": "stdout",
     "output_type": "stream",
     "text": [
      "0.39002997648690874 0.15905669404006317 0.330080644951817 0.31368231521073986\n"
     ]
    }
   ],
   "source": [
    "torch.random.seed()\n",
    "no_points = 300\n",
    "lengthscale = 1\n",
    "variance = 1.0\n",
    "sig_noise = 0.1\n",
    "def fun(x):\n",
    "    return (np.arctan(20*x - 10) - np.arctan(-10))/3        \n",
    "def constant_function(val):\n",
    "    \"\"\" Return the constant function\"\"\"\n",
    "    def fun(x):\n",
    "        return torch.zeros(x.shape[0])+val\n",
    "    \n",
    "    return fun\n",
    "\n",
    "def fun_UB(x):\n",
    "    \"\"\" Upper bound function \"\"\"\n",
    "    return torch.log(25*x.flatten() + 1)/3+0.05      \n",
    "\n",
    "\n",
    "\n",
    "x_test = np.linspace(0, 1, 100)\n",
    "y_true = fun(x_test)\n",
    "\n",
    "n = 100\n",
    "noise_std = 0.1\n",
    "np.random.seed(1)\n",
    "x_design = np.random.uniform(0.1, 0.65, n)\n",
    "x_design.sort(axis = 0)\n",
    "np.random.seed(10)\n",
    "y_design = fun(x_design) + np.random.normal(0, noise_std, n)\n",
    "\n",
    "positive_index=np.where(y_design>=0)[0]\n",
    "x_design=x_design[positive_index]\n",
    "y_design=y_design[positive_index]\n",
    "# diff_y=np.diff(y_design)\n",
    "# print(diff_y)\n",
    "# mono_index=(np.where(diff_y<1e-8))[0]+1\n",
    "train=np.stack((x_design,y_design),axis=-1)\n",
    "np.random.shuffle(train)\n",
    "\n",
    "x_mean, x_std = x_design.mean(), x_design.var()**0.5\n",
    "y_mean, y_std = y_design.mean(), y_design.var()**0.5\n",
    "x_train=  torch.FloatTensor(x_design[:,np.newaxis])      \n",
    "y_train=  torch.FloatTensor(y_design[:,np.newaxis])      \n",
    "x_test=  torch.FloatTensor(x_test)      \n",
    "y_true=  torch.FloatTensor(y_true)   \n",
    "print(x_mean, x_std,y_mean, y_std)\n",
    "\n",
    "\n",
    "sigma=0.1\n",
    "\n",
    "ntrain=n"
   ]
  },
  {
   "cell_type": "code",
   "execution_count": 176,
   "metadata": {
    "collapsed": false
   },
   "outputs": [
    {
     "data": {
      "text/plain": [
       "torch.Size([87, 1])"
      ]
     },
     "execution_count": 176,
     "metadata": {
     },
     "output_type": "execute_result"
    }
   ],
   "source": [
    "x_train.shape"
   ]
  },
  {
   "cell_type": "code",
   "execution_count": 203,
   "metadata": {
    "collapsed": false,
    "scrolled": true
   },
   "outputs": [
    {
     "name": "stdout",
     "output_type": "stream",
     "text": [
      "Epoch:     1/ 6000, Fit loss =   22.836, KL loss =  335.541, Constraint Loss =   0.218, noise =  0.995\n"
     ]
    },
    {
     "name": "stdout",
     "output_type": "stream",
     "text": [
      "Epoch:   101/ 6000, Fit loss =  -14.301, KL loss =  324.226, Constraint Loss =   0.022, noise =  0.617\n"
     ]
    },
    {
     "name": "stdout",
     "output_type": "stream",
     "text": [
      "Epoch:   201/ 6000, Fit loss =  -49.622, KL loss =  314.302, Constraint Loss =   0.064, noise =  0.429\n"
     ]
    },
    {
     "name": "stdout",
     "output_type": "stream",
     "text": [
      "Epoch:   301/ 6000, Fit loss =  -53.273, KL loss =  304.730, Constraint Loss =   0.019, noise =  0.347\n"
     ]
    },
    {
     "name": "stdout",
     "output_type": "stream",
     "text": [
      "Epoch:   401/ 6000, Fit loss =  -70.611, KL loss =  296.934, Constraint Loss =   0.032, noise =  0.309\n"
     ]
    },
    {
     "name": "stdout",
     "output_type": "stream",
     "text": [
      "Epoch:   501/ 6000, Fit loss =  -82.942, KL loss =  289.065, Constraint Loss =   0.042, noise =  0.276\n"
     ]
    },
    {
     "name": "stdout",
     "output_type": "stream",
     "text": [
      "Epoch:   601/ 6000, Fit loss =  -80.140, KL loss =  285.892, Constraint Loss =   0.047, noise =  0.251\n"
     ]
    },
    {
     "name": "stdout",
     "output_type": "stream",
     "text": [
      "Epoch:   701/ 6000, Fit loss =  -88.791, KL loss =  279.259, Constraint Loss =   0.086, noise =  0.223\n"
     ]
    },
    {
     "name": "stdout",
     "output_type": "stream",
     "text": [
      "Epoch:   801/ 6000, Fit loss = -100.237, KL loss =  274.448, Constraint Loss =   0.127, noise =  0.206\n"
     ]
    },
    {
     "name": "stdout",
     "output_type": "stream",
     "text": [
      "Epoch:   901/ 6000, Fit loss =  -74.033, KL loss =  269.721, Constraint Loss =   0.211, noise =  0.194\n"
     ]
    },
    {
     "name": "stdout",
     "output_type": "stream",
     "text": [
      "Epoch:  1001/ 6000, Fit loss = -109.451, KL loss =  262.634, Constraint Loss =   0.182, noise =  0.184\n"
     ]
    },
    {
     "name": "stdout",
     "output_type": "stream",
     "text": [
      "Epoch:  1101/ 6000, Fit loss = -108.865, KL loss =  259.654, Constraint Loss =   0.235, noise =  0.180\n"
     ]
    },
    {
     "name": "stdout",
     "output_type": "stream",
     "text": [
      "Epoch:  1201/ 6000, Fit loss = -111.606, KL loss =  254.101, Constraint Loss =   0.265, noise =  0.173\n"
     ]
    },
    {
     "name": "stdout",
     "output_type": "stream",
     "text": [
      "Epoch:  1301/ 6000, Fit loss = -111.037, KL loss =  249.109, Constraint Loss =   0.178, noise =  0.176\n"
     ]
    },
    {
     "name": "stdout",
     "output_type": "stream",
     "text": [
      "Epoch:  1401/ 6000, Fit loss = -116.890, KL loss =  248.153, Constraint Loss =   0.135, noise =  0.160\n"
     ]
    },
    {
     "name": "stdout",
     "output_type": "stream",
     "text": [
      "Epoch:  1501/ 6000, Fit loss = -136.630, KL loss =  248.339, Constraint Loss =   0.144, noise =  0.135\n"
     ]
    },
    {
     "name": "stdout",
     "output_type": "stream",
     "text": [
      "Epoch:  1601/ 6000, Fit loss = -134.066, KL loss =  248.056, Constraint Loss =   0.136, noise =  0.113\n"
     ]
    },
    {
     "name": "stdout",
     "output_type": "stream",
     "text": [
      "Epoch:  1701/ 6000, Fit loss = -158.750, KL loss =  253.106, Constraint Loss =   0.068, noise =  0.109\n"
     ]
    },
    {
     "name": "stdout",
     "output_type": "stream",
     "text": [
      "Epoch:  1801/ 6000, Fit loss = -156.630, KL loss =  253.218, Constraint Loss =   0.077, noise =  0.101\n"
     ]
    },
    {
     "name": "stdout",
     "output_type": "stream",
     "text": [
      "Epoch:  1901/ 6000, Fit loss = -157.162, KL loss =  252.092, Constraint Loss =   0.068, noise =  0.098\n"
     ]
    },
    {
     "name": "stdout",
     "output_type": "stream",
     "text": [
      "Epoch:  2001/ 6000, Fit loss = -159.288, KL loss =  251.968, Constraint Loss =   0.056, noise =  0.102\n"
     ]
    },
    {
     "name": "stdout",
     "output_type": "stream",
     "text": [
      "Epoch:  2101/ 6000, Fit loss = -160.993, KL loss =  251.515, Constraint Loss =   0.075, noise =  0.102\n"
     ]
    },
    {
     "name": "stdout",
     "output_type": "stream",
     "text": [
      "Epoch:  2201/ 6000, Fit loss = -161.359, KL loss =  249.892, Constraint Loss =   0.057, noise =  0.097\n"
     ]
    },
    {
     "name": "stdout",
     "output_type": "stream",
     "text": [
      "Epoch:  2301/ 6000, Fit loss = -162.348, KL loss =  246.346, Constraint Loss =   0.074, noise =  0.096\n"
     ]
    },
    {
     "name": "stdout",
     "output_type": "stream",
     "text": [
      "Epoch:  2401/ 6000, Fit loss = -127.429, KL loss =  243.664, Constraint Loss =   0.062, noise =  0.097\n"
     ]
    },
    {
     "name": "stdout",
     "output_type": "stream",
     "text": [
      "Epoch:  2501/ 6000, Fit loss = -162.156, KL loss =  245.243, Constraint Loss =   0.064, noise =  0.099\n"
     ]
    },
    {
     "name": "stdout",
     "output_type": "stream",
     "text": [
      "Epoch:  2601/ 6000, Fit loss = -161.324, KL loss =  242.251, Constraint Loss =   0.064, noise =  0.097\n"
     ]
    },
    {
     "name": "stdout",
     "output_type": "stream",
     "text": [
      "Epoch:  2701/ 6000, Fit loss = -163.049, KL loss =  241.590, Constraint Loss =   0.065, noise =  0.096\n"
     ]
    },
    {
     "name": "stdout",
     "output_type": "stream",
     "text": [
      "Epoch:  2801/ 6000, Fit loss = -162.644, KL loss =  237.447, Constraint Loss =   0.069, noise =  0.095\n"
     ]
    },
    {
     "name": "stdout",
     "output_type": "stream",
     "text": [
      "Epoch:  2901/ 6000, Fit loss = -162.929, KL loss =  235.003, Constraint Loss =   0.063, noise =  0.095\n"
     ]
    },
    {
     "name": "stdout",
     "output_type": "stream",
     "text": [
      "Epoch:  3001/ 6000, Fit loss = -163.343, KL loss =  233.494, Constraint Loss =   0.062, noise =  0.096\n"
     ]
    },
    {
     "name": "stdout",
     "output_type": "stream",
     "text": [
      "Epoch:  3101/ 6000, Fit loss = -163.092, KL loss =  232.138, Constraint Loss =   0.065, noise =  0.097\n"
     ]
    },
    {
     "name": "stdout",
     "output_type": "stream",
     "text": [
      "Epoch:  3201/ 6000, Fit loss = -162.236, KL loss =  232.724, Constraint Loss =   0.062, noise =  0.099\n"
     ]
    },
    {
     "name": "stdout",
     "output_type": "stream",
     "text": [
      "Epoch:  3301/ 6000, Fit loss = -162.303, KL loss =  231.655, Constraint Loss =   0.149, noise =  0.095\n"
     ]
    },
    {
     "name": "stdout",
     "output_type": "stream",
     "text": [
      "Epoch:  3401/ 6000, Fit loss = -157.457, KL loss =  232.553, Constraint Loss =   0.060, noise =  0.103\n"
     ]
    },
    {
     "name": "stdout",
     "output_type": "stream",
     "text": [
      "Epoch:  3501/ 6000, Fit loss = -162.914, KL loss =  233.114, Constraint Loss =   0.056, noise =  0.101\n"
     ]
    },
    {
     "name": "stdout",
     "output_type": "stream",
     "text": [
      "Epoch:  3601/ 6000, Fit loss = -162.996, KL loss =  232.843, Constraint Loss =   0.066, noise =  0.097\n"
     ]
    },
    {
     "name": "stdout",
     "output_type": "stream",
     "text": [
      "Epoch:  3701/ 6000, Fit loss = -162.533, KL loss =  231.956, Constraint Loss =   0.072, noise =  0.100\n"
     ]
    },
    {
     "name": "stdout",
     "output_type": "stream",
     "text": [
      "Epoch:  3801/ 6000, Fit loss = -163.113, KL loss =  231.766, Constraint Loss =   0.062, noise =  0.098\n"
     ]
    },
    {
     "name": "stdout",
     "output_type": "stream",
     "text": [
      "Epoch:  3901/ 6000, Fit loss = -163.569, KL loss =  231.547, Constraint Loss =   0.063, noise =  0.095\n"
     ]
    },
    {
     "name": "stdout",
     "output_type": "stream",
     "text": [
      "Epoch:  4001/ 6000, Fit loss = -126.425, KL loss =  229.487, Constraint Loss =   0.061, noise =  0.094\n"
     ]
    },
    {
     "name": "stdout",
     "output_type": "stream",
     "text": [
      "Epoch:  4101/ 6000, Fit loss = -162.979, KL loss =  229.570, Constraint Loss =   0.062, noise =  0.095\n"
     ]
    },
    {
     "name": "stdout",
     "output_type": "stream",
     "text": [
      "Epoch:  4201/ 6000, Fit loss = -159.726, KL loss =  227.195, Constraint Loss =   0.058, noise =  0.094\n"
     ]
    },
    {
     "name": "stdout",
     "output_type": "stream",
     "text": [
      "Epoch:  4301/ 6000, Fit loss = -163.197, KL loss =  225.111, Constraint Loss =   0.058, noise =  0.094\n"
     ]
    },
    {
     "name": "stdout",
     "output_type": "stream",
     "text": [
      "Epoch:  4401/ 6000, Fit loss =  -94.675, KL loss =  224.356, Constraint Loss =   0.057, noise =  0.098\n"
     ]
    },
    {
     "name": "stdout",
     "output_type": "stream",
     "text": [
      "Epoch:  4501/ 6000, Fit loss = -163.257, KL loss =  224.722, Constraint Loss =   0.070, noise =  0.095\n"
     ]
    },
    {
     "name": "stdout",
     "output_type": "stream",
     "text": [
      "Epoch:  4601/ 6000, Fit loss = -161.360, KL loss =  224.112, Constraint Loss =   0.059, noise =  0.095\n"
     ]
    },
    {
     "name": "stdout",
     "output_type": "stream",
     "text": [
      "Epoch:  4701/ 6000, Fit loss = -163.600, KL loss =  223.900, Constraint Loss =   0.074, noise =  0.094\n"
     ]
    },
    {
     "name": "stdout",
     "output_type": "stream",
     "text": [
      "Epoch:  4801/ 6000, Fit loss = -162.859, KL loss =  222.571, Constraint Loss =   0.064, noise =  0.096\n"
     ]
    },
    {
     "name": "stdout",
     "output_type": "stream",
     "text": [
      "Epoch:  4901/ 6000, Fit loss = -162.393, KL loss =  224.383, Constraint Loss =   0.061, noise =  0.100\n"
     ]
    },
    {
     "name": "stdout",
     "output_type": "stream",
     "text": [
      "Epoch:  5001/ 6000, Fit loss = -162.765, KL loss =  222.859, Constraint Loss =   0.115, noise =  0.095\n"
     ]
    },
    {
     "name": "stdout",
     "output_type": "stream",
     "text": [
      "Epoch:  5101/ 6000, Fit loss = -162.782, KL loss =  222.257, Constraint Loss =   0.059, noise =  0.100\n"
     ]
    },
    {
     "name": "stdout",
     "output_type": "stream",
     "text": [
      "Epoch:  5201/ 6000, Fit loss = -163.206, KL loss =  222.096, Constraint Loss =   0.085, noise =  0.098\n"
     ]
    },
    {
     "name": "stdout",
     "output_type": "stream",
     "text": [
      "Epoch:  5301/ 6000, Fit loss = -163.423, KL loss =  221.449, Constraint Loss =   0.060, noise =  0.095\n"
     ]
    },
    {
     "name": "stdout",
     "output_type": "stream",
     "text": [
      "Epoch:  5401/ 6000, Fit loss = -163.110, KL loss =  219.790, Constraint Loss =   0.059, noise =  0.095\n"
     ]
    },
    {
     "name": "stdout",
     "output_type": "stream",
     "text": [
      "Epoch:  5501/ 6000, Fit loss = -163.345, KL loss =  218.275, Constraint Loss =   0.064, noise =  0.094\n"
     ]
    },
    {
     "name": "stdout",
     "output_type": "stream",
     "text": [
      "Epoch:  5601/ 6000, Fit loss = -163.392, KL loss =  218.830, Constraint Loss =   0.064, noise =  0.095\n"
     ]
    },
    {
     "name": "stdout",
     "output_type": "stream",
     "text": [
      "Epoch:  5701/ 6000, Fit loss = -162.422, KL loss =  219.464, Constraint Loss =   0.069, noise =  0.100\n"
     ]
    },
    {
     "name": "stdout",
     "output_type": "stream",
     "text": [
      "Epoch:  5801/ 6000, Fit loss = -162.182, KL loss =  218.212, Constraint Loss =   0.059, noise =  0.095\n"
     ]
    },
    {
     "name": "stdout",
     "output_type": "stream",
     "text": [
      "Epoch:  5901/ 6000, Fit loss = -156.411, KL loss =  218.932, Constraint Loss =   0.058, noise =  0.098\n"
     ]
    },
    {
     "name": "stdout",
     "output_type": "stream",
     "text": [
      "Epoch:  6000/ 6000, Fit loss = -162.063, KL loss =  219.406, Constraint Loss =   0.063, noise =  0.095\n"
     ]
    }
   ],
   "source": [
    "\n",
    "num_epochs, batch_size, nb_train = 6000, len(x_train), len(x_train)\n",
    "net = BBP_Homoscedastic_Model_Wrapper(input_dim = 1, output_dim = 1, no_units = 100, learn_rate =5e-3,\n",
    "                                      batch_size = batch_size, no_batches = 1, init_log_noise = 0,params=(2,1,1))\n",
    "\n",
    "constraint_loss=np.zeros(num_epochs)\n",
    "fit_loss_train = np.zeros(num_epochs)\n",
    "KL_loss_train = np.zeros(num_epochs)\n",
    "total_loss = np.zeros(num_epochs)\n",
    "\n",
    "best_net, best_loss = None, float('inf')\n",
    "\n",
    "for i in range(num_epochs):\n",
    "    \n",
    "    fit_loss, KL_loss,constraint = net.fit(x_train, y_train, no_samples = 5)\n",
    "    fit_loss_train[i] += fit_loss.cpu().data.numpy()\n",
    "    KL_loss_train[i] += KL_loss.cpu().data.numpy()\n",
    "    constraint_loss[i]+=constraint.cpu().data.numpy()\n",
    "    total_loss[i] = fit_loss_train[i] + KL_loss_train[i]+constraint_loss[i]\n",
    "    loss_compare= fit_loss\n",
    "    if loss_compare< best_loss:\n",
    "        best_loss = loss_compare\n",
    "        best_net = copy.deepcopy(net.network)\n",
    "        \n",
    "    if i % 100 == 0 or i == num_epochs - 1:\n",
    "        \n",
    "        print(\"Epoch: %5d/%5d, Fit loss = %8.3f, KL loss = %8.3f, Constraint Loss =%8.3f, noise = %6.3f\" %\n",
    "              (i + 1, num_epochs, fit_loss_train[i], KL_loss_train[i],constraint_loss[i], net.network.log_noise.exp().cpu().data.numpy()))\n",
    "\n",
    "        samples = []\n",
    "#         for i in range(100):\n",
    "#             preds = net.network.forward(torch.linspace(0.1, 0.6, 200).cuda())[0]\n",
    "#             samples.append(preds.cpu().data.numpy()[:, 0])"
   ]
  },
  {
   "cell_type": "code",
   "execution_count": 0,
   "metadata": {
    "collapsed": false
   },
   "outputs": [
   ],
   "source": [
   ]
  },
  {
   "cell_type": "code",
   "execution_count": 0,
   "metadata": {
    "collapsed": false
   },
   "outputs": [
   ],
   "source": [
   ]
  },
  {
   "cell_type": "code",
   "execution_count": 238,
   "metadata": {
    "collapsed": false
   },
   "outputs": [
    {
     "data": {
      "text/plain": [
       "<All keys matched successfully>"
      ]
     },
     "execution_count": 238,
     "metadata": {
     },
     "output_type": "execute_result"
    }
   ],
   "source": [
    "net.network.load_state_dict(torch.load('./BBB_saved/soft_constraint_1_1_1.pth'))"
   ]
  },
  {
   "cell_type": "code",
   "execution_count": 230,
   "metadata": {
    "collapsed": false
   },
   "outputs": [
   ],
   "source": [
    "# torch.save(net.network.state_dict(), './soft_constraint_1_2_1.pth')"
   ]
  },
  {
   "cell_type": "code",
   "execution_count": 239,
   "metadata": {
    "collapsed": false
   },
   "outputs": [
    {
     "data": {
      "image/svg+xml": "<?xml version=\"1.0\" encoding=\"utf-8\" standalone=\"no\"?>\n<!DOCTYPE svg PUBLIC \"-//W3C//DTD SVG 1.1//EN\"\n  \"http://www.w3.org/Graphics/SVG/1.1/DTD/svg11.dtd\">\n<!-- Created with matplotlib (https://matplotlib.org/) -->\n<svg height=\"325.755469pt\" version=\"1.1\" viewBox=\"0 0 402.1125 325.755469\" width=\"402.1125pt\" xmlns=\"http://www.w3.org/2000/svg\" xmlns:xlink=\"http://www.w3.org/1999/xlink\">\n <metadata>\n  <rdf:RDF xmlns:cc=\"http://creativecommons.org/ns#\" xmlns:dc=\"http://purl.org/dc/elements/1.1/\" xmlns:rdf=\"http://www.w3.org/1999/02/22-rdf-syntax-ns#\">\n   <cc:Work>\n    <dc:type rdf:resource=\"http://purl.org/dc/dcmitype/StillImage\"/>\n    <dc:date>2022-09-05T06:08:03.550521</dc:date>\n    <dc:format>image/svg+xml</dc:format>\n    <dc:creator>\n     <cc:Agent>\n      <dc:title>Matplotlib v3.3.4, https://matplotlib.org/</dc:title>\n     </cc:Agent>\n    </dc:creator>\n   </cc:Work>\n  </rdf:RDF>\n </metadata>\n <defs>\n  <style type=\"text/css\">*{stroke-linecap:butt;stroke-linejoin:round;}</style>\n </defs>\n <g id=\"figure_1\">\n  <g id=\"patch_1\">\n   <path d=\"M 0 325.755469 \nL 402.1125 325.755469 \nL 402.1125 0 \nL 0 0 \nz\n\" style=\"fill:#ffffff;\"/>\n  </g>\n  <g id=\"axes_1\">\n   <g id=\"patch_2\">\n    <path d=\"M 52.160938 288.199219 \nL 386.960938 288.199219 \nL 386.960938 10.999219 \nL 52.160938 10.999219 \nz\n\" style=\"fill:#ffffff;\"/>\n   </g>\n   <g id=\"PathCollection_1\">\n    <defs>\n     <path d=\"M -1.581139 1.581139 \nL 1.581139 -1.581139 \nM -1.581139 -1.581139 \nL 1.581139 1.581139 \n\" id=\"m42f98cbd29\" style=\"stroke:#000000;stroke-opacity:0.5;stroke-width:1.5;\"/>\n    </defs>\n    <g clip-path=\"url(#p1b24ccc57f)\">\n     <use style=\"fill-opacity:0.5;stroke:#000000;stroke-opacity:0.5;stroke-width:1.5;\" x=\"59.462091\" xlink:href=\"#m42f98cbd29\" y=\"217.081465\"/>\n     <use style=\"fill-opacity:0.5;stroke:#000000;stroke-opacity:0.5;stroke-width:1.5;\" x=\"60.013702\" xlink:href=\"#m42f98cbd29\" y=\"223.897775\"/>\n     <use style=\"fill-opacity:0.5;stroke:#000000;stroke-opacity:0.5;stroke-width:1.5;\" x=\"63.315538\" xlink:href=\"#m42f98cbd29\" y=\"231.815375\"/>\n     <use style=\"fill-opacity:0.5;stroke:#000000;stroke-opacity:0.5;stroke-width:1.5;\" x=\"64.920884\" xlink:href=\"#m42f98cbd29\" y=\"224.77954\"/>\n     <use style=\"fill-opacity:0.5;stroke:#000000;stroke-opacity:0.5;stroke-width:1.5;\" x=\"69.43749\" xlink:href=\"#m42f98cbd29\" y=\"228.567718\"/>\n     <use style=\"fill-opacity:0.5;stroke:#000000;stroke-opacity:0.5;stroke-width:1.5;\" x=\"70.119826\" xlink:href=\"#m42f98cbd29\" y=\"230.283476\"/>\n     <use style=\"fill-opacity:0.5;stroke:#000000;stroke-opacity:0.5;stroke-width:1.5;\" x=\"76.460984\" xlink:href=\"#m42f98cbd29\" y=\"231.198135\"/>\n     <use style=\"fill-opacity:0.5;stroke:#000000;stroke-opacity:0.5;stroke-width:1.5;\" x=\"79.123532\" xlink:href=\"#m42f98cbd29\" y=\"226.335884\"/>\n     <use style=\"fill-opacity:0.5;stroke:#000000;stroke-opacity:0.5;stroke-width:1.5;\" x=\"79.921655\" xlink:href=\"#m42f98cbd29\" y=\"217.764613\"/>\n     <use style=\"fill-opacity:0.5;stroke:#000000;stroke-opacity:0.5;stroke-width:1.5;\" x=\"82.405855\" xlink:href=\"#m42f98cbd29\" y=\"219.595747\"/>\n     <use style=\"fill-opacity:0.5;stroke:#000000;stroke-opacity:0.5;stroke-width:1.5;\" x=\"85.464701\" xlink:href=\"#m42f98cbd29\" y=\"228.324936\"/>\n     <use style=\"fill-opacity:0.5;stroke:#000000;stroke-opacity:0.5;stroke-width:1.5;\" x=\"86.955062\" xlink:href=\"#m42f98cbd29\" y=\"225.854904\"/>\n     <use style=\"fill-opacity:0.5;stroke:#000000;stroke-opacity:0.5;stroke-width:1.5;\" x=\"87.53795\" xlink:href=\"#m42f98cbd29\" y=\"229.264582\"/>\n     <use style=\"fill-opacity:0.5;stroke:#000000;stroke-opacity:0.5;stroke-width:1.5;\" x=\"88.807243\" xlink:href=\"#m42f98cbd29\" y=\"214.241375\"/>\n     <use style=\"fill-opacity:0.5;stroke:#000000;stroke-opacity:0.5;stroke-width:1.5;\" x=\"96.719587\" xlink:href=\"#m42f98cbd29\" y=\"227.339692\"/>\n     <use style=\"fill-opacity:0.5;stroke:#000000;stroke-opacity:0.5;stroke-width:1.5;\" x=\"99.089644\" xlink:href=\"#m42f98cbd29\" y=\"203.710285\"/>\n     <use style=\"fill-opacity:0.5;stroke:#000000;stroke-opacity:0.5;stroke-width:1.5;\" x=\"100.360758\" xlink:href=\"#m42f98cbd29\" y=\"217.620424\"/>\n     <use style=\"fill-opacity:0.5;stroke:#000000;stroke-opacity:0.5;stroke-width:1.5;\" x=\"101.797027\" xlink:href=\"#m42f98cbd29\" y=\"211.447101\"/>\n     <use style=\"fill-opacity:0.5;stroke:#000000;stroke-opacity:0.5;stroke-width:1.5;\" x=\"106.880666\" xlink:href=\"#m42f98cbd29\" y=\"228.566876\"/>\n     <use style=\"fill-opacity:0.5;stroke:#000000;stroke-opacity:0.5;stroke-width:1.5;\" x=\"112.588937\" xlink:href=\"#m42f98cbd29\" y=\"213.756851\"/>\n     <use style=\"fill-opacity:0.5;stroke:#000000;stroke-opacity:0.5;stroke-width:1.5;\" x=\"113.465852\" xlink:href=\"#m42f98cbd29\" y=\"232.198346\"/>\n     <use style=\"fill-opacity:0.5;stroke:#000000;stroke-opacity:0.5;stroke-width:1.5;\" x=\"115.570678\" xlink:href=\"#m42f98cbd29\" y=\"222.225356\"/>\n     <use style=\"fill-opacity:0.5;stroke:#000000;stroke-opacity:0.5;stroke-width:1.5;\" x=\"117.038057\" xlink:href=\"#m42f98cbd29\" y=\"231.868207\"/>\n     <use style=\"fill-opacity:0.5;stroke:#000000;stroke-opacity:0.5;stroke-width:1.5;\" x=\"119.95172\" xlink:href=\"#m42f98cbd29\" y=\"227.181927\"/>\n     <use style=\"fill-opacity:0.5;stroke:#000000;stroke-opacity:0.5;stroke-width:1.5;\" x=\"122.590333\" xlink:href=\"#m42f98cbd29\" y=\"213.903314\"/>\n     <use style=\"fill-opacity:0.5;stroke:#000000;stroke-opacity:0.5;stroke-width:1.5;\" x=\"128.603931\" xlink:href=\"#m42f98cbd29\" y=\"225.6392\"/>\n     <use style=\"fill-opacity:0.5;stroke:#000000;stroke-opacity:0.5;stroke-width:1.5;\" x=\"129.045286\" xlink:href=\"#m42f98cbd29\" y=\"223.315593\"/>\n     <use style=\"fill-opacity:0.5;stroke:#000000;stroke-opacity:0.5;stroke-width:1.5;\" x=\"129.271956\" xlink:href=\"#m42f98cbd29\" y=\"231.471732\"/>\n     <use style=\"fill-opacity:0.5;stroke:#000000;stroke-opacity:0.5;stroke-width:1.5;\" x=\"138.853069\" xlink:href=\"#m42f98cbd29\" y=\"212.590298\"/>\n     <use style=\"fill-opacity:0.5;stroke:#000000;stroke-opacity:0.5;stroke-width:1.5;\" x=\"141.128662\" xlink:href=\"#m42f98cbd29\" y=\"218.865564\"/>\n     <use style=\"fill-opacity:0.5;stroke:#000000;stroke-opacity:0.5;stroke-width:1.5;\" x=\"142.313409\" xlink:href=\"#m42f98cbd29\" y=\"229.892908\"/>\n     <use style=\"fill-opacity:0.5;stroke:#000000;stroke-opacity:0.5;stroke-width:1.5;\" x=\"142.907056\" xlink:href=\"#m42f98cbd29\" y=\"231.333695\"/>\n     <use style=\"fill-opacity:0.5;stroke:#000000;stroke-opacity:0.5;stroke-width:1.5;\" x=\"143.341894\" xlink:href=\"#m42f98cbd29\" y=\"228.196023\"/>\n     <use style=\"fill-opacity:0.5;stroke:#000000;stroke-opacity:0.5;stroke-width:1.5;\" x=\"143.724803\" xlink:href=\"#m42f98cbd29\" y=\"229.535359\"/>\n     <use style=\"fill-opacity:0.5;stroke:#000000;stroke-opacity:0.5;stroke-width:1.5;\" x=\"145.122576\" xlink:href=\"#m42f98cbd29\" y=\"222.078666\"/>\n     <use style=\"fill-opacity:0.5;stroke:#000000;stroke-opacity:0.5;stroke-width:1.5;\" x=\"149.086058\" xlink:href=\"#m42f98cbd29\" y=\"218.549286\"/>\n     <use style=\"fill-opacity:0.5;stroke:#000000;stroke-opacity:0.5;stroke-width:1.5;\" x=\"149.490095\" xlink:href=\"#m42f98cbd29\" y=\"226.371201\"/>\n     <use style=\"fill-opacity:0.5;stroke:#000000;stroke-opacity:0.5;stroke-width:1.5;\" x=\"157.828633\" xlink:href=\"#m42f98cbd29\" y=\"223.124588\"/>\n     <use style=\"fill-opacity:0.5;stroke:#000000;stroke-opacity:0.5;stroke-width:1.5;\" x=\"162.495377\" xlink:href=\"#m42f98cbd29\" y=\"218.289231\"/>\n     <use style=\"fill-opacity:0.5;stroke:#000000;stroke-opacity:0.5;stroke-width:1.5;\" x=\"166.153386\" xlink:href=\"#m42f98cbd29\" y=\"226.240531\"/>\n     <use style=\"fill-opacity:0.5;stroke:#000000;stroke-opacity:0.5;stroke-width:1.5;\" x=\"166.70003\" xlink:href=\"#m42f98cbd29\" y=\"212.200202\"/>\n     <use style=\"fill-opacity:0.5;stroke:#000000;stroke-opacity:0.5;stroke-width:1.5;\" x=\"167.284535\" xlink:href=\"#m42f98cbd29\" y=\"210.49235\"/>\n     <use style=\"fill-opacity:0.5;stroke:#000000;stroke-opacity:0.5;stroke-width:1.5;\" x=\"171.262181\" xlink:href=\"#m42f98cbd29\" y=\"215.906882\"/>\n     <use style=\"fill-opacity:0.5;stroke:#000000;stroke-opacity:0.5;stroke-width:1.5;\" x=\"174.262391\" xlink:href=\"#m42f98cbd29\" y=\"190.138\"/>\n     <use style=\"fill-opacity:0.5;stroke:#000000;stroke-opacity:0.5;stroke-width:1.5;\" x=\"174.350088\" xlink:href=\"#m42f98cbd29\" y=\"206.471379\"/>\n     <use style=\"fill-opacity:0.5;stroke:#000000;stroke-opacity:0.5;stroke-width:1.5;\" x=\"175.205132\" xlink:href=\"#m42f98cbd29\" y=\"217.427029\"/>\n     <use style=\"fill-opacity:0.5;stroke:#000000;stroke-opacity:0.5;stroke-width:1.5;\" x=\"176.839466\" xlink:href=\"#m42f98cbd29\" y=\"219.259107\"/>\n     <use style=\"fill-opacity:0.5;stroke:#000000;stroke-opacity:0.5;stroke-width:1.5;\" x=\"177.389981\" xlink:href=\"#m42f98cbd29\" y=\"217.483809\"/>\n     <use style=\"fill-opacity:0.5;stroke:#000000;stroke-opacity:0.5;stroke-width:1.5;\" x=\"182.962094\" xlink:href=\"#m42f98cbd29\" y=\"216.500423\"/>\n     <use style=\"fill-opacity:0.5;stroke:#000000;stroke-opacity:0.5;stroke-width:1.5;\" x=\"183.872949\" xlink:href=\"#m42f98cbd29\" y=\"197.652685\"/>\n     <use style=\"fill-opacity:0.5;stroke:#000000;stroke-opacity:0.5;stroke-width:1.5;\" x=\"184.268548\" xlink:href=\"#m42f98cbd29\" y=\"217.560139\"/>\n     <use style=\"fill-opacity:0.5;stroke:#000000;stroke-opacity:0.5;stroke-width:1.5;\" x=\"192.22846\" xlink:href=\"#m42f98cbd29\" y=\"201.911372\"/>\n     <use style=\"fill-opacity:0.5;stroke:#000000;stroke-opacity:0.5;stroke-width:1.5;\" x=\"192.29914\" xlink:href=\"#m42f98cbd29\" y=\"206.784383\"/>\n     <use style=\"fill-opacity:0.5;stroke:#000000;stroke-opacity:0.5;stroke-width:1.5;\" x=\"193.634725\" xlink:href=\"#m42f98cbd29\" y=\"187.428305\"/>\n     <use style=\"fill-opacity:0.5;stroke:#000000;stroke-opacity:0.5;stroke-width:1.5;\" x=\"195.30961\" xlink:href=\"#m42f98cbd29\" y=\"212.209025\"/>\n     <use style=\"fill-opacity:0.5;stroke:#000000;stroke-opacity:0.5;stroke-width:1.5;\" x=\"196.587367\" xlink:href=\"#m42f98cbd29\" y=\"198.419414\"/>\n     <use style=\"fill-opacity:0.5;stroke:#000000;stroke-opacity:0.5;stroke-width:1.5;\" x=\"196.843852\" xlink:href=\"#m42f98cbd29\" y=\"195.320266\"/>\n     <use style=\"fill-opacity:0.5;stroke:#000000;stroke-opacity:0.5;stroke-width:1.5;\" x=\"197.919905\" xlink:href=\"#m42f98cbd29\" y=\"188.568315\"/>\n     <use style=\"fill-opacity:0.5;stroke:#000000;stroke-opacity:0.5;stroke-width:1.5;\" x=\"198.009076\" xlink:href=\"#m42f98cbd29\" y=\"186.841307\"/>\n     <use style=\"fill-opacity:0.5;stroke:#000000;stroke-opacity:0.5;stroke-width:1.5;\" x=\"198.424902\" xlink:href=\"#m42f98cbd29\" y=\"193.60302\"/>\n     <use style=\"fill-opacity:0.5;stroke:#000000;stroke-opacity:0.5;stroke-width:1.5;\" x=\"199.497355\" xlink:href=\"#m42f98cbd29\" y=\"178.281811\"/>\n     <use style=\"fill-opacity:0.5;stroke:#000000;stroke-opacity:0.5;stroke-width:1.5;\" x=\"203.613714\" xlink:href=\"#m42f98cbd29\" y=\"177.715743\"/>\n     <use style=\"fill-opacity:0.5;stroke:#000000;stroke-opacity:0.5;stroke-width:1.5;\" x=\"204.749276\" xlink:href=\"#m42f98cbd29\" y=\"151.543252\"/>\n     <use style=\"fill-opacity:0.5;stroke:#000000;stroke-opacity:0.5;stroke-width:1.5;\" x=\"209.186184\" xlink:href=\"#m42f98cbd29\" y=\"186.761362\"/>\n     <use style=\"fill-opacity:0.5;stroke:#000000;stroke-opacity:0.5;stroke-width:1.5;\" x=\"209.582217\" xlink:href=\"#m42f98cbd29\" y=\"162.395506\"/>\n     <use style=\"fill-opacity:0.5;stroke:#000000;stroke-opacity:0.5;stroke-width:1.5;\" x=\"209.715876\" xlink:href=\"#m42f98cbd29\" y=\"180.610271\"/>\n     <use style=\"fill-opacity:0.5;stroke:#000000;stroke-opacity:0.5;stroke-width:1.5;\" x=\"209.741949\" xlink:href=\"#m42f98cbd29\" y=\"177.820522\"/>\n     <use style=\"fill-opacity:0.5;stroke:#000000;stroke-opacity:0.5;stroke-width:1.5;\" x=\"217.415172\" xlink:href=\"#m42f98cbd29\" y=\"134.251739\"/>\n     <use style=\"fill-opacity:0.5;stroke:#000000;stroke-opacity:0.5;stroke-width:1.5;\" x=\"219.709962\" xlink:href=\"#m42f98cbd29\" y=\"133.91757\"/>\n     <use style=\"fill-opacity:0.5;stroke:#000000;stroke-opacity:0.5;stroke-width:1.5;\" x=\"221.04033\" xlink:href=\"#m42f98cbd29\" y=\"172.268213\"/>\n     <use style=\"fill-opacity:0.5;stroke:#000000;stroke-opacity:0.5;stroke-width:1.5;\" x=\"226.491342\" xlink:href=\"#m42f98cbd29\" y=\"148.769675\"/>\n     <use style=\"fill-opacity:0.5;stroke:#000000;stroke-opacity:0.5;stroke-width:1.5;\" x=\"234.850389\" xlink:href=\"#m42f98cbd29\" y=\"141.294918\"/>\n     <use style=\"fill-opacity:0.5;stroke:#000000;stroke-opacity:0.5;stroke-width:1.5;\" x=\"235.196316\" xlink:href=\"#m42f98cbd29\" y=\"164.012422\"/>\n     <use style=\"fill-opacity:0.5;stroke:#000000;stroke-opacity:0.5;stroke-width:1.5;\" x=\"235.201326\" xlink:href=\"#m42f98cbd29\" y=\"140.914718\"/>\n     <use style=\"fill-opacity:0.5;stroke:#000000;stroke-opacity:0.5;stroke-width:1.5;\" x=\"236.234833\" xlink:href=\"#m42f98cbd29\" y=\"135.46646\"/>\n     <use style=\"fill-opacity:0.5;stroke:#000000;stroke-opacity:0.5;stroke-width:1.5;\" x=\"238.496674\" xlink:href=\"#m42f98cbd29\" y=\"136.314516\"/>\n     <use style=\"fill-opacity:0.5;stroke:#000000;stroke-opacity:0.5;stroke-width:1.5;\" x=\"238.752778\" xlink:href=\"#m42f98cbd29\" y=\"160.719533\"/>\n     <use style=\"fill-opacity:0.5;stroke:#000000;stroke-opacity:0.5;stroke-width:1.5;\" x=\"240.252575\" xlink:href=\"#m42f98cbd29\" y=\"125.660206\"/>\n     <use style=\"fill-opacity:0.5;stroke:#000000;stroke-opacity:0.5;stroke-width:1.5;\" x=\"240.257065\" xlink:href=\"#m42f98cbd29\" y=\"135.229053\"/>\n     <use style=\"fill-opacity:0.5;stroke:#000000;stroke-opacity:0.5;stroke-width:1.5;\" x=\"241.296558\" xlink:href=\"#m42f98cbd29\" y=\"138.192975\"/>\n     <use style=\"fill-opacity:0.5;stroke:#000000;stroke-opacity:0.5;stroke-width:1.5;\" x=\"245.082055\" xlink:href=\"#m42f98cbd29\" y=\"144.440619\"/>\n     <use style=\"fill-opacity:0.5;stroke:#000000;stroke-opacity:0.5;stroke-width:1.5;\" x=\"248.501887\" xlink:href=\"#m42f98cbd29\" y=\"127.078867\"/>\n     <use style=\"fill-opacity:0.5;stroke:#000000;stroke-opacity:0.5;stroke-width:1.5;\" x=\"249.481535\" xlink:href=\"#m42f98cbd29\" y=\"124.500532\"/>\n     <use style=\"fill-opacity:0.5;stroke:#000000;stroke-opacity:0.5;stroke-width:1.5;\" x=\"251.162863\" xlink:href=\"#m42f98cbd29\" y=\"139.553496\"/>\n     <use style=\"fill-opacity:0.5;stroke:#000000;stroke-opacity:0.5;stroke-width:1.5;\" x=\"252.554031\" xlink:href=\"#m42f98cbd29\" y=\"132.844321\"/>\n     <use style=\"fill-opacity:0.5;stroke:#000000;stroke-opacity:0.5;stroke-width:1.5;\" x=\"253.238856\" xlink:href=\"#m42f98cbd29\" y=\"124.492436\"/>\n     <use style=\"fill-opacity:0.5;stroke:#000000;stroke-opacity:0.5;stroke-width:1.5;\" x=\"257.361885\" xlink:href=\"#m42f98cbd29\" y=\"154.363356\"/>\n    </g>\n   </g>\n   <g id=\"PolyCollection_1\">\n    <defs>\n     <path d=\"M 52.160938 -103.16765 \nL 52.160938 -101.719816 \nL 53.84335 -101.74095 \nL 55.525762 -101.75845 \nL 57.208174 -101.774066 \nL 58.890586 -101.788016 \nL 60.572998 -101.800032 \nL 62.25541 -101.81013 \nL 63.937822 -101.819061 \nL 65.620234 -101.827459 \nL 67.302646 -101.835004 \nL 68.985058 -101.841663 \nL 70.66747 -101.847279 \nL 72.349882 -101.852154 \nL 74.032294 -101.857318 \nL 75.714706 -101.862104 \nL 77.397118 -101.866485 \nL 79.07953 -101.87032 \nL 80.761943 -101.873756 \nL 82.444355 -101.876785 \nL 84.126767 -101.879792 \nL 85.809179 -101.882677 \nL 87.491591 -101.885559 \nL 89.174003 -101.888166 \nL 90.856415 -101.8905 \nL 92.538827 -101.892558 \nL 94.221239 -101.894318 \nL 95.903651 -101.895695 \nL 97.586063 -101.89683 \nL 99.268475 -101.897723 \nL 100.950887 -101.898375 \nL 102.633299 -101.898788 \nL 104.315711 -101.898959 \nL 105.998123 -101.898891 \nL 107.680535 -101.898585 \nL 109.362948 -101.898042 \nL 111.04536 -101.897412 \nL 112.727772 -101.896643 \nL 114.410184 -101.895567 \nL 116.092596 -101.893791 \nL 117.775008 -101.891323 \nL 119.45742 -101.888175 \nL 121.139832 -101.884359 \nL 122.822244 -101.879891 \nL 124.504656 -101.874789 \nL 126.187068 -101.869068 \nL 127.86948 -101.862749 \nL 129.551892 -101.855852 \nL 131.234304 -101.8484 \nL 132.916716 -101.840412 \nL 134.599128 -101.83191 \nL 136.281541 -101.823255 \nL 137.963953 -101.814252 \nL 139.646365 -101.804619 \nL 141.328777 -101.794387 \nL 143.011189 -101.783583 \nL 144.693601 -101.772242 \nL 146.376013 -101.760417 \nL 148.058425 -101.747955 \nL 149.740837 -101.734924 \nL 151.423249 -101.72135 \nL 153.105661 -101.707291 \nL 154.788073 -101.692661 \nL 156.470485 -101.675944 \nL 158.152897 -101.656932 \nL 159.835309 -101.637091 \nL 161.517721 -101.701834 \nL 163.200133 -102.452454 \nL 164.882546 -103.914929 \nL 166.564958 -105.443977 \nL 168.24737 -106.971292 \nL 169.929782 -108.496988 \nL 171.612194 -110.021082 \nL 173.294606 -111.543555 \nL 174.977018 -113.064692 \nL 176.65943 -114.585654 \nL 178.341842 -116.106574 \nL 180.024254 -117.630634 \nL 181.706666 -119.165754 \nL 183.389078 -120.711653 \nL 185.07149 -122.287584 \nL 186.753902 -123.913557 \nL 188.436314 -125.611968 \nL 190.118726 -127.415455 \nL 191.801139 -129.292731 \nL 193.483551 -131.225195 \nL 195.165963 -133.195142 \nL 196.848375 -135.177368 \nL 198.530787 -137.159452 \nL 200.213199 -139.140469 \nL 201.895611 -141.119044 \nL 203.578023 -143.095276 \nL 205.260435 -145.06939 \nL 206.942847 -147.041633 \nL 208.625259 -149.01238 \nL 210.307671 -150.981666 \nL 211.990083 -152.949643 \nL 213.672495 -154.916404 \nL 215.354907 -156.881844 \nL 217.037319 -158.845677 \nL 218.719731 -160.808407 \nL 220.402144 -162.769749 \nL 222.084556 -164.729882 \nL 223.766968 -166.688877 \nL 225.44938 -168.646809 \nL 227.131792 -170.603221 \nL 228.814204 -172.557544 \nL 230.496616 -174.510942 \nL 232.179028 -176.46319 \nL 233.86144 -178.414645 \nL 235.543852 -180.36456 \nL 237.226264 -182.313457 \nL 238.908676 -184.24718 \nL 240.591088 -186.081445 \nL 242.2735 -187.524697 \nL 243.955912 -188.165767 \nL 245.638324 -187.952575 \nL 247.320736 -187.389927 \nL 249.003149 -186.780905 \nL 250.685561 -186.183256 \nL 252.367973 -185.584227 \nL 254.050385 -184.981549 \nL 255.732797 -184.376016 \nL 257.415209 -183.768731 \nL 259.097621 -183.158968 \nL 260.780033 -182.546595 \nL 262.462445 -181.931466 \nL 264.144857 -181.313957 \nL 265.827269 -180.693871 \nL 267.509681 -180.071201 \nL 269.192093 -179.446364 \nL 270.874505 -178.821301 \nL 272.556917 -178.194824 \nL 274.239329 -177.565651 \nL 275.921742 -176.933398 \nL 277.604154 -176.299056 \nL 279.286566 -175.662673 \nL 280.968978 -175.025417 \nL 282.65139 -174.386588 \nL 284.333802 -173.744573 \nL 286.016214 -173.099433 \nL 287.698626 -172.451827 \nL 289.381038 -171.804512 \nL 291.06345 -171.155096 \nL 292.745862 -170.503624 \nL 294.428274 -169.850546 \nL 296.110686 -169.195188 \nL 297.793098 -168.536228 \nL 299.47551 -167.875226 \nL 301.157922 -167.212109 \nL 302.840334 -166.546071 \nL 304.522747 -165.877759 \nL 306.205159 -165.207511 \nL 307.887571 -164.534706 \nL 309.569983 -163.860036 \nL 311.252395 -163.184111 \nL 312.934807 -162.5066 \nL 314.617219 -161.827734 \nL 316.299631 -161.146396 \nL 317.982043 -160.463413 \nL 319.664455 -159.777237 \nL 321.346867 -159.090672 \nL 323.029279 -158.402236 \nL 324.711691 -157.71189 \nL 326.394103 -157.019224 \nL 328.076515 -156.325171 \nL 329.758927 -155.630833 \nL 331.44134 -154.937018 \nL 333.123752 -154.241054 \nL 334.806164 -153.543379 \nL 336.488576 -152.844164 \nL 338.170988 -152.143264 \nL 339.8534 -151.440804 \nL 341.535812 -150.737504 \nL 343.218224 -150.033002 \nL 344.900636 -149.327601 \nL 346.583048 -148.622266 \nL 348.26546 -147.914697 \nL 349.947872 -147.205912 \nL 351.630284 -146.495971 \nL 353.312696 -145.784556 \nL 354.995108 -145.0716 \nL 356.67752 -144.357717 \nL 358.359932 -143.641282 \nL 360.042345 -142.923853 \nL 361.724757 -142.205174 \nL 363.407169 -141.485508 \nL 365.089581 -140.765775 \nL 366.771993 -140.045154 \nL 368.454405 -139.324017 \nL 370.136817 -138.602305 \nL 371.819229 -137.880173 \nL 373.501641 -137.156561 \nL 375.184053 -136.431954 \nL 376.866465 -135.705867 \nL 378.548877 -134.977705 \nL 380.231289 -134.251406 \nL 381.913701 -133.525408 \nL 383.596113 -132.797907 \nL 385.278525 -132.069292 \nL 386.960938 -131.33915 \nL 386.960938 -166.426878 \nL 386.960938 -166.426878 \nL 385.278525 -166.751068 \nL 383.596113 -167.075773 \nL 381.913701 -167.402361 \nL 380.231289 -167.732215 \nL 378.548877 -168.064302 \nL 376.866465 -168.398676 \nL 375.184053 -168.734199 \nL 373.501641 -169.07045 \nL 371.819229 -169.407878 \nL 370.136817 -169.745285 \nL 368.454405 -170.084232 \nL 366.771993 -170.424204 \nL 365.089581 -170.765154 \nL 363.407169 -171.106804 \nL 361.724757 -171.449664 \nL 360.042345 -171.79405 \nL 358.359932 -172.140135 \nL 356.67752 -172.487522 \nL 354.995108 -172.83666 \nL 353.312696 -173.187854 \nL 351.630284 -173.539398 \nL 349.947872 -173.891001 \nL 348.26546 -174.244356 \nL 346.583048 -174.599258 \nL 344.900636 -174.953908 \nL 343.218224 -175.305306 \nL 341.535812 -175.656123 \nL 339.8534 -176.007945 \nL 338.170988 -176.361452 \nL 336.488576 -176.715514 \nL 334.806164 -177.069886 \nL 333.123752 -177.425336 \nL 331.44134 -177.781599 \nL 329.758927 -178.139864 \nL 328.076515 -178.499828 \nL 326.394103 -178.862706 \nL 324.711691 -179.227197 \nL 323.029279 -179.592514 \nL 321.346867 -179.960125 \nL 319.664455 -180.329222 \nL 317.982043 -180.699172 \nL 316.299631 -181.070754 \nL 314.617219 -181.44266 \nL 312.934807 -181.816073 \nL 311.252395 -182.191158 \nL 309.569983 -182.568081 \nL 307.887571 -182.946642 \nL 306.205159 -183.327213 \nL 304.522747 -183.708081 \nL 302.840334 -184.089695 \nL 301.157922 -184.473941 \nL 299.47551 -184.860155 \nL 297.793098 -185.24789 \nL 296.110686 -185.637482 \nL 294.428274 -186.028732 \nL 292.745862 -186.421642 \nL 291.06345 -186.814465 \nL 289.381038 -187.209225 \nL 287.698626 -187.605452 \nL 286.016214 -188.00349 \nL 284.333802 -188.402209 \nL 282.65139 -188.799295 \nL 280.968978 -189.201457 \nL 279.286566 -189.605351 \nL 277.604154 -190.011016 \nL 275.921742 -190.418736 \nL 274.239329 -190.828809 \nL 272.556917 -191.240891 \nL 270.874505 -191.655035 \nL 269.192093 -192.071294 \nL 267.509681 -192.490699 \nL 265.827269 -192.912919 \nL 264.144857 -193.338239 \nL 262.462445 -193.767418 \nL 260.780033 -194.198607 \nL 259.097621 -194.632326 \nL 257.415209 -195.069463 \nL 255.732797 -195.510003 \nL 254.050385 -195.953868 \nL 252.367973 -196.40113 \nL 250.685561 -196.851207 \nL 249.003149 -197.297325 \nL 247.320736 -197.594312 \nL 245.638324 -197.461353 \nL 243.955912 -196.684562 \nL 242.2735 -195.308813 \nL 240.591088 -193.517798 \nL 238.908676 -191.485224 \nL 237.226264 -189.406077 \nL 235.543852 -187.316779 \nL 233.86144 -185.228737 \nL 232.179028 -183.141772 \nL 230.496616 -181.055864 \nL 228.814204 -178.970789 \nL 227.131792 -176.887287 \nL 225.44938 -174.804565 \nL 223.766968 -172.722676 \nL 222.084556 -170.641877 \nL 220.402144 -168.562254 \nL 218.719731 -166.483854 \nL 217.037319 -164.406657 \nL 215.354907 -162.331145 \nL 213.672495 -160.257121 \nL 211.990083 -158.184153 \nL 210.307671 -156.112521 \nL 208.625259 -154.042263 \nL 206.942847 -151.973413 \nL 205.260435 -149.906103 \nL 203.578023 -147.839692 \nL 201.895611 -145.773281 \nL 200.213199 -143.706602 \nL 198.530787 -141.639887 \nL 196.848375 -139.574159 \nL 195.165963 -137.509334 \nL 193.483551 -135.447847 \nL 191.801139 -133.39385 \nL 190.118726 -131.361151 \nL 188.436314 -129.369164 \nL 186.753902 -127.442539 \nL 185.07149 -125.619724 \nL 183.389078 -123.887353 \nL 181.706666 -122.219958 \nL 180.024254 -120.596314 \nL 178.341842 -119.00279 \nL 176.65943 -117.417584 \nL 174.977018 -115.834753 \nL 173.294606 -114.253576 \nL 171.612194 -112.673735 \nL 169.929782 -111.095272 \nL 168.24737 -109.51832 \nL 166.564958 -107.943005 \nL 164.882546 -106.369408 \nL 163.200133 -104.785312 \nL 161.517721 -103.537949 \nL 159.835309 -103.318429 \nL 158.152897 -103.297078 \nL 156.470485 -103.278391 \nL 154.788073 -103.262002 \nL 153.105661 -103.244564 \nL 151.423249 -103.227729 \nL 149.740837 -103.211794 \nL 148.058425 -103.196397 \nL 146.376013 -103.181575 \nL 144.693601 -103.167219 \nL 143.011189 -103.15341 \nL 141.328777 -103.140141 \nL 139.646365 -103.127441 \nL 137.963953 -103.115341 \nL 136.281541 -103.103871 \nL 134.599128 -103.093581 \nL 132.916716 -103.084027 \nL 131.234304 -103.074987 \nL 129.551892 -103.066482 \nL 127.86948 -103.058535 \nL 126.187068 -103.051165 \nL 124.504656 -103.044393 \nL 122.822244 -103.038239 \nL 121.139832 -103.03272 \nL 119.45742 -103.027855 \nL 117.775008 -103.023655 \nL 116.092596 -103.020135 \nL 114.410184 -103.017307 \nL 112.727772 -103.013857 \nL 111.04536 -103.010708 \nL 109.362948 -103.007996 \nL 107.680535 -103.005661 \nL 105.998123 -103.003564 \nL 104.315711 -103.001705 \nL 102.633299 -103.000084 \nL 100.950887 -102.998703 \nL 99.268475 -102.997563 \nL 97.586063 -102.996665 \nL 95.903651 -102.996008 \nL 94.221239 -102.995591 \nL 92.538827 -102.995199 \nL 90.856415 -102.995048 \nL 89.174003 -102.995174 \nL 87.491591 -102.995576 \nL 85.809179 -102.996247 \nL 84.126767 -102.997457 \nL 82.444355 -102.999114 \nL 80.761943 -103.001698 \nL 79.07953 -103.004688 \nL 77.397118 -103.008076 \nL 75.714706 -103.011847 \nL 74.032294 -103.016006 \nL 72.349882 -103.020546 \nL 70.66747 -103.025898 \nL 68.985058 -103.032205 \nL 67.302646 -103.039384 \nL 65.620234 -103.047451 \nL 63.937822 -103.056371 \nL 62.25541 -103.066828 \nL 60.572998 -103.07982 \nL 58.890586 -103.094462 \nL 57.208174 -103.110451 \nL 55.525762 -103.128108 \nL 53.84335 -103.147261 \nL 52.160938 -103.16765 \nz\n\" id=\"mfcb232fdde\" style=\"stroke:#ff7f0e;stroke-opacity:0.4;\"/>\n    </defs>\n    <g clip-path=\"url(#p1b24ccc57f)\">\n     <use style=\"fill:#ff7f0e;fill-opacity:0.4;stroke:#ff7f0e;stroke-opacity:0.4;\" x=\"0\" xlink:href=\"#mfcb232fdde\" y=\"325.755469\"/>\n    </g>\n   </g>\n   <g id=\"matplotlib.axis_1\">\n    <g id=\"xtick_1\">\n     <g id=\"line2d_1\">\n      <defs>\n       <path d=\"M 0 0 \nL 0 3.5 \n\" id=\"m7b90f43182\" style=\"stroke:#000000;stroke-width:0.8;\"/>\n      </defs>\n      <g>\n       <use style=\"stroke:#000000;stroke-width:0.8;\" x=\"95.830503\" xlink:href=\"#m7b90f43182\" y=\"288.199219\"/>\n      </g>\n     </g>\n     <g id=\"text_1\">\n      <!-- 0.2 -->\n      <g transform=\"translate(87.87894 302.797656)scale(0.1 -0.1)\">\n       <defs>\n        <path d=\"M 31.78125 66.40625 \nQ 24.171875 66.40625 20.328125 58.90625 \nQ 16.5 51.421875 16.5 36.375 \nQ 16.5 21.390625 20.328125 13.890625 \nQ 24.171875 6.390625 31.78125 6.390625 \nQ 39.453125 6.390625 43.28125 13.890625 \nQ 47.125 21.390625 47.125 36.375 \nQ 47.125 51.421875 43.28125 58.90625 \nQ 39.453125 66.40625 31.78125 66.40625 \nz\nM 31.78125 74.21875 \nQ 44.046875 74.21875 50.515625 64.515625 \nQ 56.984375 54.828125 56.984375 36.375 \nQ 56.984375 17.96875 50.515625 8.265625 \nQ 44.046875 -1.421875 31.78125 -1.421875 \nQ 19.53125 -1.421875 13.0625 8.265625 \nQ 6.59375 17.96875 6.59375 36.375 \nQ 6.59375 54.828125 13.0625 64.515625 \nQ 19.53125 74.21875 31.78125 74.21875 \nz\n\" id=\"DejaVuSans-48\"/>\n        <path d=\"M 10.6875 12.40625 \nL 21 12.40625 \nL 21 0 \nL 10.6875 0 \nz\n\" id=\"DejaVuSans-46\"/>\n        <path d=\"M 19.1875 8.296875 \nL 53.609375 8.296875 \nL 53.609375 0 \nL 7.328125 0 \nL 7.328125 8.296875 \nQ 12.9375 14.109375 22.625 23.890625 \nQ 32.328125 33.6875 34.8125 36.53125 \nQ 39.546875 41.84375 41.421875 45.53125 \nQ 43.3125 49.21875 43.3125 52.78125 \nQ 43.3125 58.59375 39.234375 62.25 \nQ 35.15625 65.921875 28.609375 65.921875 \nQ 23.96875 65.921875 18.8125 64.3125 \nQ 13.671875 62.703125 7.8125 59.421875 \nL 7.8125 69.390625 \nQ 13.765625 71.78125 18.9375 73 \nQ 24.125 74.21875 28.421875 74.21875 \nQ 39.75 74.21875 46.484375 68.546875 \nQ 53.21875 62.890625 53.21875 53.421875 \nQ 53.21875 48.921875 51.53125 44.890625 \nQ 49.859375 40.875 45.40625 35.40625 \nQ 44.1875 33.984375 37.640625 27.21875 \nQ 31.109375 20.453125 19.1875 8.296875 \nz\n\" id=\"DejaVuSans-50\"/>\n       </defs>\n       <use xlink:href=\"#DejaVuSans-48\"/>\n       <use x=\"63.623047\" xlink:href=\"#DejaVuSans-46\"/>\n       <use x=\"95.410156\" xlink:href=\"#DejaVuSans-50\"/>\n      </g>\n     </g>\n    </g>\n    <g id=\"xtick_2\">\n     <g id=\"line2d_2\">\n      <g>\n       <use style=\"stroke:#000000;stroke-width:0.8;\" x=\"168.613111\" xlink:href=\"#m7b90f43182\" y=\"288.199219\"/>\n      </g>\n     </g>\n     <g id=\"text_2\">\n      <!-- 0.4 -->\n      <g transform=\"translate(160.661549 302.797656)scale(0.1 -0.1)\">\n       <defs>\n        <path d=\"M 37.796875 64.3125 \nL 12.890625 25.390625 \nL 37.796875 25.390625 \nz\nM 35.203125 72.90625 \nL 47.609375 72.90625 \nL 47.609375 25.390625 \nL 58.015625 25.390625 \nL 58.015625 17.1875 \nL 47.609375 17.1875 \nL 47.609375 0 \nL 37.796875 0 \nL 37.796875 17.1875 \nL 4.890625 17.1875 \nL 4.890625 26.703125 \nz\n\" id=\"DejaVuSans-52\"/>\n       </defs>\n       <use xlink:href=\"#DejaVuSans-48\"/>\n       <use x=\"63.623047\" xlink:href=\"#DejaVuSans-46\"/>\n       <use x=\"95.410156\" xlink:href=\"#DejaVuSans-52\"/>\n      </g>\n     </g>\n    </g>\n    <g id=\"xtick_3\">\n     <g id=\"line2d_3\">\n      <g>\n       <use style=\"stroke:#000000;stroke-width:0.8;\" x=\"241.39572\" xlink:href=\"#m7b90f43182\" y=\"288.199219\"/>\n      </g>\n     </g>\n     <g id=\"text_3\">\n      <!-- 0.6 -->\n      <g transform=\"translate(233.444158 302.797656)scale(0.1 -0.1)\">\n       <defs>\n        <path d=\"M 33.015625 40.375 \nQ 26.375 40.375 22.484375 35.828125 \nQ 18.609375 31.296875 18.609375 23.390625 \nQ 18.609375 15.53125 22.484375 10.953125 \nQ 26.375 6.390625 33.015625 6.390625 \nQ 39.65625 6.390625 43.53125 10.953125 \nQ 47.40625 15.53125 47.40625 23.390625 \nQ 47.40625 31.296875 43.53125 35.828125 \nQ 39.65625 40.375 33.015625 40.375 \nz\nM 52.59375 71.296875 \nL 52.59375 62.3125 \nQ 48.875 64.0625 45.09375 64.984375 \nQ 41.3125 65.921875 37.59375 65.921875 \nQ 27.828125 65.921875 22.671875 59.328125 \nQ 17.53125 52.734375 16.796875 39.40625 \nQ 19.671875 43.65625 24.015625 45.921875 \nQ 28.375 48.1875 33.59375 48.1875 \nQ 44.578125 48.1875 50.953125 41.515625 \nQ 57.328125 34.859375 57.328125 23.390625 \nQ 57.328125 12.15625 50.6875 5.359375 \nQ 44.046875 -1.421875 33.015625 -1.421875 \nQ 20.359375 -1.421875 13.671875 8.265625 \nQ 6.984375 17.96875 6.984375 36.375 \nQ 6.984375 53.65625 15.1875 63.9375 \nQ 23.390625 74.21875 37.203125 74.21875 \nQ 40.921875 74.21875 44.703125 73.484375 \nQ 48.484375 72.75 52.59375 71.296875 \nz\n\" id=\"DejaVuSans-54\"/>\n       </defs>\n       <use xlink:href=\"#DejaVuSans-48\"/>\n       <use x=\"63.623047\" xlink:href=\"#DejaVuSans-46\"/>\n       <use x=\"95.410156\" xlink:href=\"#DejaVuSans-54\"/>\n      </g>\n     </g>\n    </g>\n    <g id=\"xtick_4\">\n     <g id=\"line2d_4\">\n      <g>\n       <use style=\"stroke:#000000;stroke-width:0.8;\" x=\"314.178329\" xlink:href=\"#m7b90f43182\" y=\"288.199219\"/>\n      </g>\n     </g>\n     <g id=\"text_4\">\n      <!-- 0.8 -->\n      <g transform=\"translate(306.226766 302.797656)scale(0.1 -0.1)\">\n       <defs>\n        <path d=\"M 31.78125 34.625 \nQ 24.75 34.625 20.71875 30.859375 \nQ 16.703125 27.09375 16.703125 20.515625 \nQ 16.703125 13.921875 20.71875 10.15625 \nQ 24.75 6.390625 31.78125 6.390625 \nQ 38.8125 6.390625 42.859375 10.171875 \nQ 46.921875 13.96875 46.921875 20.515625 \nQ 46.921875 27.09375 42.890625 30.859375 \nQ 38.875 34.625 31.78125 34.625 \nz\nM 21.921875 38.8125 \nQ 15.578125 40.375 12.03125 44.71875 \nQ 8.5 49.078125 8.5 55.328125 \nQ 8.5 64.0625 14.71875 69.140625 \nQ 20.953125 74.21875 31.78125 74.21875 \nQ 42.671875 74.21875 48.875 69.140625 \nQ 55.078125 64.0625 55.078125 55.328125 \nQ 55.078125 49.078125 51.53125 44.71875 \nQ 48 40.375 41.703125 38.8125 \nQ 48.828125 37.15625 52.796875 32.3125 \nQ 56.78125 27.484375 56.78125 20.515625 \nQ 56.78125 9.90625 50.3125 4.234375 \nQ 43.84375 -1.421875 31.78125 -1.421875 \nQ 19.734375 -1.421875 13.25 4.234375 \nQ 6.78125 9.90625 6.78125 20.515625 \nQ 6.78125 27.484375 10.78125 32.3125 \nQ 14.796875 37.15625 21.921875 38.8125 \nz\nM 18.3125 54.390625 \nQ 18.3125 48.734375 21.84375 45.5625 \nQ 25.390625 42.390625 31.78125 42.390625 \nQ 38.140625 42.390625 41.71875 45.5625 \nQ 45.3125 48.734375 45.3125 54.390625 \nQ 45.3125 60.0625 41.71875 63.234375 \nQ 38.140625 66.40625 31.78125 66.40625 \nQ 25.390625 66.40625 21.84375 63.234375 \nQ 18.3125 60.0625 18.3125 54.390625 \nz\n\" id=\"DejaVuSans-56\"/>\n       </defs>\n       <use xlink:href=\"#DejaVuSans-48\"/>\n       <use x=\"63.623047\" xlink:href=\"#DejaVuSans-46\"/>\n       <use x=\"95.410156\" xlink:href=\"#DejaVuSans-56\"/>\n      </g>\n     </g>\n    </g>\n    <g id=\"xtick_5\">\n     <g id=\"line2d_5\">\n      <g>\n       <use style=\"stroke:#000000;stroke-width:0.8;\" x=\"386.960938\" xlink:href=\"#m7b90f43182\" y=\"288.199219\"/>\n      </g>\n     </g>\n     <g id=\"text_5\">\n      <!-- 1.0 -->\n      <g transform=\"translate(379.009375 302.797656)scale(0.1 -0.1)\">\n       <defs>\n        <path d=\"M 12.40625 8.296875 \nL 28.515625 8.296875 \nL 28.515625 63.921875 \nL 10.984375 60.40625 \nL 10.984375 69.390625 \nL 28.421875 72.90625 \nL 38.28125 72.90625 \nL 38.28125 8.296875 \nL 54.390625 8.296875 \nL 54.390625 0 \nL 12.40625 0 \nz\n\" id=\"DejaVuSans-49\"/>\n       </defs>\n       <use xlink:href=\"#DejaVuSans-49\"/>\n       <use x=\"63.623047\" xlink:href=\"#DejaVuSans-46\"/>\n       <use x=\"95.410156\" xlink:href=\"#DejaVuSans-48\"/>\n      </g>\n     </g>\n    </g>\n    <g id=\"text_6\">\n     <!-- $x$ -->\n     <g transform=\"translate(216.560938 316.475781)scale(0.1 -0.1)\">\n      <defs>\n       <path d=\"M 60.015625 54.6875 \nL 34.90625 27.875 \nL 50.296875 0 \nL 39.984375 0 \nL 28.421875 21.6875 \nL 8.296875 0 \nL -2.59375 0 \nL 24.3125 28.8125 \nL 10.015625 54.6875 \nL 20.3125 54.6875 \nL 30.8125 34.90625 \nL 49.125 54.6875 \nz\n\" id=\"DejaVuSans-Oblique-120\"/>\n      </defs>\n      <use transform=\"translate(0 0.3125)\" xlink:href=\"#DejaVuSans-Oblique-120\"/>\n     </g>\n    </g>\n   </g>\n   <g id=\"matplotlib.axis_2\">\n    <g id=\"ytick_1\">\n     <g id=\"line2d_6\">\n      <path clip-path=\"url(#p1b24ccc57f)\" d=\"M 52.160938 288.199219 \nL 386.960938 288.199219 \n\" style=\"fill:none;stroke:#b0b0b0;stroke-linecap:square;stroke-opacity:0.2;stroke-width:0.8;\"/>\n     </g>\n     <g id=\"line2d_7\">\n      <defs>\n       <path d=\"M 0 0 \nL -3.5 0 \n\" id=\"me646025e7b\" style=\"stroke:#000000;stroke-width:0.8;\"/>\n      </defs>\n      <g>\n       <use style=\"stroke:#000000;stroke-width:0.8;\" x=\"52.160938\" xlink:href=\"#me646025e7b\" y=\"288.199219\"/>\n      </g>\n     </g>\n     <g id=\"text_7\">\n      <!-- −0.5 -->\n      <g transform=\"translate(20.878125 291.998438)scale(0.1 -0.1)\">\n       <defs>\n        <path d=\"M 10.59375 35.5 \nL 73.1875 35.5 \nL 73.1875 27.203125 \nL 10.59375 27.203125 \nz\n\" id=\"DejaVuSans-8722\"/>\n        <path d=\"M 10.796875 72.90625 \nL 49.515625 72.90625 \nL 49.515625 64.59375 \nL 19.828125 64.59375 \nL 19.828125 46.734375 \nQ 21.96875 47.46875 24.109375 47.828125 \nQ 26.265625 48.1875 28.421875 48.1875 \nQ 40.625 48.1875 47.75 41.5 \nQ 54.890625 34.8125 54.890625 23.390625 \nQ 54.890625 11.625 47.5625 5.09375 \nQ 40.234375 -1.421875 26.90625 -1.421875 \nQ 22.3125 -1.421875 17.546875 -0.640625 \nQ 12.796875 0.140625 7.71875 1.703125 \nL 7.71875 11.625 \nQ 12.109375 9.234375 16.796875 8.0625 \nQ 21.484375 6.890625 26.703125 6.890625 \nQ 35.15625 6.890625 40.078125 11.328125 \nQ 45.015625 15.765625 45.015625 23.390625 \nQ 45.015625 31 40.078125 35.4375 \nQ 35.15625 39.890625 26.703125 39.890625 \nQ 22.75 39.890625 18.8125 39.015625 \nQ 14.890625 38.140625 10.796875 36.28125 \nz\n\" id=\"DejaVuSans-53\"/>\n       </defs>\n       <use xlink:href=\"#DejaVuSans-8722\"/>\n       <use x=\"83.789062\" xlink:href=\"#DejaVuSans-48\"/>\n       <use x=\"147.412109\" xlink:href=\"#DejaVuSans-46\"/>\n       <use x=\"179.199219\" xlink:href=\"#DejaVuSans-53\"/>\n      </g>\n     </g>\n    </g>\n    <g id=\"ytick_2\">\n     <g id=\"line2d_8\">\n      <path clip-path=\"url(#p1b24ccc57f)\" d=\"M 52.160938 232.759219 \nL 386.960938 232.759219 \n\" style=\"fill:none;stroke:#b0b0b0;stroke-linecap:square;stroke-opacity:0.2;stroke-width:0.8;\"/>\n     </g>\n     <g id=\"line2d_9\">\n      <g>\n       <use style=\"stroke:#000000;stroke-width:0.8;\" x=\"52.160938\" xlink:href=\"#me646025e7b\" y=\"232.759219\"/>\n      </g>\n     </g>\n     <g id=\"text_8\">\n      <!-- 0.0 -->\n      <g transform=\"translate(29.257812 236.558438)scale(0.1 -0.1)\">\n       <use xlink:href=\"#DejaVuSans-48\"/>\n       <use x=\"63.623047\" xlink:href=\"#DejaVuSans-46\"/>\n       <use x=\"95.410156\" xlink:href=\"#DejaVuSans-48\"/>\n      </g>\n     </g>\n    </g>\n    <g id=\"ytick_3\">\n     <g id=\"line2d_10\">\n      <path clip-path=\"url(#p1b24ccc57f)\" d=\"M 52.160938 177.319219 \nL 386.960938 177.319219 \n\" style=\"fill:none;stroke:#b0b0b0;stroke-linecap:square;stroke-opacity:0.2;stroke-width:0.8;\"/>\n     </g>\n     <g id=\"line2d_11\">\n      <g>\n       <use style=\"stroke:#000000;stroke-width:0.8;\" x=\"52.160938\" xlink:href=\"#me646025e7b\" y=\"177.319219\"/>\n      </g>\n     </g>\n     <g id=\"text_9\">\n      <!-- 0.5 -->\n      <g transform=\"translate(29.257812 181.118437)scale(0.1 -0.1)\">\n       <use xlink:href=\"#DejaVuSans-48\"/>\n       <use x=\"63.623047\" xlink:href=\"#DejaVuSans-46\"/>\n       <use x=\"95.410156\" xlink:href=\"#DejaVuSans-53\"/>\n      </g>\n     </g>\n    </g>\n    <g id=\"ytick_4\">\n     <g id=\"line2d_12\">\n      <path clip-path=\"url(#p1b24ccc57f)\" d=\"M 52.160938 121.879219 \nL 386.960938 121.879219 \n\" style=\"fill:none;stroke:#b0b0b0;stroke-linecap:square;stroke-opacity:0.2;stroke-width:0.8;\"/>\n     </g>\n     <g id=\"line2d_13\">\n      <g>\n       <use style=\"stroke:#000000;stroke-width:0.8;\" x=\"52.160938\" xlink:href=\"#me646025e7b\" y=\"121.879219\"/>\n      </g>\n     </g>\n     <g id=\"text_10\">\n      <!-- 1.0 -->\n      <g transform=\"translate(29.257812 125.678438)scale(0.1 -0.1)\">\n       <use xlink:href=\"#DejaVuSans-49\"/>\n       <use x=\"63.623047\" xlink:href=\"#DejaVuSans-46\"/>\n       <use x=\"95.410156\" xlink:href=\"#DejaVuSans-48\"/>\n      </g>\n     </g>\n    </g>\n    <g id=\"ytick_5\">\n     <g id=\"line2d_14\">\n      <path clip-path=\"url(#p1b24ccc57f)\" d=\"M 52.160938 66.439219 \nL 386.960938 66.439219 \n\" style=\"fill:none;stroke:#b0b0b0;stroke-linecap:square;stroke-opacity:0.2;stroke-width:0.8;\"/>\n     </g>\n     <g id=\"line2d_15\">\n      <g>\n       <use style=\"stroke:#000000;stroke-width:0.8;\" x=\"52.160938\" xlink:href=\"#me646025e7b\" y=\"66.439219\"/>\n      </g>\n     </g>\n     <g id=\"text_11\">\n      <!-- 1.5 -->\n      <g transform=\"translate(29.257812 70.238437)scale(0.1 -0.1)\">\n       <use xlink:href=\"#DejaVuSans-49\"/>\n       <use x=\"63.623047\" xlink:href=\"#DejaVuSans-46\"/>\n       <use x=\"95.410156\" xlink:href=\"#DejaVuSans-53\"/>\n      </g>\n     </g>\n    </g>\n    <g id=\"ytick_6\">\n     <g id=\"line2d_16\">\n      <path clip-path=\"url(#p1b24ccc57f)\" d=\"M 52.160938 10.999219 \nL 386.960938 10.999219 \n\" style=\"fill:none;stroke:#b0b0b0;stroke-linecap:square;stroke-opacity:0.2;stroke-width:0.8;\"/>\n     </g>\n     <g id=\"line2d_17\">\n      <g>\n       <use style=\"stroke:#000000;stroke-width:0.8;\" x=\"52.160938\" xlink:href=\"#me646025e7b\" y=\"10.999219\"/>\n      </g>\n     </g>\n     <g id=\"text_12\">\n      <!-- 2.0 -->\n      <g transform=\"translate(29.257812 14.798437)scale(0.1 -0.1)\">\n       <use xlink:href=\"#DejaVuSans-50\"/>\n       <use x=\"63.623047\" xlink:href=\"#DejaVuSans-46\"/>\n       <use x=\"95.410156\" xlink:href=\"#DejaVuSans-48\"/>\n      </g>\n     </g>\n    </g>\n    <g id=\"text_13\">\n     <!-- $y$ -->\n     <g transform=\"translate(14.778125 152.599219)rotate(-90)scale(0.1 -0.1)\">\n      <defs>\n       <path d=\"M 24.8125 -5.078125 \nQ 18.5625 -15.578125 14.625 -18.1875 \nQ 10.6875 -20.796875 4.59375 -20.796875 \nL -2.484375 -20.796875 \nL -0.984375 -13.28125 \nL 4.203125 -13.28125 \nQ 7.953125 -13.28125 10.59375 -11.234375 \nQ 13.234375 -9.1875 16.5 -3.21875 \nL 19.28125 2 \nL 7.171875 54.6875 \nL 16.703125 54.6875 \nL 25.78125 12.796875 \nL 50.875 54.6875 \nL 60.296875 54.6875 \nz\n\" id=\"DejaVuSans-Oblique-121\"/>\n      </defs>\n      <use transform=\"translate(0 0.3125)\" xlink:href=\"#DejaVuSans-Oblique-121\"/>\n     </g>\n    </g>\n   </g>\n   <g id=\"line2d_18\">\n    <path clip-path=\"url(#p1b24ccc57f)\" d=\"M 52.160938 223.311736 \nL 159.835309 223.277709 \nL 161.517721 223.135577 \nL 163.200133 222.136585 \nL 173.294606 212.856903 \nL 183.389078 203.455966 \nL 186.753902 200.077421 \nL 190.118726 196.367165 \nL 196.848375 188.379705 \nL 238.908676 137.889266 \nL 240.591088 135.955847 \nL 242.2735 134.338713 \nL 243.955912 133.330305 \nL 245.638324 133.048505 \nL 247.320736 133.263349 \nL 250.685561 134.238237 \nL 373.501641 172.641963 \nL 386.960938 176.872453 \nL 386.960938 176.872453 \n\" style=\"fill:none;stroke:#000000;stroke-linecap:square;\"/>\n   </g>\n   <g id=\"line2d_19\">\n    <path clip-path=\"url(#p1b24ccc57f)\" d=\"M 52.160937 186.610505 \nL 55.525761 183.867055 \nL 60.572996 180.099603 \nL 65.620232 176.680905 \nL 70.667467 173.551832 \nL 75.714703 170.667112 \nL 80.761944 167.991328 \nL 87.491592 164.700646 \nL 94.221239 161.679147 \nL 100.950887 158.886094 \nL 109.362946 155.667714 \nL 117.775005 152.707275 \nL 126.187065 149.966479 \nL 136.281536 146.925146 \nL 146.376007 144.115154 \nL 158.15289 141.085962 \nL 169.929784 138.286333 \nL 183.389079 135.326661 \nL 196.848374 132.586532 \nL 211.990081 129.728763 \nL 228.8142 126.79287 \nL 247.32073 123.811851 \nL 265.827261 121.053416 \nL 286.016225 118.261895 \nL 307.887579 115.458201 \nL 331.441346 112.659253 \nL 356.677524 109.878386 \nL 385.278526 106.960635 \nL 386.960938 106.795979 \nL 386.960938 106.795979 \n\" style=\"fill:none;stroke:#0000ff;stroke-dasharray:5.55,2.4;stroke-dashoffset:0;stroke-opacity:0.5;stroke-width:1.5;\"/>\n   </g>\n   <g id=\"line2d_20\">\n    <path clip-path=\"url(#p1b24ccc57f)\" d=\"M 52.160938 232.759219 \nL 386.960938 232.759219 \n\" style=\"fill:none;stroke:#d62728;stroke-dasharray:5.55,2.4;stroke-dashoffset:0;stroke-opacity:0.5;stroke-width:1.5;\"/>\n   </g>\n   <g id=\"line2d_21\">\n    <path clip-path=\"url(#p1b24ccc57f)\" d=\"M 52.160937 232.063586 \nL 74.032291 231.340865 \nL 92.538827 230.514634 \nL 107.680534 229.611806 \nL 119.457417 228.697099 \nL 129.551888 227.696925 \nL 137.963948 226.647527 \nL 144.693595 225.613181 \nL 151.423243 224.34333 \nL 156.470478 223.185862 \nL 161.517725 221.796346 \nL 166.56496 220.102649 \nL 169.929784 218.755756 \nL 173.294608 217.188837 \nL 176.659432 215.350452 \nL 180.024255 213.175321 \nL 183.389079 210.581674 \nL 186.753903 207.470301 \nL 188.436315 205.685551 \nL 190.118727 203.728883 \nL 191.801139 201.586858 \nL 193.48355 199.248396 \nL 195.165962 196.706599 \nL 198.530786 191.019771 \nL 201.89561 184.640734 \nL 210.307669 167.904447 \nL 213.672493 161.95486 \nL 217.037317 156.791258 \nL 218.719729 154.513558 \nL 220.40214 152.429256 \nL 223.766964 148.791147 \nL 227.131788 145.765577 \nL 230.496612 143.241588 \nL 233.861435 141.122543 \nL 237.226259 139.329313 \nL 240.591083 137.798889 \nL 243.955907 136.481696 \nL 249.003142 134.822919 \nL 254.050378 133.459834 \nL 259.097613 132.322729 \nL 265.827261 131.073397 \nL 272.556908 130.054295 \nL 280.96899 129.018961 \nL 291.063461 128.030822 \nL 302.840344 127.125922 \nL 316.299639 126.319312 \nL 333.123758 125.543935 \nL 353.3127 124.841706 \nL 378.548878 124.19075 \nL 386.960938 124.013464 \nL 386.960938 124.013464 \n\" style=\"fill:none;stroke:#1f77b4;stroke-linecap:square;stroke-width:1.5;\"/>\n   </g>\n   <g id=\"patch_3\">\n    <path d=\"M 52.160938 288.199219 \nL 52.160938 10.999219 \n\" style=\"fill:none;stroke:#000000;stroke-linecap:square;stroke-linejoin:miter;stroke-width:0.8;\"/>\n   </g>\n   <g id=\"patch_4\">\n    <path d=\"M 386.960938 288.199219 \nL 386.960938 10.999219 \n\" style=\"fill:none;stroke:#000000;stroke-linecap:square;stroke-linejoin:miter;stroke-width:0.8;\"/>\n   </g>\n   <g id=\"patch_5\">\n    <path d=\"M 52.160938 288.199219 \nL 386.960938 288.199219 \n\" style=\"fill:none;stroke:#000000;stroke-linecap:square;stroke-linejoin:miter;stroke-width:0.8;\"/>\n   </g>\n   <g id=\"patch_6\">\n    <path d=\"M 52.160938 10.999219 \nL 386.960938 10.999219 \n\" style=\"fill:none;stroke:#000000;stroke-linecap:square;stroke-linejoin:miter;stroke-width:0.8;\"/>\n   </g>\n   <g id=\"legend_1\">\n    <g id=\"patch_7\">\n     <path d=\"M 238.596875 92.389844 \nL 379.960938 92.389844 \nQ 381.960938 92.389844 381.960938 90.389844 \nL 381.960938 17.999219 \nQ 381.960938 15.999219 379.960938 15.999219 \nL 238.596875 15.999219 \nQ 236.596875 15.999219 236.596875 17.999219 \nL 236.596875 90.389844 \nQ 236.596875 92.389844 238.596875 92.389844 \nz\n\" style=\"fill:#ffffff;opacity:0.8;stroke:#cccccc;stroke-linejoin:miter;\"/>\n    </g>\n    <g id=\"line2d_22\">\n     <path d=\"M 240.596875 24.097656 \nL 260.596875 24.097656 \n\" style=\"fill:none;stroke:#0000ff;stroke-dasharray:5.55,2.4;stroke-dashoffset:0;stroke-opacity:0.5;stroke-width:1.5;\"/>\n    </g>\n    <g id=\"line2d_23\"/>\n    <g id=\"text_14\">\n     <!-- Upper bound -->\n     <g transform=\"translate(268.596875 27.597656)scale(0.1 -0.1)\">\n      <defs>\n       <path d=\"M 8.6875 72.90625 \nL 18.609375 72.90625 \nL 18.609375 28.609375 \nQ 18.609375 16.890625 22.84375 11.734375 \nQ 27.09375 6.59375 36.625 6.59375 \nQ 46.09375 6.59375 50.34375 11.734375 \nQ 54.59375 16.890625 54.59375 28.609375 \nL 54.59375 72.90625 \nL 64.5 72.90625 \nL 64.5 27.390625 \nQ 64.5 13.140625 57.4375 5.859375 \nQ 50.390625 -1.421875 36.625 -1.421875 \nQ 22.796875 -1.421875 15.734375 5.859375 \nQ 8.6875 13.140625 8.6875 27.390625 \nz\n\" id=\"DejaVuSans-85\"/>\n       <path d=\"M 18.109375 8.203125 \nL 18.109375 -20.796875 \nL 9.078125 -20.796875 \nL 9.078125 54.6875 \nL 18.109375 54.6875 \nL 18.109375 46.390625 \nQ 20.953125 51.265625 25.265625 53.625 \nQ 29.59375 56 35.59375 56 \nQ 45.5625 56 51.78125 48.09375 \nQ 58.015625 40.1875 58.015625 27.296875 \nQ 58.015625 14.40625 51.78125 6.484375 \nQ 45.5625 -1.421875 35.59375 -1.421875 \nQ 29.59375 -1.421875 25.265625 0.953125 \nQ 20.953125 3.328125 18.109375 8.203125 \nz\nM 48.6875 27.296875 \nQ 48.6875 37.203125 44.609375 42.84375 \nQ 40.53125 48.484375 33.40625 48.484375 \nQ 26.265625 48.484375 22.1875 42.84375 \nQ 18.109375 37.203125 18.109375 27.296875 \nQ 18.109375 17.390625 22.1875 11.75 \nQ 26.265625 6.109375 33.40625 6.109375 \nQ 40.53125 6.109375 44.609375 11.75 \nQ 48.6875 17.390625 48.6875 27.296875 \nz\n\" id=\"DejaVuSans-112\"/>\n       <path d=\"M 56.203125 29.59375 \nL 56.203125 25.203125 \nL 14.890625 25.203125 \nQ 15.484375 15.921875 20.484375 11.0625 \nQ 25.484375 6.203125 34.421875 6.203125 \nQ 39.59375 6.203125 44.453125 7.46875 \nQ 49.3125 8.734375 54.109375 11.28125 \nL 54.109375 2.78125 \nQ 49.265625 0.734375 44.1875 -0.34375 \nQ 39.109375 -1.421875 33.890625 -1.421875 \nQ 20.796875 -1.421875 13.15625 6.1875 \nQ 5.515625 13.8125 5.515625 26.8125 \nQ 5.515625 40.234375 12.765625 48.109375 \nQ 20.015625 56 32.328125 56 \nQ 43.359375 56 49.78125 48.890625 \nQ 56.203125 41.796875 56.203125 29.59375 \nz\nM 47.21875 32.234375 \nQ 47.125 39.59375 43.09375 43.984375 \nQ 39.0625 48.390625 32.421875 48.390625 \nQ 24.90625 48.390625 20.390625 44.140625 \nQ 15.875 39.890625 15.1875 32.171875 \nz\n\" id=\"DejaVuSans-101\"/>\n       <path d=\"M 41.109375 46.296875 \nQ 39.59375 47.171875 37.8125 47.578125 \nQ 36.03125 48 33.890625 48 \nQ 26.265625 48 22.1875 43.046875 \nQ 18.109375 38.09375 18.109375 28.8125 \nL 18.109375 0 \nL 9.078125 0 \nL 9.078125 54.6875 \nL 18.109375 54.6875 \nL 18.109375 46.1875 \nQ 20.953125 51.171875 25.484375 53.578125 \nQ 30.03125 56 36.53125 56 \nQ 37.453125 56 38.578125 55.875 \nQ 39.703125 55.765625 41.0625 55.515625 \nz\n\" id=\"DejaVuSans-114\"/>\n       <path id=\"DejaVuSans-32\"/>\n       <path d=\"M 48.6875 27.296875 \nQ 48.6875 37.203125 44.609375 42.84375 \nQ 40.53125 48.484375 33.40625 48.484375 \nQ 26.265625 48.484375 22.1875 42.84375 \nQ 18.109375 37.203125 18.109375 27.296875 \nQ 18.109375 17.390625 22.1875 11.75 \nQ 26.265625 6.109375 33.40625 6.109375 \nQ 40.53125 6.109375 44.609375 11.75 \nQ 48.6875 17.390625 48.6875 27.296875 \nz\nM 18.109375 46.390625 \nQ 20.953125 51.265625 25.265625 53.625 \nQ 29.59375 56 35.59375 56 \nQ 45.5625 56 51.78125 48.09375 \nQ 58.015625 40.1875 58.015625 27.296875 \nQ 58.015625 14.40625 51.78125 6.484375 \nQ 45.5625 -1.421875 35.59375 -1.421875 \nQ 29.59375 -1.421875 25.265625 0.953125 \nQ 20.953125 3.328125 18.109375 8.203125 \nL 18.109375 0 \nL 9.078125 0 \nL 9.078125 75.984375 \nL 18.109375 75.984375 \nz\n\" id=\"DejaVuSans-98\"/>\n       <path d=\"M 30.609375 48.390625 \nQ 23.390625 48.390625 19.1875 42.75 \nQ 14.984375 37.109375 14.984375 27.296875 \nQ 14.984375 17.484375 19.15625 11.84375 \nQ 23.34375 6.203125 30.609375 6.203125 \nQ 37.796875 6.203125 41.984375 11.859375 \nQ 46.1875 17.53125 46.1875 27.296875 \nQ 46.1875 37.015625 41.984375 42.703125 \nQ 37.796875 48.390625 30.609375 48.390625 \nz\nM 30.609375 56 \nQ 42.328125 56 49.015625 48.375 \nQ 55.71875 40.765625 55.71875 27.296875 \nQ 55.71875 13.875 49.015625 6.21875 \nQ 42.328125 -1.421875 30.609375 -1.421875 \nQ 18.84375 -1.421875 12.171875 6.21875 \nQ 5.515625 13.875 5.515625 27.296875 \nQ 5.515625 40.765625 12.171875 48.375 \nQ 18.84375 56 30.609375 56 \nz\n\" id=\"DejaVuSans-111\"/>\n       <path d=\"M 8.5 21.578125 \nL 8.5 54.6875 \nL 17.484375 54.6875 \nL 17.484375 21.921875 \nQ 17.484375 14.15625 20.5 10.265625 \nQ 23.53125 6.390625 29.59375 6.390625 \nQ 36.859375 6.390625 41.078125 11.03125 \nQ 45.3125 15.671875 45.3125 23.6875 \nL 45.3125 54.6875 \nL 54.296875 54.6875 \nL 54.296875 0 \nL 45.3125 0 \nL 45.3125 8.40625 \nQ 42.046875 3.421875 37.71875 1 \nQ 33.40625 -1.421875 27.6875 -1.421875 \nQ 18.265625 -1.421875 13.375 4.4375 \nQ 8.5 10.296875 8.5 21.578125 \nz\nM 31.109375 56 \nz\n\" id=\"DejaVuSans-117\"/>\n       <path d=\"M 54.890625 33.015625 \nL 54.890625 0 \nL 45.90625 0 \nL 45.90625 32.71875 \nQ 45.90625 40.484375 42.875 44.328125 \nQ 39.84375 48.1875 33.796875 48.1875 \nQ 26.515625 48.1875 22.3125 43.546875 \nQ 18.109375 38.921875 18.109375 30.90625 \nL 18.109375 0 \nL 9.078125 0 \nL 9.078125 54.6875 \nL 18.109375 54.6875 \nL 18.109375 46.1875 \nQ 21.34375 51.125 25.703125 53.5625 \nQ 30.078125 56 35.796875 56 \nQ 45.21875 56 50.046875 50.171875 \nQ 54.890625 44.34375 54.890625 33.015625 \nz\n\" id=\"DejaVuSans-110\"/>\n       <path d=\"M 45.40625 46.390625 \nL 45.40625 75.984375 \nL 54.390625 75.984375 \nL 54.390625 0 \nL 45.40625 0 \nL 45.40625 8.203125 \nQ 42.578125 3.328125 38.25 0.953125 \nQ 33.9375 -1.421875 27.875 -1.421875 \nQ 17.96875 -1.421875 11.734375 6.484375 \nQ 5.515625 14.40625 5.515625 27.296875 \nQ 5.515625 40.1875 11.734375 48.09375 \nQ 17.96875 56 27.875 56 \nQ 33.9375 56 38.25 53.625 \nQ 42.578125 51.265625 45.40625 46.390625 \nz\nM 14.796875 27.296875 \nQ 14.796875 17.390625 18.875 11.75 \nQ 22.953125 6.109375 30.078125 6.109375 \nQ 37.203125 6.109375 41.296875 11.75 \nQ 45.40625 17.390625 45.40625 27.296875 \nQ 45.40625 37.203125 41.296875 42.84375 \nQ 37.203125 48.484375 30.078125 48.484375 \nQ 22.953125 48.484375 18.875 42.84375 \nQ 14.796875 37.203125 14.796875 27.296875 \nz\n\" id=\"DejaVuSans-100\"/>\n      </defs>\n      <use xlink:href=\"#DejaVuSans-85\"/>\n      <use x=\"73.193359\" xlink:href=\"#DejaVuSans-112\"/>\n      <use x=\"136.669922\" xlink:href=\"#DejaVuSans-112\"/>\n      <use x=\"200.146484\" xlink:href=\"#DejaVuSans-101\"/>\n      <use x=\"261.669922\" xlink:href=\"#DejaVuSans-114\"/>\n      <use x=\"302.783203\" xlink:href=\"#DejaVuSans-32\"/>\n      <use x=\"334.570312\" xlink:href=\"#DejaVuSans-98\"/>\n      <use x=\"398.046875\" xlink:href=\"#DejaVuSans-111\"/>\n      <use x=\"459.228516\" xlink:href=\"#DejaVuSans-117\"/>\n      <use x=\"522.607422\" xlink:href=\"#DejaVuSans-110\"/>\n      <use x=\"585.986328\" xlink:href=\"#DejaVuSans-100\"/>\n     </g>\n    </g>\n    <g id=\"line2d_24\">\n     <path d=\"M 240.596875 38.775781 \nL 260.596875 38.775781 \n\" style=\"fill:none;stroke:#d62728;stroke-dasharray:5.55,2.4;stroke-dashoffset:0;stroke-opacity:0.5;stroke-width:1.5;\"/>\n    </g>\n    <g id=\"line2d_25\"/>\n    <g id=\"text_15\">\n     <!-- Lower bound -->\n     <g transform=\"translate(268.596875 42.275781)scale(0.1 -0.1)\">\n      <defs>\n       <path d=\"M 9.8125 72.90625 \nL 19.671875 72.90625 \nL 19.671875 8.296875 \nL 55.171875 8.296875 \nL 55.171875 0 \nL 9.8125 0 \nz\n\" id=\"DejaVuSans-76\"/>\n       <path d=\"M 4.203125 54.6875 \nL 13.1875 54.6875 \nL 24.421875 12.015625 \nL 35.59375 54.6875 \nL 46.1875 54.6875 \nL 57.421875 12.015625 \nL 68.609375 54.6875 \nL 77.59375 54.6875 \nL 63.28125 0 \nL 52.6875 0 \nL 40.921875 44.828125 \nL 29.109375 0 \nL 18.5 0 \nz\n\" id=\"DejaVuSans-119\"/>\n      </defs>\n      <use xlink:href=\"#DejaVuSans-76\"/>\n      <use x=\"53.962891\" xlink:href=\"#DejaVuSans-111\"/>\n      <use x=\"115.144531\" xlink:href=\"#DejaVuSans-119\"/>\n      <use x=\"196.931641\" xlink:href=\"#DejaVuSans-101\"/>\n      <use x=\"258.455078\" xlink:href=\"#DejaVuSans-114\"/>\n      <use x=\"299.568359\" xlink:href=\"#DejaVuSans-32\"/>\n      <use x=\"331.355469\" xlink:href=\"#DejaVuSans-98\"/>\n      <use x=\"394.832031\" xlink:href=\"#DejaVuSans-111\"/>\n      <use x=\"456.013672\" xlink:href=\"#DejaVuSans-117\"/>\n      <use x=\"519.392578\" xlink:href=\"#DejaVuSans-110\"/>\n      <use x=\"582.771484\" xlink:href=\"#DejaVuSans-100\"/>\n     </g>\n    </g>\n    <g id=\"line2d_26\">\n     <path d=\"M 240.596875 53.453906 \nL 260.596875 53.453906 \n\" style=\"fill:none;stroke:#1f77b4;stroke-linecap:square;stroke-width:1.5;\"/>\n    </g>\n    <g id=\"line2d_27\"/>\n    <g id=\"text_16\">\n     <!-- True function -->\n     <g transform=\"translate(268.596875 56.953906)scale(0.1 -0.1)\">\n      <defs>\n       <path d=\"M -0.296875 72.90625 \nL 61.375 72.90625 \nL 61.375 64.59375 \nL 35.5 64.59375 \nL 35.5 0 \nL 25.59375 0 \nL 25.59375 64.59375 \nL -0.296875 64.59375 \nz\n\" id=\"DejaVuSans-84\"/>\n       <path d=\"M 37.109375 75.984375 \nL 37.109375 68.5 \nL 28.515625 68.5 \nQ 23.6875 68.5 21.796875 66.546875 \nQ 19.921875 64.59375 19.921875 59.515625 \nL 19.921875 54.6875 \nL 34.71875 54.6875 \nL 34.71875 47.703125 \nL 19.921875 47.703125 \nL 19.921875 0 \nL 10.890625 0 \nL 10.890625 47.703125 \nL 2.296875 47.703125 \nL 2.296875 54.6875 \nL 10.890625 54.6875 \nL 10.890625 58.5 \nQ 10.890625 67.625 15.140625 71.796875 \nQ 19.390625 75.984375 28.609375 75.984375 \nz\n\" id=\"DejaVuSans-102\"/>\n       <path d=\"M 48.78125 52.59375 \nL 48.78125 44.1875 \nQ 44.96875 46.296875 41.140625 47.34375 \nQ 37.3125 48.390625 33.40625 48.390625 \nQ 24.65625 48.390625 19.8125 42.84375 \nQ 14.984375 37.3125 14.984375 27.296875 \nQ 14.984375 17.28125 19.8125 11.734375 \nQ 24.65625 6.203125 33.40625 6.203125 \nQ 37.3125 6.203125 41.140625 7.25 \nQ 44.96875 8.296875 48.78125 10.40625 \nL 48.78125 2.09375 \nQ 45.015625 0.34375 40.984375 -0.53125 \nQ 36.96875 -1.421875 32.421875 -1.421875 \nQ 20.0625 -1.421875 12.78125 6.34375 \nQ 5.515625 14.109375 5.515625 27.296875 \nQ 5.515625 40.671875 12.859375 48.328125 \nQ 20.21875 56 33.015625 56 \nQ 37.15625 56 41.109375 55.140625 \nQ 45.0625 54.296875 48.78125 52.59375 \nz\n\" id=\"DejaVuSans-99\"/>\n       <path d=\"M 18.3125 70.21875 \nL 18.3125 54.6875 \nL 36.8125 54.6875 \nL 36.8125 47.703125 \nL 18.3125 47.703125 \nL 18.3125 18.015625 \nQ 18.3125 11.328125 20.140625 9.421875 \nQ 21.96875 7.515625 27.59375 7.515625 \nL 36.8125 7.515625 \nL 36.8125 0 \nL 27.59375 0 \nQ 17.1875 0 13.234375 3.875 \nQ 9.28125 7.765625 9.28125 18.015625 \nL 9.28125 47.703125 \nL 2.6875 47.703125 \nL 2.6875 54.6875 \nL 9.28125 54.6875 \nL 9.28125 70.21875 \nz\n\" id=\"DejaVuSans-116\"/>\n       <path d=\"M 9.421875 54.6875 \nL 18.40625 54.6875 \nL 18.40625 0 \nL 9.421875 0 \nz\nM 9.421875 75.984375 \nL 18.40625 75.984375 \nL 18.40625 64.59375 \nL 9.421875 64.59375 \nz\n\" id=\"DejaVuSans-105\"/>\n      </defs>\n      <use xlink:href=\"#DejaVuSans-84\"/>\n      <use x=\"46.333984\" xlink:href=\"#DejaVuSans-114\"/>\n      <use x=\"87.447266\" xlink:href=\"#DejaVuSans-117\"/>\n      <use x=\"150.826172\" xlink:href=\"#DejaVuSans-101\"/>\n      <use x=\"212.349609\" xlink:href=\"#DejaVuSans-32\"/>\n      <use x=\"244.136719\" xlink:href=\"#DejaVuSans-102\"/>\n      <use x=\"279.341797\" xlink:href=\"#DejaVuSans-117\"/>\n      <use x=\"342.720703\" xlink:href=\"#DejaVuSans-110\"/>\n      <use x=\"406.099609\" xlink:href=\"#DejaVuSans-99\"/>\n      <use x=\"461.080078\" xlink:href=\"#DejaVuSans-116\"/>\n      <use x=\"500.289062\" xlink:href=\"#DejaVuSans-105\"/>\n      <use x=\"528.072266\" xlink:href=\"#DejaVuSans-111\"/>\n      <use x=\"589.253906\" xlink:href=\"#DejaVuSans-110\"/>\n     </g>\n    </g>\n    <g id=\"PathCollection_2\">\n     <g>\n      <use style=\"fill-opacity:0.5;stroke:#000000;stroke-opacity:0.5;stroke-width:1.5;\" x=\"250.596875\" xlink:href=\"#m42f98cbd29\" y=\"69.007031\"/>\n     </g>\n    </g>\n    <g id=\"text_17\">\n     <!-- Training set -->\n     <g transform=\"translate(268.596875 71.632031)scale(0.1 -0.1)\">\n      <defs>\n       <path d=\"M 34.28125 27.484375 \nQ 23.390625 27.484375 19.1875 25 \nQ 14.984375 22.515625 14.984375 16.5 \nQ 14.984375 11.71875 18.140625 8.90625 \nQ 21.296875 6.109375 26.703125 6.109375 \nQ 34.1875 6.109375 38.703125 11.40625 \nQ 43.21875 16.703125 43.21875 25.484375 \nL 43.21875 27.484375 \nz\nM 52.203125 31.203125 \nL 52.203125 0 \nL 43.21875 0 \nL 43.21875 8.296875 \nQ 40.140625 3.328125 35.546875 0.953125 \nQ 30.953125 -1.421875 24.3125 -1.421875 \nQ 15.921875 -1.421875 10.953125 3.296875 \nQ 6 8.015625 6 15.921875 \nQ 6 25.140625 12.171875 29.828125 \nQ 18.359375 34.515625 30.609375 34.515625 \nL 43.21875 34.515625 \nL 43.21875 35.40625 \nQ 43.21875 41.609375 39.140625 45 \nQ 35.0625 48.390625 27.6875 48.390625 \nQ 23 48.390625 18.546875 47.265625 \nQ 14.109375 46.140625 10.015625 43.890625 \nL 10.015625 52.203125 \nQ 14.9375 54.109375 19.578125 55.046875 \nQ 24.21875 56 28.609375 56 \nQ 40.484375 56 46.34375 49.84375 \nQ 52.203125 43.703125 52.203125 31.203125 \nz\n\" id=\"DejaVuSans-97\"/>\n       <path d=\"M 45.40625 27.984375 \nQ 45.40625 37.75 41.375 43.109375 \nQ 37.359375 48.484375 30.078125 48.484375 \nQ 22.859375 48.484375 18.828125 43.109375 \nQ 14.796875 37.75 14.796875 27.984375 \nQ 14.796875 18.265625 18.828125 12.890625 \nQ 22.859375 7.515625 30.078125 7.515625 \nQ 37.359375 7.515625 41.375 12.890625 \nQ 45.40625 18.265625 45.40625 27.984375 \nz\nM 54.390625 6.78125 \nQ 54.390625 -7.171875 48.1875 -13.984375 \nQ 42 -20.796875 29.203125 -20.796875 \nQ 24.46875 -20.796875 20.265625 -20.09375 \nQ 16.0625 -19.390625 12.109375 -17.921875 \nL 12.109375 -9.1875 \nQ 16.0625 -11.328125 19.921875 -12.34375 \nQ 23.78125 -13.375 27.78125 -13.375 \nQ 36.625 -13.375 41.015625 -8.765625 \nQ 45.40625 -4.15625 45.40625 5.171875 \nL 45.40625 9.625 \nQ 42.625 4.78125 38.28125 2.390625 \nQ 33.9375 0 27.875 0 \nQ 17.828125 0 11.671875 7.65625 \nQ 5.515625 15.328125 5.515625 27.984375 \nQ 5.515625 40.671875 11.671875 48.328125 \nQ 17.828125 56 27.875 56 \nQ 33.9375 56 38.28125 53.609375 \nQ 42.625 51.21875 45.40625 46.390625 \nL 45.40625 54.6875 \nL 54.390625 54.6875 \nz\n\" id=\"DejaVuSans-103\"/>\n       <path d=\"M 44.28125 53.078125 \nL 44.28125 44.578125 \nQ 40.484375 46.53125 36.375 47.5 \nQ 32.28125 48.484375 27.875 48.484375 \nQ 21.1875 48.484375 17.84375 46.4375 \nQ 14.5 44.390625 14.5 40.28125 \nQ 14.5 37.15625 16.890625 35.375 \nQ 19.28125 33.59375 26.515625 31.984375 \nL 29.59375 31.296875 \nQ 39.15625 29.25 43.1875 25.515625 \nQ 47.21875 21.78125 47.21875 15.09375 \nQ 47.21875 7.46875 41.1875 3.015625 \nQ 35.15625 -1.421875 24.609375 -1.421875 \nQ 20.21875 -1.421875 15.453125 -0.5625 \nQ 10.6875 0.296875 5.421875 2 \nL 5.421875 11.28125 \nQ 10.40625 8.6875 15.234375 7.390625 \nQ 20.0625 6.109375 24.8125 6.109375 \nQ 31.15625 6.109375 34.5625 8.28125 \nQ 37.984375 10.453125 37.984375 14.40625 \nQ 37.984375 18.0625 35.515625 20.015625 \nQ 33.0625 21.96875 24.703125 23.78125 \nL 21.578125 24.515625 \nQ 13.234375 26.265625 9.515625 29.90625 \nQ 5.8125 33.546875 5.8125 39.890625 \nQ 5.8125 47.609375 11.28125 51.796875 \nQ 16.75 56 26.8125 56 \nQ 31.78125 56 36.171875 55.265625 \nQ 40.578125 54.546875 44.28125 53.078125 \nz\n\" id=\"DejaVuSans-115\"/>\n      </defs>\n      <use xlink:href=\"#DejaVuSans-84\"/>\n      <use x=\"46.333984\" xlink:href=\"#DejaVuSans-114\"/>\n      <use x=\"87.447266\" xlink:href=\"#DejaVuSans-97\"/>\n      <use x=\"148.726562\" xlink:href=\"#DejaVuSans-105\"/>\n      <use x=\"176.509766\" xlink:href=\"#DejaVuSans-110\"/>\n      <use x=\"239.888672\" xlink:href=\"#DejaVuSans-105\"/>\n      <use x=\"267.671875\" xlink:href=\"#DejaVuSans-110\"/>\n      <use x=\"331.050781\" xlink:href=\"#DejaVuSans-103\"/>\n      <use x=\"394.527344\" xlink:href=\"#DejaVuSans-32\"/>\n      <use x=\"426.314453\" xlink:href=\"#DejaVuSans-115\"/>\n      <use x=\"478.414062\" xlink:href=\"#DejaVuSans-101\"/>\n      <use x=\"539.9375\" xlink:href=\"#DejaVuSans-116\"/>\n     </g>\n    </g>\n    <g id=\"patch_8\">\n     <path d=\"M 240.596875 86.310156 \nL 260.596875 86.310156 \nL 260.596875 79.310156 \nL 240.596875 79.310156 \nz\n\" style=\"fill:#ff7f0e;opacity:0.4;stroke:#ff7f0e;stroke-linejoin:miter;\"/>\n    </g>\n    <g id=\"text_18\">\n     <!-- Epistemic uncertainty -->\n     <g transform=\"translate(268.596875 86.310156)scale(0.1 -0.1)\">\n      <defs>\n       <path d=\"M 9.8125 72.90625 \nL 55.90625 72.90625 \nL 55.90625 64.59375 \nL 19.671875 64.59375 \nL 19.671875 43.015625 \nL 54.390625 43.015625 \nL 54.390625 34.71875 \nL 19.671875 34.71875 \nL 19.671875 8.296875 \nL 56.78125 8.296875 \nL 56.78125 0 \nL 9.8125 0 \nz\n\" id=\"DejaVuSans-69\"/>\n       <path d=\"M 52 44.1875 \nQ 55.375 50.25 60.0625 53.125 \nQ 64.75 56 71.09375 56 \nQ 79.640625 56 84.28125 50.015625 \nQ 88.921875 44.046875 88.921875 33.015625 \nL 88.921875 0 \nL 79.890625 0 \nL 79.890625 32.71875 \nQ 79.890625 40.578125 77.09375 44.375 \nQ 74.3125 48.1875 68.609375 48.1875 \nQ 61.625 48.1875 57.5625 43.546875 \nQ 53.515625 38.921875 53.515625 30.90625 \nL 53.515625 0 \nL 44.484375 0 \nL 44.484375 32.71875 \nQ 44.484375 40.625 41.703125 44.40625 \nQ 38.921875 48.1875 33.109375 48.1875 \nQ 26.21875 48.1875 22.15625 43.53125 \nQ 18.109375 38.875 18.109375 30.90625 \nL 18.109375 0 \nL 9.078125 0 \nL 9.078125 54.6875 \nL 18.109375 54.6875 \nL 18.109375 46.1875 \nQ 21.1875 51.21875 25.484375 53.609375 \nQ 29.78125 56 35.6875 56 \nQ 41.65625 56 45.828125 52.96875 \nQ 50 49.953125 52 44.1875 \nz\n\" id=\"DejaVuSans-109\"/>\n       <path d=\"M 32.171875 -5.078125 \nQ 28.375 -14.84375 24.75 -17.8125 \nQ 21.140625 -20.796875 15.09375 -20.796875 \nL 7.90625 -20.796875 \nL 7.90625 -13.28125 \nL 13.1875 -13.28125 \nQ 16.890625 -13.28125 18.9375 -11.515625 \nQ 21 -9.765625 23.484375 -3.21875 \nL 25.09375 0.875 \nL 2.984375 54.6875 \nL 12.5 54.6875 \nL 29.59375 11.921875 \nL 46.6875 54.6875 \nL 56.203125 54.6875 \nz\n\" id=\"DejaVuSans-121\"/>\n      </defs>\n      <use xlink:href=\"#DejaVuSans-69\"/>\n      <use x=\"63.183594\" xlink:href=\"#DejaVuSans-112\"/>\n      <use x=\"126.660156\" xlink:href=\"#DejaVuSans-105\"/>\n      <use x=\"154.443359\" xlink:href=\"#DejaVuSans-115\"/>\n      <use x=\"206.542969\" xlink:href=\"#DejaVuSans-116\"/>\n      <use x=\"245.751953\" xlink:href=\"#DejaVuSans-101\"/>\n      <use x=\"307.275391\" xlink:href=\"#DejaVuSans-109\"/>\n      <use x=\"404.6875\" xlink:href=\"#DejaVuSans-105\"/>\n      <use x=\"432.470703\" xlink:href=\"#DejaVuSans-99\"/>\n      <use x=\"487.451172\" xlink:href=\"#DejaVuSans-32\"/>\n      <use x=\"519.238281\" xlink:href=\"#DejaVuSans-117\"/>\n      <use x=\"582.617188\" xlink:href=\"#DejaVuSans-110\"/>\n      <use x=\"645.996094\" xlink:href=\"#DejaVuSans-99\"/>\n      <use x=\"700.976562\" xlink:href=\"#DejaVuSans-101\"/>\n      <use x=\"762.5\" xlink:href=\"#DejaVuSans-114\"/>\n      <use x=\"803.613281\" xlink:href=\"#DejaVuSans-116\"/>\n      <use x=\"842.822266\" xlink:href=\"#DejaVuSans-97\"/>\n      <use x=\"904.101562\" xlink:href=\"#DejaVuSans-105\"/>\n      <use x=\"931.884766\" xlink:href=\"#DejaVuSans-110\"/>\n      <use x=\"995.263672\" xlink:href=\"#DejaVuSans-116\"/>\n      <use x=\"1034.472656\" xlink:href=\"#DejaVuSans-121\"/>\n     </g>\n    </g>\n   </g>\n  </g>\n </g>\n <defs>\n  <clipPath id=\"p1b24ccc57f\">\n   <rect height=\"277.2\" width=\"334.8\" x=\"52.160938\" y=\"10.999219\"/>\n  </clipPath>\n </defs>\n</svg>\n",
      "text/plain": [
       "<Figure size 600x500 with 1 Axes>"
      ]
     },
     "execution_count": 239,
     "metadata": {
     },
     "output_type": "execute_result"
    }
   ],
   "source": [
    "y_up=fun_UB(torch.linspace(0.08, 1, 200))\n",
    "x_test=torch.linspace(0.08, 1, 200)\n",
    "samples = []\n",
    "for i in range(50):\n",
    "#     preds = (best_net.forward(torch.linspace(0, 1, 200).cuda())[0] ) \n",
    "    preds = (net.network.forward(torch.linspace(0, 1, 200))[0] ) \n",
    "\n",
    "    samples.append(preds.cpu().data.numpy()[:, 0])\n",
    "\n",
    "samples = np.array(samples)\n",
    "means = samples.mean(axis = 0)\n",
    "\n",
    "aleatoric = best_net.log_noise.exp().cpu().data.numpy()\n",
    "epistemic = samples.var(axis = 0)**0.5\n",
    "total_unc = (aleatoric**2 + epistemic**2)**0.5\n",
    "\n",
    "\n",
    "samples = []\n",
    "for i in range(500):\n",
    "    preds = (net.network.forward(torch.linspace(0.08, 1, 200).to(device))[0] ) \n",
    "    samples.append(preds.cpu().data.numpy()[:, 0])\n",
    "\n",
    "samples = np.array(samples)\n",
    "means = samples.mean(axis = 0)\n",
    "\n",
    "aleatoric = net.network.log_noise.exp().cpu().data.numpy()\n",
    "epistemic = samples.var(axis = 0)**0.5\n",
    "total_unc = (aleatoric**2 + epistemic**2)**0.5\n",
    "\n",
    "\n",
    "c = ['#1f77b4', '#ff7f0e', '#2ca02c', '#d62728', '#9467bd',\n",
    "     '#8c564b', '#e377c2', '#7f7f7f', '#bcbd22', '#17becf']\n",
    "\n",
    "plt.figure(figsize = (6, 5))\n",
    "plt.style.use('default')\n",
    "plt.scatter(x_train , y_train , s = 10, marker = 'x', color = 'black', alpha = 0.5,label='Training set')\n",
    "plt.fill_between(np.linspace(0.08, 1, 200), means - epistemic, means + epistemic, color = c[1], alpha = 0.4, label = 'Epistemic uncertainty')\n",
    "plt.plot(np.linspace(0.08, 1, 200), means, color = 'black', linewidth = 1)\n",
    "plt.plot(x_test.numpy(),y_up.numpy(),color='blue', linestyle='--',alpha=0.5,label='Upper bound')\n",
    "plt.axhline(y=0., color=c[3], linestyle='--',alpha=0.5,label='Lower bound')\n",
    "plt.plot(x_test.numpy(),fun(x_test.numpy()),label='True function')\n",
    "\n",
    "\n",
    "plt.xlim([0.08, 1])\n",
    "plt.ylim([-0.5,2])\n",
    "plt.xlabel('$x$', fontsize=10)\n",
    "plt.ylabel('$y$', fontsize=10)\n",
    "\n",
    "# plt.title('With Soft Constraints', fontsize=10)\n",
    "plt.tick_params(labelsize=10)\n",
    "plt.gca().yaxis.grid(alpha=0.2)\n",
    "plt.legend()\n",
    "plt.savefig('./aleatoric/results/soft_constraint_1_1_1_new.jpg')\n",
    "plt.show()\n",
    "\n",
    "\n",
    "\n",
    "\n",
    "\n",
    "\n",
    "\n"
   ]
  },
  {
   "cell_type": "code",
   "execution_count": 240,
   "metadata": {
    "collapsed": false
   },
   "outputs": [
   ],
   "source": [
    "def violate(result):\n",
    "    #first constraint:\n",
    "    diff1=result-fun_UB(torch.linspace(0.08, 1, 200).cpu()).numpy()  #ub\n",
    "    diff2=torch.FloatTensor(constant_function(0)(torch.linspace(0.08, 1, 200).cpu())).numpy()-result#lb\n",
    "    diff1[diff1<0.0001]=0\n",
    "    diff2[diff2<0.0001]=0\n",
    "    sample_output_0=result[:-1]\n",
    "    sample_output_1=result[1:]\n",
    "    diff_vector=sample_output_0-sample_output_1\n",
    "    diff_vector[diff_vector<0.0001]=0\n",
    "    v1=diff1.mean\n",
    "    print(diff1.shape)\n",
    "    v1,v2,v3=diff1.mean(),diff2.mean(),diff_vector.mean()\n",
    "    c1,c2,c3=np.count_nonzero(diff1>0.0001), np.count_nonzero(diff2>0.0001),np.count_nonzero(diff_vector>0.0001)\n",
    "    return v1, v2, v3,c1,c2,c3\n",
    "\n",
    "\n"
   ]
  },
  {
   "cell_type": "code",
   "execution_count": 241,
   "metadata": {
    "collapsed": false
   },
   "outputs": [
    {
     "name": "stdout",
     "output_type": "stream",
     "text": [
      "(200,)\n",
      "(0.0, 0.0, 0.0019861187, 0, 0, 84)\n",
      "MSE: tensor(0.0361, dtype=torch.float64)\n",
      "STD:  0.04708835\n"
     ]
    }
   ],
   "source": [
    "print(violate(means))\n",
    "x_test = np.linspace(0.08, 1, 200)\n",
    "y_true = fun(x_test)\n",
    "MSE=F.mse_loss(torch.tensor(means),torch.tensor(y_true))\n",
    "print('MSE:',MSE)\n",
    "pred_std=np.mean(np.var(samples,axis=0)**0.5)\n",
    "print('STD: ',pred_std)"
   ]
  },
  {
   "cell_type": "code",
   "execution_count": 0,
   "metadata": {
    "collapsed": false
   },
   "outputs": [
   ],
   "source": [
   ]
  },
  {
   "cell_type": "code",
   "execution_count": 0,
   "metadata": {
    "collapsed": false
   },
   "outputs": [
   ],
   "source": [
   ]
  }
 ],
 "metadata": {
  "kernelspec": {
   "display_name": "py37",
   "language": "python",
   "name": "py37",
   "resource_dir": "/projects/c7a030ad-455b-4040-a358-c6bf1b08bee4/.local/share/jupyter/kernels/py37"
  },
  "language_info": {
   "codemirror_mode": {
    "name": "ipython",
    "version": 3
   },
   "file_extension": ".py",
   "mimetype": "text/x-python",
   "name": "python",
   "nbconvert_exporter": "python",
   "pygments_lexer": "ipython3",
   "version": "3.7.10"
  }
 },
 "nbformat": 4,
 "nbformat_minor": 4
}